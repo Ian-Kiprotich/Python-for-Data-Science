{
 "cells": [
  {
   "cell_type": "markdown",
   "id": "5f12a758",
   "metadata": {},
   "source": [
    "# Python"
   ]
  },
  {
   "cell_type": "markdown",
   "id": "973feaac",
   "metadata": {},
   "source": [
    "Python is an interpreted, object-oriented, high-level programming language.\n"
   ]
  },
  {
   "cell_type": "markdown",
   "id": "2b9b27cf",
   "metadata": {},
   "source": [
    "Its high-level built in data structures, combined with dynamic typing and dynamic binding, make it very attractive for Rapid Application Development, as well as for use as a scripting or glue language to connect existing components together."
   ]
  },
  {
   "cell_type": "markdown",
   "id": "fc3babcb",
   "metadata": {},
   "source": [
    "Python's simple, easy to learn syntax emphasizes readability and therefore reduces the cost of program maintenance."
   ]
  },
  {
   "cell_type": "markdown",
   "id": "098f1c5b",
   "metadata": {},
   "source": [
    "Python supports modules and packages, which encourages program modularity and code reuse."
   ]
  },
  {
   "cell_type": "markdown",
   "id": "43a699ed",
   "metadata": {},
   "source": [
    "## First Python Code"
   ]
  },
  {
   "cell_type": "code",
   "execution_count": null,
   "id": "f239f836",
   "metadata": {},
   "outputs": [],
   "source": [
    "print(4+5)"
   ]
  },
  {
   "cell_type": "code",
   "execution_count": null,
   "id": "00373f43-33d9-46b0-b989-c432d62fe16e",
   "metadata": {},
   "outputs": [],
   "source": [
    "print(\"Hello, Good Morning\")"
   ]
  },
  {
   "cell_type": "markdown",
   "id": "7c25f271",
   "metadata": {},
   "source": [
    "## Python Variables"
   ]
  },
  {
   "cell_type": "markdown",
   "id": "fc5b1905",
   "metadata": {},
   "source": [
    "A container that stores a value"
   ]
  },
  {
   "cell_type": "markdown",
   "id": "5a965dce",
   "metadata": {},
   "source": [
    "### Creating a Variable\n"
   ]
  },
  {
   "cell_type": "markdown",
   "id": "e3173b93",
   "metadata": {},
   "source": [
    "Python has no command for declaring a variable.\n",
    "\n",
    "A variable is created the moment you first assign a value to it."
   ]
  },
  {
   "cell_type": "code",
   "execution_count": null,
   "id": "799e5b05",
   "metadata": {},
   "outputs": [],
   "source": [
    "a=10\n",
    "b='ten'"
   ]
  },
  {
   "cell_type": "code",
   "execution_count": null,
   "id": "783c0d26-3ac5-4560-84b6-4326f9a7f97a",
   "metadata": {},
   "outputs": [],
   "source": [
    "print(a,b)"
   ]
  },
  {
   "cell_type": "markdown",
   "id": "6cb0c3ac",
   "metadata": {},
   "source": [
    "Variables do not need to be declared with any particular type, and can even change type after they have been set."
   ]
  },
  {
   "cell_type": "code",
   "execution_count": null,
   "id": "9a5e9d02",
   "metadata": {},
   "outputs": [],
   "source": [
    "a=15 # type = integer\n",
    "a= 'fifteen' # type = string"
   ]
  },
  {
   "cell_type": "markdown",
   "id": "c4d1959e",
   "metadata": {},
   "source": [
    "variables are case sensative"
   ]
  },
  {
   "cell_type": "code",
   "execution_count": null,
   "id": "51ad97e7",
   "metadata": {},
   "outputs": [],
   "source": [
    "a=15\n",
    "A=10\n",
    "#both are different\n",
    "print(a,A)"
   ]
  },
  {
   "cell_type": "code",
   "execution_count": null,
   "id": "a738eb5b-9fe2-4975-84e2-5652de058ebe",
   "metadata": {},
   "outputs": [],
   "source": [
    "name=\"John\"\n",
    "nAme=\"Smith\"\n",
    "print(nAme)"
   ]
  },
  {
   "cell_type": "markdown",
   "id": "09dcc8a9",
   "metadata": {},
   "source": [
    "### Naming a variable"
   ]
  },
  {
   "cell_type": "markdown",
   "id": "81b5b119",
   "metadata": {},
   "source": [
    "A variable can have a short name (like a or b) or a more descriptive name (age, state, total_sales). \n",
    "There are some Rules for naming a Python variable:\n",
    "\n",
    "* A variable name must start with a letter or the underscore character.\n",
    "\n",
    "* **A variable name cannot start with a number.**\n",
    "* A variable name can only contain alpha-numeric characters and underscores (A-z, 0-9, and _ )\n",
    "\n",
    "* Variable names are case-sensitive (age, Age and AGE are three different variables)\n",
    "\n",
    "* A variable name cannot be any of the **Python keywords**"
   ]
  },
  {
   "cell_type": "code",
   "execution_count": null,
   "id": "8585a8d3-a8be-41dc-a94d-ffd855e4ca16",
   "metadata": {},
   "outputs": [],
   "source": [
    "a=15 #this is a variable\n",
    "#_a=15\n",
    "_5=15 "
   ]
  },
  {
   "cell_type": "code",
   "execution_count": null,
   "id": "061fbc78-6fa6-4bad-aaaa-8cfab89c6b28",
   "metadata": {},
   "outputs": [],
   "source": [
    "print(_a)"
   ]
  },
  {
   "cell_type": "markdown",
   "id": "b361a742",
   "metadata": {},
   "source": [
    "**Python Keywords :**\n",
    "\n",
    "and, as, assert, async, await, break, class, continue, def, del, elif, else, except, exec, finally, for, from, global, if, import, in, is, lambda, lambda, nonlocal, not, or, pass, print, raise, return, return, try, while, with, yield.\n",
    "\n",
    "\n",
    "**These keywords are reserved and cannot be used as variable names or function names in a Python program.**"
   ]
  },
  {
   "cell_type": "markdown",
   "id": "6b7da029",
   "metadata": {},
   "source": [
    "#### Incorrect Way"
   ]
  },
  {
   "cell_type": "code",
   "execution_count": null,
   "id": "242d1701",
   "metadata": {},
   "outputs": [],
   "source": [
    "\n",
    "\n",
    "name=\"name\"\n"
   ]
  },
  {
   "cell_type": "code",
   "execution_count": null,
   "id": "cce614b8",
   "metadata": {},
   "outputs": [],
   "source": [
    "1name=\"name\""
   ]
  },
  {
   "cell_type": "code",
   "execution_count": null,
   "id": "167e5d89",
   "metadata": {},
   "outputs": [],
   "source": [
    "1_name=\"name\""
   ]
  },
  {
   "cell_type": "markdown",
   "id": "5b550b0e",
   "metadata": {},
   "source": [
    "#### Correct Way"
   ]
  },
  {
   "cell_type": "code",
   "execution_count": null,
   "id": "6b2ee18b",
   "metadata": {},
   "outputs": [],
   "source": [
    "name=\"name\"\n",
    "name_1=\"name\""
   ]
  },
  {
   "cell_type": "markdown",
   "id": "b40c92bd",
   "metadata": {},
   "source": [
    "## Python Data Types"
   ]
  },
  {
   "cell_type": "markdown",
   "id": "6fbc10c5",
   "metadata": {},
   "source": [
    "A Python variables can store data of different types"
   ]
  },
  {
   "cell_type": "markdown",
   "id": "3b69551c",
   "metadata": {},
   "source": [
    "### Built-in Data Types"
   ]
  },
  {
   "cell_type": "markdown",
   "id": "81e32b8e",
   "metadata": {},
   "source": [
    "Python has the following data types built-in by default, in these categories:"
   ]
  },
  {
   "cell_type": "markdown",
   "id": "03b6f544",
   "metadata": {},
   "source": [
    "\n",
    "* Numeric Types:\tint, float\n",
    "* Text Type:\tstr\n",
    "* Sequence Types:\tlist, tuple\n",
    "* Mapping Type:\tdict\n",
    "* Set Types:\tset\n",
    "* Boolean Type:\tbool\n",
    "* Binary Types:\tbytes, bytearray\n",
    "* None Type:\tNoneType"
   ]
  },
  {
   "cell_type": "code",
   "execution_count": null,
   "id": "7c8c433e",
   "metadata": {},
   "outputs": [],
   "source": []
  },
  {
   "cell_type": "code",
   "execution_count": null,
   "id": "5961837b-1042-4870-bf31-a7b331288138",
   "metadata": {},
   "outputs": [],
   "source": []
  },
  {
   "cell_type": "code",
   "execution_count": null,
   "id": "e4cd0551-55d1-4593-9dbf-0285b2cde5c2",
   "metadata": {},
   "outputs": [],
   "source": []
  },
  {
   "cell_type": "code",
   "execution_count": null,
   "id": "3ee7e061-8876-45c4-96e2-2dba5956efda",
   "metadata": {},
   "outputs": [],
   "source": []
  },
  {
   "cell_type": "code",
   "execution_count": null,
   "id": "c5dfd68d-c91a-48e3-b18b-59aff24b406f",
   "metadata": {},
   "outputs": [],
   "source": []
  },
  {
   "cell_type": "code",
   "execution_count": null,
   "id": "918677f3-b77e-4dc8-828a-4b4f50f82062",
   "metadata": {},
   "outputs": [],
   "source": []
  },
  {
   "cell_type": "markdown",
   "id": "7d2eb333",
   "metadata": {},
   "source": [
    "### Numeric Types\n"
   ]
  },
  {
   "cell_type": "code",
   "execution_count": null,
   "id": "bfefbd1c",
   "metadata": {},
   "outputs": [],
   "source": [
    "a=10\n",
    "b=10.8\n",
    "c=-8"
   ]
  },
  {
   "cell_type": "code",
   "execution_count": null,
   "id": "311afab2-45d6-4ad3-a45d-8afe3c888daf",
   "metadata": {},
   "outputs": [],
   "source": [
    "print(b)"
   ]
  },
  {
   "cell_type": "markdown",
   "id": "447a30bb",
   "metadata": {},
   "source": [
    "#### type() Function"
   ]
  },
  {
   "cell_type": "markdown",
   "id": "560be94e",
   "metadata": {},
   "source": [
    "type() is used to find the data type of a given variable in python"
   ]
  },
  {
   "cell_type": "code",
   "execution_count": null,
   "id": "975d58ee",
   "metadata": {},
   "outputs": [],
   "source": [
    "type(c)"
   ]
  },
  {
   "cell_type": "code",
   "execution_count": null,
   "id": "35df23d5",
   "metadata": {},
   "outputs": [],
   "source": [
    "b=10e5"
   ]
  },
  {
   "cell_type": "code",
   "execution_count": null,
   "id": "2c57de81",
   "metadata": {},
   "outputs": [],
   "source": [
    "print(b)"
   ]
  },
  {
   "cell_type": "code",
   "execution_count": null,
   "id": "5b8d2b3f",
   "metadata": {},
   "outputs": [],
   "source": [
    "type(b)"
   ]
  },
  {
   "cell_type": "code",
   "execution_count": null,
   "id": "8d527634",
   "metadata": {},
   "outputs": [],
   "source": [
    "type(\"jaohn smith\")"
   ]
  },
  {
   "cell_type": "code",
   "execution_count": null,
   "id": "debc6cc6",
   "metadata": {},
   "outputs": [],
   "source": [
    "#+ - / * operators"
   ]
  },
  {
   "cell_type": "code",
   "execution_count": null,
   "id": "3bffac8a",
   "metadata": {},
   "outputs": [],
   "source": [
    "10+5 #operands"
   ]
  },
  {
   "cell_type": "code",
   "execution_count": null,
   "id": "6251aa20-e84a-42df-9db7-ec1bb43c21db",
   "metadata": {},
   "outputs": [],
   "source": [
    "a=10 #int\n",
    "b=10.5 #float\n",
    "c=a-b\n",
    "print(c)\n",
    "print(type(c))"
   ]
  },
  {
   "cell_type": "code",
   "execution_count": null,
   "id": "b5cf8e65-ac10-4df8-84ff-b7c860fb9027",
   "metadata": {},
   "outputs": [],
   "source": [
    "#(x+y^2 )/2"
   ]
  },
  {
   "cell_type": "code",
   "execution_count": null,
   "id": "9ca21c3d",
   "metadata": {},
   "outputs": [],
   "source": [
    "x=5\n",
    "y=10\n",
    "\n",
    "\n",
    "out= (x+y*y)/2\n",
    "\n",
    "#5+(100/2)=55\n",
    "print(out)"
   ]
  },
  {
   "cell_type": "code",
   "execution_count": null,
   "id": "b50ee001-4648-4b30-bf01-6bcc033621fc",
   "metadata": {},
   "outputs": [],
   "source": []
  },
  {
   "cell_type": "code",
   "execution_count": null,
   "id": "bde244f3-27c4-4e31-843c-f92d6b3b0a33",
   "metadata": {},
   "outputs": [],
   "source": []
  },
  {
   "cell_type": "code",
   "execution_count": null,
   "id": "e993660b-12cc-4736-b3dd-fb6709d3a2b0",
   "metadata": {},
   "outputs": [],
   "source": []
  },
  {
   "cell_type": "code",
   "execution_count": null,
   "id": "aa0f7bad-e5d7-46cd-a3e0-2a22f8a85b38",
   "metadata": {},
   "outputs": [],
   "source": []
  },
  {
   "cell_type": "markdown",
   "id": "89ad1a5a",
   "metadata": {},
   "source": [
    "### Text Type"
   ]
  },
  {
   "cell_type": "markdown",
   "id": "972c7d25",
   "metadata": {},
   "source": [
    "### **Python Strings**"
   ]
  },
  {
   "cell_type": "markdown",
   "id": "d67ea603",
   "metadata": {},
   "source": [
    "Sequence of characters enclosed in quotes"
   ]
  },
  {
   "cell_type": "code",
   "execution_count": null,
   "id": "ed0cf1ce",
   "metadata": {},
   "outputs": [],
   "source": [
    "a='Start'         # sungle Quote\n",
    "b=\"Tech\"          # Double Quote\n",
    "c='''Academy'''   # Tripple Quote"
   ]
  },
  {
   "cell_type": "code",
   "execution_count": null,
   "id": "e1cd16a4",
   "metadata": {},
   "outputs": [],
   "source": [
    "print(a,b,c)"
   ]
  },
  {
   "cell_type": "code",
   "execution_count": null,
   "id": "5c7f6cb2",
   "metadata": {},
   "outputs": [],
   "source": [
    "x=\"what's\""
   ]
  },
  {
   "cell_type": "code",
   "execution_count": null,
   "id": "3c7a07aa-7e07-48c7-9fce-a08ac34dd64b",
   "metadata": {},
   "outputs": [],
   "source": [
    "x=\"what's\""
   ]
  },
  {
   "cell_type": "code",
   "execution_count": null,
   "id": "8b180d72-a770-468e-ae58-b624db33a0c5",
   "metadata": {},
   "outputs": [],
   "source": [
    "z='''start 'tech' \"Academy\"'''"
   ]
  },
  {
   "cell_type": "code",
   "execution_count": null,
   "id": "6d92a529-1fef-44b3-9b34-b7875529b30f",
   "metadata": {},
   "outputs": [],
   "source": [
    "print(z)"
   ]
  },
  {
   "cell_type": "code",
   "execution_count": null,
   "id": "c5dda637-45e6-4223-9d47-169ff7a540fd",
   "metadata": {},
   "outputs": [],
   "source": []
  },
  {
   "cell_type": "code",
   "execution_count": null,
   "id": "d31b6658-c882-4b84-8e7f-f7af19ce3b74",
   "metadata": {},
   "outputs": [],
   "source": []
  },
  {
   "cell_type": "code",
   "execution_count": null,
   "id": "8bf7427e-b8e6-4adc-8e3f-3a094e5d941d",
   "metadata": {},
   "outputs": [],
   "source": []
  },
  {
   "cell_type": "code",
   "execution_count": null,
   "id": "6be91c0f-c3c9-44b6-a7ca-7a161c853f38",
   "metadata": {},
   "outputs": [],
   "source": []
  },
  {
   "cell_type": "code",
   "execution_count": null,
   "id": "14320927-a4c4-4ced-b386-c182d3d620be",
   "metadata": {},
   "outputs": [],
   "source": []
  },
  {
   "cell_type": "markdown",
   "id": "51ef1136",
   "metadata": {},
   "source": [
    "### String Slicing"
   ]
  },
  {
   "cell_type": "markdown",
   "id": "d678f1f1",
   "metadata": {},
   "source": [
    "A python string can be sliced to get a part for a string from original string"
   ]
  },
  {
   "cell_type": "code",
   "execution_count": null,
   "id": "77459185",
   "metadata": {},
   "outputs": [],
   "source": [
    "name=\"Start-Tech Academy\""
   ]
  },
  {
   "cell_type": "markdown",
   "id": "3df09805",
   "metadata": {},
   "source": [
    "slice=string[start_index:end_index]"
   ]
  },
  {
   "cell_type": "code",
   "execution_count": null,
   "id": "35e1a20c",
   "metadata": {},
   "outputs": [],
   "source": [
    "slice=name[0:6]"
   ]
  },
  {
   "cell_type": "code",
   "execution_count": null,
   "id": "93009db2",
   "metadata": {},
   "outputs": [],
   "source": [
    "print(slice)"
   ]
  },
  {
   "cell_type": "code",
   "execution_count": null,
   "id": "894f89ac",
   "metadata": {},
   "outputs": [],
   "source": [
    "slice=name[5:11]\n",
    "print(slice)"
   ]
  },
  {
   "cell_type": "code",
   "execution_count": null,
   "id": "1c7da5a3",
   "metadata": {},
   "outputs": [],
   "source": [
    "slice=name[:]\n",
    "print(slice)"
   ]
  },
  {
   "cell_type": "markdown",
   "id": "a883f57f",
   "metadata": {},
   "source": [
    "**negative indexing**"
   ]
  },
  {
   "cell_type": "code",
   "execution_count": null,
   "id": "d88ac6a1",
   "metadata": {},
   "outputs": [],
   "source": [
    "slice=name[-7:-1]    #-1 ---->[ length - 1 ]\n",
    "print(slice)"
   ]
  },
  {
   "cell_type": "code",
   "execution_count": null,
   "id": "dee3ec09",
   "metadata": {},
   "outputs": [],
   "source": [
    "slice=name[0:-1]    #-1 ---->[ length - 1 ]\n",
    "print(slice)"
   ]
  },
  {
   "cell_type": "markdown",
   "id": "9b377ccb",
   "metadata": {},
   "source": [
    "#### String Slicing with skip value"
   ]
  },
  {
   "cell_type": "code",
   "execution_count": null,
   "id": "87d18202",
   "metadata": {},
   "outputs": [],
   "source": [
    "slice=name[0:15:4]    # [start:end:skip]  ---> here we are skipping to second character \n",
    "print(slice)"
   ]
  },
  {
   "cell_type": "code",
   "execution_count": null,
   "id": "8ffb0b55-f772-4f49-b6b7-b0188813ca72",
   "metadata": {},
   "outputs": [],
   "source": []
  },
  {
   "cell_type": "code",
   "execution_count": null,
   "id": "74ac8e43-299a-45ae-9add-0e3558c82b50",
   "metadata": {},
   "outputs": [],
   "source": []
  },
  {
   "cell_type": "code",
   "execution_count": null,
   "id": "7cc88fe0-4b96-4c12-8b17-833b2e207a37",
   "metadata": {},
   "outputs": [],
   "source": []
  },
  {
   "cell_type": "code",
   "execution_count": null,
   "id": "0204cad5-accd-40f6-ad18-b4517fdb4eaa",
   "metadata": {},
   "outputs": [],
   "source": []
  },
  {
   "cell_type": "markdown",
   "id": "6364c9b0",
   "metadata": {},
   "source": [
    "### String Concatenation"
   ]
  },
  {
   "cell_type": "code",
   "execution_count": null,
   "id": "85d4f291",
   "metadata": {},
   "outputs": [],
   "source": [
    "a= \"Start\"\n",
    "b=\"Tech\"\n",
    "c='Academy'\n"
   ]
  },
  {
   "cell_type": "code",
   "execution_count": null,
   "id": "6500dde9-a7d7-4087-9978-6817f0b4ad02",
   "metadata": {},
   "outputs": [],
   "source": [
    "z=\"Start\"+'-'+b+' '+c\n",
    "print(z)"
   ]
  },
  {
   "cell_type": "code",
   "execution_count": null,
   "id": "24c188da-9d65-41d6-a3ea-e2aa89f241b6",
   "metadata": {},
   "outputs": [],
   "source": []
  },
  {
   "cell_type": "code",
   "execution_count": null,
   "id": "d66222cc-a9d1-4f6e-9bf1-8286c5ebb8fd",
   "metadata": {},
   "outputs": [],
   "source": []
  },
  {
   "cell_type": "code",
   "execution_count": null,
   "id": "3bc738a3-125c-4215-aa14-261d10b976d5",
   "metadata": {},
   "outputs": [],
   "source": []
  },
  {
   "cell_type": "code",
   "execution_count": null,
   "id": "eaf299e7-f083-4ad5-a3c1-df11b4734daf",
   "metadata": {},
   "outputs": [],
   "source": []
  },
  {
   "cell_type": "code",
   "execution_count": null,
   "id": "0346fc05-f71c-4972-83c6-e27e313230bf",
   "metadata": {},
   "outputs": [],
   "source": []
  },
  {
   "cell_type": "code",
   "execution_count": null,
   "id": "80d5ad08-0616-4f69-8609-4200914ea36f",
   "metadata": {},
   "outputs": [],
   "source": []
  },
  {
   "cell_type": "markdown",
   "id": "2d499034",
   "metadata": {},
   "source": [
    "### String Methods"
   ]
  },
  {
   "cell_type": "markdown",
   "id": "c1b5bab2-3cdf-4fd3-bb86-da38758b0211",
   "metadata": {},
   "source": [
    "Python string methods are a set of built-in functions that you can use on strings for data handling and manipulation."
   ]
  },
  {
   "cell_type": "markdown",
   "id": "381b9baa",
   "metadata": {},
   "source": [
    "**.upper()**\n",
    "\n",
    "Converts a string into upper case"
   ]
  },
  {
   "cell_type": "code",
   "execution_count": 9,
   "id": "3dfd29fe",
   "metadata": {},
   "outputs": [],
   "source": [
    "a=\"start\"\n",
    "a=a.upper()"
   ]
  },
  {
   "cell_type": "markdown",
   "id": "cf0c0820",
   "metadata": {},
   "source": [
    "**.lower()**\n",
    "\n",
    "Converts a string into lower case"
   ]
  },
  {
   "cell_type": "code",
   "execution_count": 7,
   "id": "7b0760a5",
   "metadata": {},
   "outputs": [
    {
     "name": "stdout",
     "output_type": "stream",
     "text": [
      "start\n"
     ]
    }
   ],
   "source": [
    "a=a.lower()\n",
    "print(a)"
   ]
  },
  {
   "cell_type": "markdown",
   "id": "4456127f",
   "metadata": {},
   "source": [
    "**.islower()**\n",
    "\n",
    "Returns True if all characters in the string are Lower case"
   ]
  },
  {
   "cell_type": "code",
   "execution_count": 10,
   "id": "8d85204d",
   "metadata": {},
   "outputs": [
    {
     "data": {
      "text/plain": [
       "False"
      ]
     },
     "execution_count": 10,
     "metadata": {},
     "output_type": "execute_result"
    }
   ],
   "source": [
    "a.islower()"
   ]
  },
  {
   "cell_type": "markdown",
   "id": "7529d864",
   "metadata": {},
   "source": [
    "**.isupper()**\n",
    "\n",
    "Returns True if all characters in the string are Upper case"
   ]
  },
  {
   "cell_type": "code",
   "execution_count": 11,
   "id": "2ef4d890",
   "metadata": {},
   "outputs": [
    {
     "data": {
      "text/plain": [
       "True"
      ]
     },
     "execution_count": 11,
     "metadata": {},
     "output_type": "execute_result"
    }
   ],
   "source": [
    "a.isupper()"
   ]
  },
  {
   "cell_type": "markdown",
   "id": "cbdc8189",
   "metadata": {},
   "source": [
    "**.isdigit()**\n",
    "\n",
    "Returns True if all characters in the string are digits"
   ]
  },
  {
   "cell_type": "code",
   "execution_count": 13,
   "id": "c44ecc4a",
   "metadata": {},
   "outputs": [
    {
     "data": {
      "text/plain": [
       "False"
      ]
     },
     "execution_count": 13,
     "metadata": {},
     "output_type": "execute_result"
    }
   ],
   "source": [
    "b=\"100a\"\n",
    "b.isdigit()"
   ]
  },
  {
   "cell_type": "markdown",
   "id": "80f0b6e8",
   "metadata": {},
   "source": [
    "**.isdecimal()**\n",
    "\n",
    "Returns True if all characters in the string are decimals"
   ]
  },
  {
   "cell_type": "code",
   "execution_count": 18,
   "id": "00f11b78",
   "metadata": {},
   "outputs": [
    {
     "data": {
      "text/plain": [
       "False"
      ]
     },
     "execution_count": 18,
     "metadata": {},
     "output_type": "execute_result"
    }
   ],
   "source": [
    "b=\"105b\"\n",
    "b.isdecimal()"
   ]
  },
  {
   "cell_type": "markdown",
   "id": "22fc5446",
   "metadata": {},
   "source": [
    "**.startswith()**\n",
    "\n",
    "Returns true if the string starts with the specified value"
   ]
  },
  {
   "cell_type": "code",
   "execution_count": 23,
   "id": "3c979d09-c895-4781-90d9-844deedfe121",
   "metadata": {},
   "outputs": [],
   "source": [
    "a=\"tart-Tech\""
   ]
  },
  {
   "cell_type": "code",
   "execution_count": 24,
   "id": "81984b8c",
   "metadata": {},
   "outputs": [
    {
     "data": {
      "text/plain": [
       "False"
      ]
     },
     "execution_count": 24,
     "metadata": {},
     "output_type": "execute_result"
    }
   ],
   "source": [
    "a.startswith(\"S\")"
   ]
  },
  {
   "cell_type": "code",
   "execution_count": null,
   "id": "ab2bc769-a32d-4f28-8dd7-d6e5d8ee1709",
   "metadata": {},
   "outputs": [],
   "source": []
  },
  {
   "cell_type": "code",
   "execution_count": null,
   "id": "8d725631-4cf7-47a5-ae22-e627e40d0453",
   "metadata": {},
   "outputs": [],
   "source": []
  },
  {
   "cell_type": "code",
   "execution_count": null,
   "id": "2fed81e5-043b-4a82-8463-66aaec21025b",
   "metadata": {},
   "outputs": [],
   "source": []
  },
  {
   "cell_type": "markdown",
   "id": "f2a55742",
   "metadata": {},
   "source": [
    "**.endsswith()**\n",
    "\n",
    "Returns true if the string ends with the specified value"
   ]
  },
  {
   "cell_type": "code",
   "execution_count": 25,
   "id": "a95fc22c",
   "metadata": {},
   "outputs": [
    {
     "data": {
      "text/plain": [
       "True"
      ]
     },
     "execution_count": 25,
     "metadata": {},
     "output_type": "execute_result"
    }
   ],
   "source": [
    "a.endswith(\"h\")"
   ]
  },
  {
   "cell_type": "code",
   "execution_count": null,
   "id": "87c0a1de-78af-487d-b32d-665bb6d591a1",
   "metadata": {},
   "outputs": [],
   "source": []
  },
  {
   "cell_type": "code",
   "execution_count": null,
   "id": "1f70f8f1-d95b-45e3-b0e5-a07012a81f5f",
   "metadata": {},
   "outputs": [],
   "source": []
  },
  {
   "cell_type": "code",
   "execution_count": null,
   "id": "4d78ab95-bd63-44f7-8d84-6183ff981f8a",
   "metadata": {},
   "outputs": [],
   "source": []
  },
  {
   "cell_type": "markdown",
   "id": "37b0e928",
   "metadata": {},
   "source": [
    "**.count()**\n",
    "\n",
    "Returns the number of times a specified value occurs in a string"
   ]
  },
  {
   "cell_type": "code",
   "execution_count": 26,
   "id": "23323d71",
   "metadata": {},
   "outputs": [
    {
     "data": {
      "text/plain": [
       "2"
      ]
     },
     "execution_count": 26,
     "metadata": {},
     "output_type": "execute_result"
    }
   ],
   "source": [
    "a.count(\"t\")"
   ]
  },
  {
   "cell_type": "code",
   "execution_count": null,
   "id": "96c0b431-ef7c-4857-8d5f-5dbe6f9cd8d8",
   "metadata": {},
   "outputs": [],
   "source": []
  },
  {
   "cell_type": "code",
   "execution_count": null,
   "id": "bf273807-547a-4d97-bd50-2b2aa0cc5139",
   "metadata": {},
   "outputs": [],
   "source": []
  },
  {
   "cell_type": "code",
   "execution_count": null,
   "id": "d2254f47-f262-4490-a4e9-394dd4fc4b68",
   "metadata": {},
   "outputs": [],
   "source": []
  },
  {
   "cell_type": "markdown",
   "id": "534b7e22",
   "metadata": {},
   "source": [
    "**.capitalize()**\n",
    "\n",
    "Converts the first character to upper case"
   ]
  },
  {
   "cell_type": "code",
   "execution_count": 27,
   "id": "cac7e0a4",
   "metadata": {},
   "outputs": [
    {
     "data": {
      "text/plain": [
       "'Good'"
      ]
     },
     "execution_count": 27,
     "metadata": {},
     "output_type": "execute_result"
    }
   ],
   "source": [
    "a=\"good\"\n",
    "a.capitalize()"
   ]
  },
  {
   "cell_type": "code",
   "execution_count": null,
   "id": "e376e4d7-1d46-46fb-ab14-7fd6e03e2d25",
   "metadata": {},
   "outputs": [],
   "source": []
  },
  {
   "cell_type": "code",
   "execution_count": null,
   "id": "0aa5cff2-a485-4739-bb70-ef76fff20a23",
   "metadata": {},
   "outputs": [],
   "source": []
  },
  {
   "cell_type": "code",
   "execution_count": null,
   "id": "638dbb41-7400-4e3c-8371-f6f9b874d4c5",
   "metadata": {},
   "outputs": [],
   "source": []
  },
  {
   "cell_type": "markdown",
   "id": "446d8ff4",
   "metadata": {},
   "source": [
    "**.find(arg)**\n",
    "\n",
    "Searches the string for a specified value and returns the position of where it was found"
   ]
  },
  {
   "cell_type": "code",
   "execution_count": 28,
   "id": "09eeefde-2995-48a7-9aa0-6aa141f0b79c",
   "metadata": {},
   "outputs": [],
   "source": [
    "c=\"www.Abc.com\""
   ]
  },
  {
   "cell_type": "code",
   "execution_count": 29,
   "id": "c23fcd0d",
   "metadata": {},
   "outputs": [
    {
     "data": {
      "text/plain": [
       "4"
      ]
     },
     "execution_count": 29,
     "metadata": {},
     "output_type": "execute_result"
    }
   ],
   "source": [
    "c.find(\"A\")"
   ]
  },
  {
   "cell_type": "markdown",
   "id": "3f91bf5d",
   "metadata": {},
   "source": [
    "**.replace()**\n",
    "\n",
    "Returns a string where a specified value is replaced with a specified value"
   ]
  },
  {
   "cell_type": "code",
   "execution_count": null,
   "id": "8787c2a6-4dee-4c31-b2ec-eee588d8a437",
   "metadata": {},
   "outputs": [],
   "source": []
  },
  {
   "cell_type": "code",
   "execution_count": 31,
   "id": "201bbe53",
   "metadata": {},
   "outputs": [
    {
     "data": {
      "text/plain": [
       "'Starteood'"
      ]
     },
     "execution_count": 31,
     "metadata": {},
     "output_type": "execute_result"
    }
   ],
   "source": [
    "a.replace(\"g\",\"Starte\")"
   ]
  },
  {
   "cell_type": "markdown",
   "id": "baf0f394",
   "metadata": {},
   "source": [
    "**Len()**\n",
    "\n",
    "Len is a Function\n",
    "LEn identifies number of characters in the string"
   ]
  },
  {
   "cell_type": "code",
   "execution_count": 32,
   "id": "946d8a46",
   "metadata": {},
   "outputs": [
    {
     "data": {
      "text/plain": [
       "4"
      ]
     },
     "execution_count": 32,
     "metadata": {},
     "output_type": "execute_result"
    }
   ],
   "source": [
    "len(a)"
   ]
  },
  {
   "cell_type": "code",
   "execution_count": 36,
   "id": "b0d6dd65",
   "metadata": {},
   "outputs": [],
   "source": [
    "a=a.replace(\"goo\",\"Starte\")"
   ]
  },
  {
   "cell_type": "code",
   "execution_count": 37,
   "id": "d8d463f3",
   "metadata": {},
   "outputs": [
    {
     "data": {
      "text/plain": [
       "7"
      ]
     },
     "execution_count": 37,
     "metadata": {},
     "output_type": "execute_result"
    }
   ],
   "source": [
    "len(a)"
   ]
  },
  {
   "cell_type": "code",
   "execution_count": null,
   "id": "2e6ebec2-c270-44ef-b0d9-3ebf43fd0970",
   "metadata": {},
   "outputs": [],
   "source": []
  },
  {
   "cell_type": "code",
   "execution_count": null,
   "id": "ab5c18ef-21ae-428a-9331-da8811c99fdf",
   "metadata": {},
   "outputs": [],
   "source": []
  },
  {
   "cell_type": "markdown",
   "id": "260a5a98",
   "metadata": {},
   "source": [
    "**Escape sequence characters in String**\n",
    "\n",
    "To insert characters that are illegal in a string, use an escape character.\n",
    "\n",
    "An escape character is a backslash \\ followed by the character you want to insert."
   ]
  },
  {
   "cell_type": "code",
   "execution_count": 38,
   "id": "cc2c703f",
   "metadata": {},
   "outputs": [
    {
     "ename": "SyntaxError",
     "evalue": "invalid syntax (891894369.py, line 1)",
     "output_type": "error",
     "traceback": [
      "\u001b[1;36m  Cell \u001b[1;32mIn[38], line 1\u001b[1;36m\u001b[0m\n\u001b[1;33m    a =\"This is \"Start-Tech Academy\".\"\u001b[0m\n\u001b[1;37m                 ^\u001b[0m\n\u001b[1;31mSyntaxError\u001b[0m\u001b[1;31m:\u001b[0m invalid syntax\n"
     ]
    }
   ],
   "source": [
    "a =\"This is \"Start-Tech Academy\".\""
   ]
  },
  {
   "cell_type": "code",
   "execution_count": 39,
   "id": "feb71389",
   "metadata": {},
   "outputs": [],
   "source": [
    "a =\"This is \\\"Start-Tech Academy\\\".\"\n"
   ]
  },
  {
   "cell_type": "code",
   "execution_count": 40,
   "id": "824e871b",
   "metadata": {},
   "outputs": [
    {
     "data": {
      "text/plain": [
       "'This is \"Start-Tech Academy\".'"
      ]
     },
     "execution_count": 40,
     "metadata": {},
     "output_type": "execute_result"
    }
   ],
   "source": [
    "a"
   ]
  },
  {
   "cell_type": "markdown",
   "id": "2ec350f0",
   "metadata": {},
   "source": [
    "Escape ccharacters comprises of more then one character but represents one character when used within the string\n",
    "\n",
    "Exapmple: \\n (new line) , \\t (insert tab) , \\' (insert quote) , \\\\ (insert backslash)"
   ]
  },
  {
   "cell_type": "code",
   "execution_count": 43,
   "id": "9e0eeda2",
   "metadata": {},
   "outputs": [
    {
     "name": "stdout",
     "output_type": "stream",
     "text": [
      "Start-Tech \n",
      "Academy\n",
      "Start-Tech \t Academy\n",
      "Start-Tech \\ Academy\n"
     ]
    }
   ],
   "source": [
    "print('Start-Tech \\nAcademy')\n",
    "print('Start-Tech \\t Academy')\n",
    "print('Start-Tech \\\\ Academy')\n"
   ]
  },
  {
   "cell_type": "code",
   "execution_count": null,
   "id": "f5882b45",
   "metadata": {},
   "outputs": [],
   "source": []
  },
  {
   "cell_type": "code",
   "execution_count": null,
   "id": "b3e8002d",
   "metadata": {},
   "outputs": [],
   "source": []
  },
  {
   "cell_type": "code",
   "execution_count": null,
   "id": "4329bf82",
   "metadata": {},
   "outputs": [],
   "source": []
  },
  {
   "cell_type": "markdown",
   "id": "2fddb918",
   "metadata": {},
   "source": [
    "### Sequence Types"
   ]
  },
  {
   "cell_type": "markdown",
   "id": "a62201cb",
   "metadata": {},
   "source": [
    "### Python List"
   ]
  },
  {
   "cell_type": "markdown",
   "id": "00768551",
   "metadata": {},
   "source": [
    "Python Lists are containers to store a set of value of **any data type**\n",
    "\n",
    "one of 4 built-in data types in Python used to store collections of data, the other 3 are Tuple, Set, and Dictionary, all with different qualities and usage."
   ]
  },
  {
   "cell_type": "code",
   "execution_count": 44,
   "id": "a421a942",
   "metadata": {},
   "outputs": [],
   "source": [
    "List=list()"
   ]
  },
  {
   "cell_type": "code",
   "execution_count": 45,
   "id": "58c138cd-8ccc-41c8-8cf0-b54ada94e8a4",
   "metadata": {},
   "outputs": [
    {
     "name": "stdout",
     "output_type": "stream",
     "text": [
      "[]\n"
     ]
    }
   ],
   "source": [
    "print(List)"
   ]
  },
  {
   "cell_type": "code",
   "execution_count": 52,
   "id": "0d22209f",
   "metadata": {},
   "outputs": [],
   "source": [
    "List = [\"Apple\",\"Banana\",15,5,False,6.5,7.5]"
   ]
  },
  {
   "cell_type": "code",
   "execution_count": 49,
   "id": "3f194b20",
   "metadata": {},
   "outputs": [
    {
     "data": {
      "text/plain": [
       "['Apple', 'Banana', 15, 5, False, 7.5, 7.5]"
      ]
     },
     "execution_count": 49,
     "metadata": {},
     "output_type": "execute_result"
    }
   ],
   "source": [
    "List"
   ]
  },
  {
   "cell_type": "markdown",
   "id": "37ab404f",
   "metadata": {},
   "source": [
    "**List Items**\n",
    "\n",
    "\n",
    "List items are ordered, changeable, and allow duplicate values.\n",
    "\n",
    "**List Indexing**\n",
    "\n",
    "A list can be indexed just like a string\n",
    "\n"
   ]
  },
  {
   "cell_type": "code",
   "execution_count": 50,
   "id": "bcb0c8c7",
   "metadata": {},
   "outputs": [
    {
     "data": {
      "text/plain": [
       "'Apple'"
      ]
     },
     "execution_count": 50,
     "metadata": {},
     "output_type": "execute_result"
    }
   ],
   "source": [
    "List[0]"
   ]
  },
  {
   "cell_type": "code",
   "execution_count": 53,
   "id": "07bb4491",
   "metadata": {},
   "outputs": [
    {
     "data": {
      "text/plain": [
       "6.5"
      ]
     },
     "execution_count": 53,
     "metadata": {},
     "output_type": "execute_result"
    }
   ],
   "source": [
    "List[5]"
   ]
  },
  {
   "cell_type": "code",
   "execution_count": null,
   "id": "df53131d-4ea4-49b8-b09d-bf7b4e87df55",
   "metadata": {},
   "outputs": [],
   "source": []
  },
  {
   "cell_type": "code",
   "execution_count": null,
   "id": "46d7d532-7a97-427e-84dc-7208926749e6",
   "metadata": {},
   "outputs": [],
   "source": []
  },
  {
   "cell_type": "code",
   "execution_count": null,
   "id": "5973fade-4dbd-4cee-ad8e-4f63c91ca207",
   "metadata": {},
   "outputs": [],
   "source": []
  },
  {
   "cell_type": "code",
   "execution_count": null,
   "id": "4bf9ab3b-503d-463a-b400-157db80a1d53",
   "metadata": {},
   "outputs": [],
   "source": []
  },
  {
   "cell_type": "markdown",
   "id": "f2bbc2bf",
   "metadata": {},
   "source": [
    "**Slicing**"
   ]
  },
  {
   "cell_type": "code",
   "execution_count": 54,
   "id": "9463eb40",
   "metadata": {},
   "outputs": [
    {
     "data": {
      "text/plain": [
       "['Banana', 15, 5, False]"
      ]
     },
     "execution_count": 54,
     "metadata": {},
     "output_type": "execute_result"
    }
   ],
   "source": [
    "List[1:5]"
   ]
  },
  {
   "cell_type": "code",
   "execution_count": 55,
   "id": "b51c344b",
   "metadata": {},
   "outputs": [
    {
     "data": {
      "text/plain": [
       "[5, False, 6.5]"
      ]
     },
     "execution_count": 55,
     "metadata": {},
     "output_type": "execute_result"
    }
   ],
   "source": [
    "List[-4:-1]"
   ]
  },
  {
   "cell_type": "code",
   "execution_count": 57,
   "id": "6ec892db",
   "metadata": {},
   "outputs": [
    {
     "data": {
      "text/plain": [
       "['Apple', 5, 7.5]"
      ]
     },
     "execution_count": 57,
     "metadata": {},
     "output_type": "execute_result"
    }
   ],
   "source": [
    "List[::3]   #slicing with skip"
   ]
  },
  {
   "cell_type": "code",
   "execution_count": null,
   "id": "0c501ad8-5575-4fdc-b8dc-4b51c445cdce",
   "metadata": {},
   "outputs": [],
   "source": []
  },
  {
   "cell_type": "code",
   "execution_count": null,
   "id": "55784728-fb6f-460e-abf4-7aec3687d976",
   "metadata": {},
   "outputs": [],
   "source": []
  },
  {
   "cell_type": "code",
   "execution_count": null,
   "id": "6a1aea5b-28d2-4105-b5fc-3db5f774a0e7",
   "metadata": {},
   "outputs": [],
   "source": []
  },
  {
   "cell_type": "code",
   "execution_count": null,
   "id": "9e6579bc-3c72-4728-ad0a-01ab28a06432",
   "metadata": {},
   "outputs": [],
   "source": []
  },
  {
   "cell_type": "markdown",
   "id": "be94da61",
   "metadata": {},
   "source": [
    "**Change/Update List Items**\n",
    "\n"
   ]
  },
  {
   "cell_type": "code",
   "execution_count": 58,
   "id": "1f4f725e",
   "metadata": {},
   "outputs": [
    {
     "data": {
      "text/plain": [
       "['Apple', 'Mango', 15, 5, False, 6.5, 7.5]"
      ]
     },
     "execution_count": 58,
     "metadata": {},
     "output_type": "execute_result"
    }
   ],
   "source": [
    "List[1]=\"Mango\"\n",
    "List"
   ]
  },
  {
   "cell_type": "code",
   "execution_count": null,
   "id": "1ce12b9c",
   "metadata": {},
   "outputs": [],
   "source": []
  },
  {
   "cell_type": "code",
   "execution_count": null,
   "id": "83807cbb-f07f-426f-a5d3-cde6ad4d8655",
   "metadata": {},
   "outputs": [],
   "source": []
  },
  {
   "cell_type": "code",
   "execution_count": null,
   "id": "764809fa-14af-4859-8546-2fe98f378c23",
   "metadata": {},
   "outputs": [],
   "source": []
  },
  {
   "cell_type": "markdown",
   "id": "4126f830",
   "metadata": {},
   "source": [
    "**List Methods**\n",
    "\n",
    "Python has a set of built-in methods that you can use on lists.\n"
   ]
  },
  {
   "cell_type": "markdown",
   "id": "5d84870b",
   "metadata": {},
   "source": [
    "**.append(element)**\n",
    "\n",
    "\n",
    "Adds an element at the end of the list"
   ]
  },
  {
   "cell_type": "code",
   "execution_count": 60,
   "id": "4e46f34e",
   "metadata": {},
   "outputs": [
    {
     "name": "stdout",
     "output_type": "stream",
     "text": [
      "['Apple', 'Mango', 15, 5, False, 6.5, 7.5, 'Banana', 'Banana']\n"
     ]
    }
   ],
   "source": [
    "List.append(\"Banana\")\n",
    "print(List)"
   ]
  },
  {
   "cell_type": "code",
   "execution_count": null,
   "id": "4ba4c41f-c191-4515-843a-eae8212021b6",
   "metadata": {},
   "outputs": [],
   "source": []
  },
  {
   "cell_type": "code",
   "execution_count": null,
   "id": "30b261aa-70d8-4760-ad47-8ce8a14500c7",
   "metadata": {},
   "outputs": [],
   "source": []
  },
  {
   "cell_type": "code",
   "execution_count": null,
   "id": "0bcee287-bb0e-4d16-9805-e9fec2f13444",
   "metadata": {},
   "outputs": [],
   "source": []
  },
  {
   "cell_type": "code",
   "execution_count": null,
   "id": "00845a7e-2c07-4169-812e-51b09c02d63f",
   "metadata": {},
   "outputs": [],
   "source": []
  },
  {
   "cell_type": "markdown",
   "id": "7dcce3cd",
   "metadata": {},
   "source": [
    "**.extend(List)**\n",
    "\n",
    "Add the elements of a list (or any iterable), to the end of the current list"
   ]
  },
  {
   "cell_type": "code",
   "execution_count": 61,
   "id": "c64b7fd5",
   "metadata": {},
   "outputs": [],
   "source": [
    "List.extend(\"red\")"
   ]
  },
  {
   "cell_type": "code",
   "execution_count": 62,
   "id": "8ad6737f-9bc9-49aa-837b-67bd254efff5",
   "metadata": {},
   "outputs": [
    {
     "data": {
      "text/plain": [
       "['Apple', 'Mango', 15, 5, False, 6.5, 7.5, 'Banana', 'Banana', 'r', 'e', 'd']"
      ]
     },
     "execution_count": 62,
     "metadata": {},
     "output_type": "execute_result"
    }
   ],
   "source": [
    "List"
   ]
  },
  {
   "cell_type": "code",
   "execution_count": null,
   "id": "6af0d222-80ed-43e0-a935-91786e21a955",
   "metadata": {},
   "outputs": [],
   "source": []
  },
  {
   "cell_type": "code",
   "execution_count": null,
   "id": "1f3650fc-9fcf-4a1f-ad61-7fc01ac43881",
   "metadata": {},
   "outputs": [],
   "source": []
  },
  {
   "cell_type": "code",
   "execution_count": null,
   "id": "7f3f1a56-7aef-446f-beb7-aaaac0109286",
   "metadata": {},
   "outputs": [],
   "source": []
  },
  {
   "cell_type": "code",
   "execution_count": null,
   "id": "4659b568-3c2e-46cb-9d5e-85ac835f1fe2",
   "metadata": {},
   "outputs": [],
   "source": []
  },
  {
   "cell_type": "code",
   "execution_count": null,
   "id": "fe5302cd-af8c-4c08-ad86-9105b727ae5b",
   "metadata": {},
   "outputs": [],
   "source": []
  },
  {
   "cell_type": "markdown",
   "id": "54b567a2",
   "metadata": {},
   "source": [
    "**.sort()**\n",
    "\n",
    "Sorts the list"
   ]
  },
  {
   "cell_type": "code",
   "execution_count": 63,
   "id": "f9da0b25",
   "metadata": {},
   "outputs": [
    {
     "data": {
      "text/plain": [
       "[1, 5, 6, 7, 10, 15]"
      ]
     },
     "execution_count": 63,
     "metadata": {},
     "output_type": "execute_result"
    }
   ],
   "source": [
    "L1=[5,7,10,15,1,6]\n",
    "L1.sort()\n",
    "L1"
   ]
  },
  {
   "cell_type": "code",
   "execution_count": null,
   "id": "23f787f1-cd58-45ec-a71d-5dd458caadda",
   "metadata": {},
   "outputs": [],
   "source": []
  },
  {
   "cell_type": "code",
   "execution_count": null,
   "id": "22b9e35a-0131-4d82-8f0a-4e998ae29236",
   "metadata": {},
   "outputs": [],
   "source": []
  },
  {
   "cell_type": "markdown",
   "id": "8110355d",
   "metadata": {},
   "source": [
    "**.reverse()**\n",
    "\n",
    "Reverses the order of the list"
   ]
  },
  {
   "cell_type": "code",
   "execution_count": 64,
   "id": "a451b0e0",
   "metadata": {},
   "outputs": [
    {
     "data": {
      "text/plain": [
       "[6, 1, 15, 10, 7, 4]"
      ]
     },
     "execution_count": 64,
     "metadata": {},
     "output_type": "execute_result"
    }
   ],
   "source": [
    "L1=[4,7,10,15,1,6]\n",
    "L1.reverse()\n",
    "L1"
   ]
  },
  {
   "cell_type": "code",
   "execution_count": null,
   "id": "bf1c17ca-a0ed-42d1-8948-dd2e96555799",
   "metadata": {},
   "outputs": [],
   "source": []
  },
  {
   "cell_type": "markdown",
   "id": "fc0870dd",
   "metadata": {},
   "source": [
    "**.insert(position, element)**\n",
    "\n",
    "Adds an element at the specified position"
   ]
  },
  {
   "cell_type": "code",
   "execution_count": 73,
   "id": "37a9492d",
   "metadata": {},
   "outputs": [
    {
     "data": {
      "text/plain": [
       "[1, 15, 10, 7, 6, 6, 6, 5, 4]"
      ]
     },
     "execution_count": 73,
     "metadata": {},
     "output_type": "execute_result"
    }
   ],
   "source": [
    "L1.insert(5,6)\n",
    "L1"
   ]
  },
  {
   "cell_type": "markdown",
   "id": "ef605ed4",
   "metadata": {},
   "source": [
    "**.pop(position)**\n",
    "\n",
    "\n",
    "Removes the element at the specified position"
   ]
  },
  {
   "cell_type": "code",
   "execution_count": 68,
   "id": "447e4e61",
   "metadata": {},
   "outputs": [
    {
     "data": {
      "text/plain": [
       "6"
      ]
     },
     "execution_count": 68,
     "metadata": {},
     "output_type": "execute_result"
    }
   ],
   "source": [
    "L1.pop(0)"
   ]
  },
  {
   "cell_type": "code",
   "execution_count": 69,
   "id": "94f8fce6",
   "metadata": {},
   "outputs": [
    {
     "data": {
      "text/plain": [
       "[1, 15, 10, 7, 6, 6, 5, 4]"
      ]
     },
     "execution_count": 69,
     "metadata": {},
     "output_type": "execute_result"
    }
   ],
   "source": [
    "L1"
   ]
  },
  {
   "cell_type": "markdown",
   "id": "527593ce",
   "metadata": {},
   "source": [
    "**.remove(element)**\n",
    "\n",
    "\n",
    "Removes the element with the specified value"
   ]
  },
  {
   "cell_type": "code",
   "execution_count": 70,
   "id": "e554c1e1",
   "metadata": {},
   "outputs": [
    {
     "data": {
      "text/plain": [
       "[1, 15, 10, 7, 6, 5, 4]"
      ]
     },
     "execution_count": 70,
     "metadata": {},
     "output_type": "execute_result"
    }
   ],
   "source": [
    "L1.remove(6)\n",
    "L1"
   ]
  },
  {
   "cell_type": "markdown",
   "id": "40e0154e",
   "metadata": {},
   "source": [
    "**.count(element)**\n",
    "\n",
    "Returns the number of elements with the specified value"
   ]
  },
  {
   "cell_type": "code",
   "execution_count": 74,
   "id": "70cb1854",
   "metadata": {},
   "outputs": [
    {
     "data": {
      "text/plain": [
       "3"
      ]
     },
     "execution_count": 74,
     "metadata": {},
     "output_type": "execute_result"
    }
   ],
   "source": [
    "L1.count(6)\n",
    "\n",
    "\n",
    "\n",
    "#Count number of times 1 is present in the list"
   ]
  },
  {
   "cell_type": "markdown",
   "id": "7f1a5568",
   "metadata": {},
   "source": [
    "**.clear()**\n",
    "\n",
    "\n",
    "Clear the list"
   ]
  },
  {
   "cell_type": "code",
   "execution_count": 75,
   "id": "c0ec243a",
   "metadata": {},
   "outputs": [
    {
     "data": {
      "text/plain": [
       "[]"
      ]
     },
     "execution_count": 75,
     "metadata": {},
     "output_type": "execute_result"
    }
   ],
   "source": [
    "L1.clear()\n",
    "L1"
   ]
  },
  {
   "cell_type": "code",
   "execution_count": null,
   "id": "7a4401d4",
   "metadata": {},
   "outputs": [],
   "source": []
  },
  {
   "cell_type": "code",
   "execution_count": null,
   "id": "bb6b2201",
   "metadata": {},
   "outputs": [],
   "source": []
  },
  {
   "cell_type": "code",
   "execution_count": null,
   "id": "e41f5b5f",
   "metadata": {},
   "outputs": [],
   "source": []
  },
  {
   "cell_type": "code",
   "execution_count": null,
   "id": "3eb3f959",
   "metadata": {},
   "outputs": [],
   "source": []
  },
  {
   "cell_type": "code",
   "execution_count": null,
   "id": "918a8081",
   "metadata": {},
   "outputs": [],
   "source": []
  },
  {
   "cell_type": "markdown",
   "id": "dd94e5af",
   "metadata": {},
   "source": [
    "### Python Tupple\n"
   ]
  },
  {
   "cell_type": "markdown",
   "id": "439299d6",
   "metadata": {},
   "source": [
    "* Tuples are used to store multiple items in a single variable.\n",
    "\n",
    "* A tuple is a collection which is ordered and unchangeable or immutable. (can't alter/manipulate) \n",
    "\n",
    "* Tuples are written with round brackets. tupple=(1,2,3)"
   ]
  },
  {
   "cell_type": "markdown",
   "id": "dc5201df",
   "metadata": {},
   "source": [
    "**Empty tupple**"
   ]
  },
  {
   "cell_type": "code",
   "execution_count": 77,
   "id": "868bf60f",
   "metadata": {},
   "outputs": [],
   "source": [
    "a=tuple()"
   ]
  },
  {
   "cell_type": "code",
   "execution_count": 109,
   "id": "003d528e-d90a-49d1-90e0-f9d53e010167",
   "metadata": {},
   "outputs": [
    {
     "data": {
      "text/plain": [
       "()"
      ]
     },
     "execution_count": 109,
     "metadata": {},
     "output_type": "execute_result"
    }
   ],
   "source": [
    "a=()\n",
    "a"
   ]
  },
  {
   "cell_type": "markdown",
   "id": "dabb60c5",
   "metadata": {},
   "source": [
    "**Tupple with single element**"
   ]
  },
  {
   "cell_type": "code",
   "execution_count": 114,
   "id": "16a9f9d4-82b9-4d65-8a67-2ad2cd8543b9",
   "metadata": {},
   "outputs": [],
   "source": [
    "b=(5,)"
   ]
  },
  {
   "cell_type": "code",
   "execution_count": 115,
   "id": "1766b09e-20e5-48d0-a5dd-0ca768bbf381",
   "metadata": {},
   "outputs": [
    {
     "data": {
      "text/plain": [
       "tuple"
      ]
     },
     "execution_count": 115,
     "metadata": {},
     "output_type": "execute_result"
    }
   ],
   "source": [
    "type(b)"
   ]
  },
  {
   "cell_type": "code",
   "execution_count": 116,
   "id": "654460ca-b820-4b39-b915-dabeacc41997",
   "metadata": {},
   "outputs": [
    {
     "data": {
      "text/plain": [
       "str"
      ]
     },
     "execution_count": 116,
     "metadata": {},
     "output_type": "execute_result"
    }
   ],
   "source": [
    "a=\"mango\"\n",
    "type(a)"
   ]
  },
  {
   "cell_type": "markdown",
   "id": "49fa7226",
   "metadata": {},
   "source": [
    "**Tupple with more then 1 element**"
   ]
  },
  {
   "cell_type": "code",
   "execution_count": 117,
   "id": "44aa3f5d-74f6-4fca-9c95-78ff66bb51cc",
   "metadata": {},
   "outputs": [],
   "source": [
    "tuple1=(1,2.5,\"banana\",False)"
   ]
  },
  {
   "cell_type": "code",
   "execution_count": 118,
   "id": "51267b75-5d7e-44b1-94b0-a1ec53a2f9c1",
   "metadata": {},
   "outputs": [
    {
     "data": {
      "text/plain": [
       "tuple"
      ]
     },
     "execution_count": 118,
     "metadata": {},
     "output_type": "execute_result"
    }
   ],
   "source": [
    "type(tuple1)"
   ]
  },
  {
   "cell_type": "code",
   "execution_count": null,
   "id": "78dba720-de16-4d7d-a01c-d0a4c176460f",
   "metadata": {},
   "outputs": [],
   "source": []
  },
  {
   "cell_type": "code",
   "execution_count": null,
   "id": "1093e765-2b71-4f70-90ca-394e7d339788",
   "metadata": {},
   "outputs": [],
   "source": []
  },
  {
   "cell_type": "markdown",
   "id": "22a2c0bd",
   "metadata": {},
   "source": [
    "**Indexed**\n",
    "\n",
    "Tuple items are indexed, the first item has index [0], the second item has index [1] etc"
   ]
  },
  {
   "cell_type": "code",
   "execution_count": 119,
   "id": "2d398aeb",
   "metadata": {},
   "outputs": [
    {
     "data": {
      "text/plain": [
       "'banana'"
      ]
     },
     "execution_count": 119,
     "metadata": {},
     "output_type": "execute_result"
    }
   ],
   "source": [
    "tuple1[2]"
   ]
  },
  {
   "cell_type": "markdown",
   "id": "07ebbc00",
   "metadata": {},
   "source": [
    "**Unchangeable**\n",
    "\n",
    "Tuples are unchangeable, meaning that we cannot change, add or remove items after the tuple has been created."
   ]
  },
  {
   "cell_type": "code",
   "execution_count": 120,
   "id": "eb08ad79",
   "metadata": {},
   "outputs": [
    {
     "ename": "TypeError",
     "evalue": "'tuple' object does not support item assignment",
     "output_type": "error",
     "traceback": [
      "\u001b[1;31m---------------------------------------------------------------------------\u001b[0m",
      "\u001b[1;31mTypeError\u001b[0m                                 Traceback (most recent call last)",
      "Cell \u001b[1;32mIn[120], line 1\u001b[0m\n\u001b[1;32m----> 1\u001b[0m \u001b[43mtuple1\u001b[49m\u001b[43m[\u001b[49m\u001b[38;5;241;43m1\u001b[39;49m\u001b[43m]\u001b[49m\u001b[38;5;241m=\u001b[39m\u001b[38;5;241m5\u001b[39m\n",
      "\u001b[1;31mTypeError\u001b[0m: 'tuple' object does not support item assignment"
     ]
    }
   ],
   "source": [
    "tuple1[1]=5"
   ]
  },
  {
   "cell_type": "code",
   "execution_count": null,
   "id": "d591f934-2c2b-4dcb-a9da-63267bbd41b2",
   "metadata": {},
   "outputs": [],
   "source": []
  },
  {
   "cell_type": "code",
   "execution_count": null,
   "id": "025c7965-3e30-4846-938a-31b9eaee230a",
   "metadata": {},
   "outputs": [],
   "source": []
  },
  {
   "cell_type": "code",
   "execution_count": null,
   "id": "3f8a9f8f-a9a5-4262-be14-ca764c03d61f",
   "metadata": {},
   "outputs": [],
   "source": []
  },
  {
   "cell_type": "code",
   "execution_count": null,
   "id": "2cfbb1db-593c-41db-809d-d22c57611037",
   "metadata": {},
   "outputs": [],
   "source": []
  },
  {
   "cell_type": "code",
   "execution_count": null,
   "id": "4f955a99",
   "metadata": {},
   "outputs": [],
   "source": []
  },
  {
   "cell_type": "markdown",
   "id": "c4066068",
   "metadata": {},
   "source": [
    "#### Typecasting"
   ]
  },
  {
   "cell_type": "code",
   "execution_count": 121,
   "id": "d003657a",
   "metadata": {},
   "outputs": [
    {
     "data": {
      "text/plain": [
       "int"
      ]
     },
     "execution_count": 121,
     "metadata": {},
     "output_type": "execute_result"
    }
   ],
   "source": [
    "a=10\n",
    "type(a)"
   ]
  },
  {
   "cell_type": "code",
   "execution_count": 122,
   "id": "f5d28e26",
   "metadata": {},
   "outputs": [
    {
     "data": {
      "text/plain": [
       "float"
      ]
     },
     "execution_count": 122,
     "metadata": {},
     "output_type": "execute_result"
    }
   ],
   "source": [
    "a=float(a)\n",
    "type(a)"
   ]
  },
  {
   "cell_type": "code",
   "execution_count": 123,
   "id": "a5fbfe7b-64a6-4722-b68b-21c80ed79c73",
   "metadata": {},
   "outputs": [
    {
     "data": {
      "text/plain": [
       "10.0"
      ]
     },
     "execution_count": 123,
     "metadata": {},
     "output_type": "execute_result"
    }
   ],
   "source": [
    "a"
   ]
  },
  {
   "cell_type": "code",
   "execution_count": null,
   "id": "c63a59c9-7fb5-44e7-8f2b-602797432361",
   "metadata": {},
   "outputs": [],
   "source": []
  },
  {
   "cell_type": "markdown",
   "id": "0412d7a9",
   "metadata": {},
   "source": [
    "**To update or change value of a tupple we have to first convert a tupple into a list using typecasting**"
   ]
  },
  {
   "cell_type": "code",
   "execution_count": 124,
   "id": "88fb315b-ff28-4824-a7a8-048b290f1230",
   "metadata": {},
   "outputs": [],
   "source": [
    "c=(1,2,\"mango\",True)"
   ]
  },
  {
   "cell_type": "code",
   "execution_count": 125,
   "id": "bc14bc97",
   "metadata": {},
   "outputs": [
    {
     "name": "stdout",
     "output_type": "stream",
     "text": [
      "<class 'tuple'>\n",
      "<class 'list'>\n"
     ]
    }
   ],
   "source": [
    "print(type(c))\n",
    "\n",
    "c=list(c)\n",
    "print(type(c))"
   ]
  },
  {
   "cell_type": "code",
   "execution_count": 127,
   "id": "af9fa2b9",
   "metadata": {},
   "outputs": [
    {
     "name": "stdout",
     "output_type": "stream",
     "text": [
      "[1, 2, 'mango', True]\n"
     ]
    },
    {
     "data": {
      "text/plain": [
       "(1, 5, 'mango', True)"
      ]
     },
     "execution_count": 127,
     "metadata": {},
     "output_type": "execute_result"
    }
   ],
   "source": [
    "print(c)\n",
    "c[1]=5\n",
    "c=tuple(c)\n",
    "c"
   ]
  },
  {
   "cell_type": "code",
   "execution_count": null,
   "id": "ebbf178a",
   "metadata": {},
   "outputs": [],
   "source": []
  },
  {
   "cell_type": "code",
   "execution_count": null,
   "id": "9c2ecdc0-2a02-4f8a-b48f-ec1ca5dc29fd",
   "metadata": {},
   "outputs": [],
   "source": []
  },
  {
   "cell_type": "code",
   "execution_count": null,
   "id": "8d768777-1c7f-40d4-bbf8-db1c6338e2da",
   "metadata": {},
   "outputs": [],
   "source": []
  },
  {
   "cell_type": "code",
   "execution_count": null,
   "id": "53f519d0-0560-46d6-bf8a-a835e3b3f1c3",
   "metadata": {},
   "outputs": [],
   "source": []
  },
  {
   "cell_type": "code",
   "execution_count": null,
   "id": "a58eeb7f-350f-4381-ab95-62040c96fa95",
   "metadata": {},
   "outputs": [],
   "source": []
  },
  {
   "cell_type": "code",
   "execution_count": null,
   "id": "0990edbc",
   "metadata": {},
   "outputs": [],
   "source": []
  },
  {
   "cell_type": "markdown",
   "id": "0d367bc6",
   "metadata": {},
   "source": [
    "**Allow Duplicates**\n",
    "\n",
    "Since tuples are indexed, they can have items with the same value:"
   ]
  },
  {
   "cell_type": "code",
   "execution_count": 128,
   "id": "aada54ba",
   "metadata": {},
   "outputs": [
    {
     "data": {
      "text/plain": [
       "(1, 1, 1, 1, 2)"
      ]
     },
     "execution_count": 128,
     "metadata": {},
     "output_type": "execute_result"
    }
   ],
   "source": [
    "d=(1,1,1,1,2)\n",
    "d"
   ]
  },
  {
   "cell_type": "code",
   "execution_count": 129,
   "id": "26fce166",
   "metadata": {},
   "outputs": [
    {
     "data": {
      "text/plain": [
       "tuple"
      ]
     },
     "execution_count": 129,
     "metadata": {},
     "output_type": "execute_result"
    }
   ],
   "source": [
    "type(d)"
   ]
  },
  {
   "cell_type": "code",
   "execution_count": null,
   "id": "296e0823-f4b2-4465-b3ce-3d2cd1dc450a",
   "metadata": {},
   "outputs": [],
   "source": []
  },
  {
   "cell_type": "code",
   "execution_count": null,
   "id": "1291b8b1-c065-48e9-a395-a94fb253a23a",
   "metadata": {},
   "outputs": [],
   "source": []
  },
  {
   "cell_type": "code",
   "execution_count": null,
   "id": "2f15b28f-574a-4c3d-940c-dfddf908618d",
   "metadata": {},
   "outputs": [],
   "source": []
  },
  {
   "cell_type": "markdown",
   "id": "60850c5a",
   "metadata": {},
   "source": [
    "#### Tupple Methods"
   ]
  },
  {
   "cell_type": "markdown",
   "id": "2384914f",
   "metadata": {},
   "source": [
    "**.count()**\n",
    "\n",
    "Returns the number of times a specified value occurs in a tuple"
   ]
  },
  {
   "cell_type": "code",
   "execution_count": 130,
   "id": "17ec2bd2",
   "metadata": {},
   "outputs": [
    {
     "data": {
      "text/plain": [
       "4"
      ]
     },
     "execution_count": 130,
     "metadata": {},
     "output_type": "execute_result"
    }
   ],
   "source": [
    "d.count(1)"
   ]
  },
  {
   "cell_type": "markdown",
   "id": "baa9d07e",
   "metadata": {},
   "source": [
    "**.index()**\n",
    "\n",
    "Searches the tuple for a specified value and returns the position of where it was found"
   ]
  },
  {
   "cell_type": "code",
   "execution_count": 132,
   "id": "e8c240ac",
   "metadata": {},
   "outputs": [
    {
     "data": {
      "text/plain": [
       "0"
      ]
     },
     "execution_count": 132,
     "metadata": {},
     "output_type": "execute_result"
    }
   ],
   "source": [
    "d.index(1)"
   ]
  },
  {
   "cell_type": "code",
   "execution_count": null,
   "id": "570f20c7",
   "metadata": {},
   "outputs": [],
   "source": []
  },
  {
   "cell_type": "code",
   "execution_count": null,
   "id": "53d061c7",
   "metadata": {},
   "outputs": [],
   "source": []
  },
  {
   "cell_type": "markdown",
   "id": "b27f6d12-8214-4b27-9ac3-48a69a27834a",
   "metadata": {},
   "source": [
    "# Mapping type"
   ]
  },
  {
   "cell_type": "markdown",
   "id": "4d41a45d",
   "metadata": {},
   "source": [
    "### Python Dictionaries"
   ]
  },
  {
   "cell_type": "markdown",
   "id": "1e07ec16",
   "metadata": {},
   "source": [
    "Dictionary is a collection aof Key-Value pairs"
   ]
  },
  {
   "cell_type": "markdown",
   "id": "ad8eac65",
   "metadata": {},
   "source": [
    "A dictionary is ordered,indexed, changeable/mutable and do not allow duplicates(keys)."
   ]
  },
  {
   "cell_type": "code",
   "execution_count": 150,
   "id": "bf31248d",
   "metadata": {},
   "outputs": [],
   "source": [
    "a={\"name\":\"Start-Tech Academy\",\n",
    "  \"City\":\"Gurugram\",\n",
    "  \"Year\":2024,\n",
    "  \"Work\":[\"Data Analytics\",\"Data Science\"],\n",
    "  12:\"address\"}"
   ]
  },
  {
   "cell_type": "code",
   "execution_count": 151,
   "id": "23683b13-7654-4944-bf94-71ad0b0f57cd",
   "metadata": {},
   "outputs": [
    {
     "data": {
      "text/plain": [
       "{'name': 'Start-Tech Academy',\n",
       " 'City': 'Gurugram',\n",
       " 'Year': 2024,\n",
       " 'Work': ['Data Analytics', 'Data Science'],\n",
       " 12: 'address'}"
      ]
     },
     "execution_count": 151,
     "metadata": {},
     "output_type": "execute_result"
    }
   ],
   "source": [
    "a"
   ]
  },
  {
   "cell_type": "code",
   "execution_count": 152,
   "id": "624ffdca-38d0-476a-892e-98b2d136a2c7",
   "metadata": {},
   "outputs": [
    {
     "data": {
      "text/plain": [
       "'address'"
      ]
     },
     "execution_count": 152,
     "metadata": {},
     "output_type": "execute_result"
    }
   ],
   "source": [
    "a[12]"
   ]
  },
  {
   "cell_type": "code",
   "execution_count": 135,
   "id": "01567bd1",
   "metadata": {},
   "outputs": [
    {
     "data": {
      "text/plain": [
       "'Start-Tech Academy'"
      ]
     },
     "execution_count": 135,
     "metadata": {},
     "output_type": "execute_result"
    }
   ],
   "source": [
    "a[\"name\"]"
   ]
  },
  {
   "cell_type": "code",
   "execution_count": 137,
   "id": "17c3ec11",
   "metadata": {},
   "outputs": [
    {
     "data": {
      "text/plain": [
       "'Data Science'"
      ]
     },
     "execution_count": 137,
     "metadata": {},
     "output_type": "execute_result"
    }
   ],
   "source": [
    "a[\"Work\"][1]"
   ]
  },
  {
   "cell_type": "markdown",
   "id": "77e5f4d0",
   "metadata": {},
   "source": [
    "**do not allow duplicates.**"
   ]
  },
  {
   "cell_type": "code",
   "execution_count": 139,
   "id": "cd6ab507",
   "metadata": {},
   "outputs": [],
   "source": [
    "a={\"name\":\"Start-Tech Academy\",\n",
    "  \"City\":\"Gurugram\",\n",
    "  \"Year\":2024,\n",
    "  \"Work\":\"Data Analytics\",\"Work\":\"Data Science\",\n",
    "  \"Year\":2023}"
   ]
  },
  {
   "cell_type": "code",
   "execution_count": 140,
   "id": "c1f51a61",
   "metadata": {},
   "outputs": [
    {
     "data": {
      "text/plain": [
       "{'name': 'Start-Tech Academy',\n",
       " 'City': 'Gurugram',\n",
       " 'Year': 2023,\n",
       " 'Work': 'Data Science'}"
      ]
     },
     "execution_count": 140,
     "metadata": {},
     "output_type": "execute_result"
    }
   ],
   "source": [
    "a"
   ]
  },
  {
   "cell_type": "markdown",
   "id": "9b892403",
   "metadata": {},
   "source": [
    "As you can see it is not taking both only the updated one is present"
   ]
  },
  {
   "cell_type": "code",
   "execution_count": null,
   "id": "4388f6a7",
   "metadata": {},
   "outputs": [],
   "source": []
  },
  {
   "cell_type": "markdown",
   "id": "437a2805",
   "metadata": {},
   "source": [
    "**Changeable**\n",
    "\n",
    "Dictionaries are changeable, meaning that we can change, add or remove items after the dictionary has been created."
   ]
  },
  {
   "cell_type": "code",
   "execution_count": 141,
   "id": "2919bb9f",
   "metadata": {},
   "outputs": [],
   "source": [
    "a.update({\"Year\":2024})"
   ]
  },
  {
   "cell_type": "code",
   "execution_count": 142,
   "id": "ac700168",
   "metadata": {},
   "outputs": [
    {
     "data": {
      "text/plain": [
       "{'name': 'Start-Tech Academy',\n",
       " 'City': 'Gurugram',\n",
       " 'Year': 2024,\n",
       " 'Work': 'Data Science'}"
      ]
     },
     "execution_count": 142,
     "metadata": {},
     "output_type": "execute_result"
    }
   ],
   "source": [
    "a"
   ]
  },
  {
   "cell_type": "code",
   "execution_count": null,
   "id": "66de79ad",
   "metadata": {},
   "outputs": [],
   "source": []
  },
  {
   "cell_type": "markdown",
   "id": "bc2824e5",
   "metadata": {},
   "source": [
    "**Accessing Items**\n",
    "\n",
    "You can access the items of a dictionary by referring to its key name, inside square brackets:"
   ]
  },
  {
   "cell_type": "code",
   "execution_count": 143,
   "id": "1456d1b6",
   "metadata": {},
   "outputs": [
    {
     "data": {
      "text/plain": [
       "'Start-Tech Academy'"
      ]
     },
     "execution_count": 143,
     "metadata": {},
     "output_type": "execute_result"
    }
   ],
   "source": [
    "a[\"name\"]"
   ]
  },
  {
   "cell_type": "markdown",
   "id": "91c77d12",
   "metadata": {},
   "source": [
    "**.get(key)**\n",
    "\n",
    "get can be used to get the value of provided key"
   ]
  },
  {
   "cell_type": "code",
   "execution_count": 144,
   "id": "e95d39ee",
   "metadata": {},
   "outputs": [
    {
     "data": {
      "text/plain": [
       "'Start-Tech Academy'"
      ]
     },
     "execution_count": 144,
     "metadata": {},
     "output_type": "execute_result"
    }
   ],
   "source": [
    "a.get(\"name\")"
   ]
  },
  {
   "cell_type": "code",
   "execution_count": null,
   "id": "ac2d8175",
   "metadata": {},
   "outputs": [],
   "source": []
  },
  {
   "cell_type": "code",
   "execution_count": null,
   "id": "341d4ff1-63bc-4721-8491-b0114290179f",
   "metadata": {},
   "outputs": [],
   "source": []
  },
  {
   "cell_type": "code",
   "execution_count": null,
   "id": "8d086770-faa0-4aa6-8af3-f4fd0a065bf2",
   "metadata": {},
   "outputs": [],
   "source": []
  },
  {
   "cell_type": "code",
   "execution_count": null,
   "id": "d80e4e23-b87d-4b72-a2dd-36dd5b5b78df",
   "metadata": {},
   "outputs": [],
   "source": []
  },
  {
   "cell_type": "code",
   "execution_count": null,
   "id": "237bd4e3-66b9-4043-a08c-a88794d3b79d",
   "metadata": {},
   "outputs": [],
   "source": []
  },
  {
   "cell_type": "markdown",
   "id": "ecd0a5a4",
   "metadata": {},
   "source": [
    "#### Dictionary Methods"
   ]
  },
  {
   "cell_type": "markdown",
   "id": "fc2d4594",
   "metadata": {},
   "source": [
    "**Change Values**\n",
    "You can change the value of a specific item by referring to its key name:\n",
    "    \n",
    "**.update({key:value})**\n",
    "\n",
    "The update() method will update the dictionary with the items from the given argument."
   ]
  },
  {
   "cell_type": "code",
   "execution_count": 146,
   "id": "cac7e3de-1e12-46e7-be0d-408d17257093",
   "metadata": {},
   "outputs": [
    {
     "data": {
      "text/plain": [
       "{'name': 'START-TECH ACADEMY',\n",
       " 'City': 'Gurugram',\n",
       " 'Year': 2024,\n",
       " 'Work': 'Data Science'}"
      ]
     },
     "execution_count": 146,
     "metadata": {},
     "output_type": "execute_result"
    }
   ],
   "source": [
    "a.update({\"name\":\"START-TECH ACADEMY\"})\n",
    "a"
   ]
  },
  {
   "cell_type": "markdown",
   "id": "d89ac273",
   "metadata": {},
   "source": [
    "**.items()**\n",
    "\n",
    "Returns a list containing a tuple for each key value pair"
   ]
  },
  {
   "cell_type": "code",
   "execution_count": 147,
   "id": "efed773b",
   "metadata": {},
   "outputs": [
    {
     "data": {
      "text/plain": [
       "dict_items([('name', 'START-TECH ACADEMY'), ('City', 'Gurugram'), ('Year', 2024), ('Work', 'Data Science')])"
      ]
     },
     "execution_count": 147,
     "metadata": {},
     "output_type": "execute_result"
    }
   ],
   "source": [
    "a.items()"
   ]
  },
  {
   "cell_type": "markdown",
   "id": "b08e8ee7",
   "metadata": {},
   "source": [
    "**.keys()**\n",
    "\n",
    "keys()\tReturns a list containing the dictionary's keys"
   ]
  },
  {
   "cell_type": "code",
   "execution_count": 148,
   "id": "d9e780b7",
   "metadata": {},
   "outputs": [
    {
     "data": {
      "text/plain": [
       "dict_keys(['name', 'City', 'Year', 'Work'])"
      ]
     },
     "execution_count": 148,
     "metadata": {},
     "output_type": "execute_result"
    }
   ],
   "source": [
    "a.keys()"
   ]
  },
  {
   "cell_type": "markdown",
   "id": "eaacc8fc",
   "metadata": {},
   "source": [
    "**.get(key)**\n",
    "\n",
    "get can be used to get the value of provided key"
   ]
  },
  {
   "cell_type": "code",
   "execution_count": 149,
   "id": "9e192b4e",
   "metadata": {},
   "outputs": [
    {
     "data": {
      "text/plain": [
       "'Gurugram'"
      ]
     },
     "execution_count": 149,
     "metadata": {},
     "output_type": "execute_result"
    }
   ],
   "source": [
    "a.get(\"City\")"
   ]
  },
  {
   "cell_type": "code",
   "execution_count": null,
   "id": "55799583",
   "metadata": {},
   "outputs": [],
   "source": []
  },
  {
   "cell_type": "markdown",
   "id": "5bc47a47-352d-42f3-97c9-3b8ac9f30d4e",
   "metadata": {},
   "source": [
    "# Set Types"
   ]
  },
  {
   "cell_type": "markdown",
   "id": "fd724378",
   "metadata": {},
   "source": [
    "### Python Sets"
   ]
  },
  {
   "cell_type": "markdown",
   "id": "3053c629",
   "metadata": {},
   "source": [
    "Set is a collection of non repetitive elements."
   ]
  },
  {
   "cell_type": "markdown",
   "id": "f5b4ba81",
   "metadata": {},
   "source": [
    "Sets are unordered, immutable, and unindexed."
   ]
  },
  {
   "cell_type": "code",
   "execution_count": 1,
   "id": "62453ca1",
   "metadata": {},
   "outputs": [],
   "source": [
    "a=set()"
   ]
  },
  {
   "cell_type": "code",
   "execution_count": 2,
   "id": "1ca044da",
   "metadata": {},
   "outputs": [],
   "source": [
    "b={1,2,3,3}"
   ]
  },
  {
   "cell_type": "code",
   "execution_count": 3,
   "id": "152ca562",
   "metadata": {},
   "outputs": [
    {
     "data": {
      "text/plain": [
       "set"
      ]
     },
     "execution_count": 3,
     "metadata": {},
     "output_type": "execute_result"
    }
   ],
   "source": [
    "type(a)"
   ]
  },
  {
   "cell_type": "code",
   "execution_count": 4,
   "id": "fc2a3e7c",
   "metadata": {},
   "outputs": [
    {
     "data": {
      "text/plain": [
       "set"
      ]
     },
     "execution_count": 4,
     "metadata": {},
     "output_type": "execute_result"
    }
   ],
   "source": [
    "type(b)"
   ]
  },
  {
   "cell_type": "code",
   "execution_count": 5,
   "id": "bc1eda6d",
   "metadata": {},
   "outputs": [
    {
     "name": "stdout",
     "output_type": "stream",
     "text": [
      "{1, 2, 3}\n"
     ]
    }
   ],
   "source": [
    "print(b)  # no duplicates"
   ]
  },
  {
   "cell_type": "code",
   "execution_count": null,
   "id": "54f60e21",
   "metadata": {},
   "outputs": [],
   "source": []
  },
  {
   "cell_type": "markdown",
   "id": "57e1d63d",
   "metadata": {},
   "source": [
    "**Unordered**\n",
    "Unordered means that the items in a set do not have a defined order.\n",
    "Set items can appear in a different order every time you use them, and cannot be referred to by index or key.\n",
    "\n"
   ]
  },
  {
   "cell_type": "markdown",
   "id": "6392aaa5",
   "metadata": {},
   "source": [
    "**Unchangeable**\n",
    "Set items are unchangeable, meaning that we cannot change the items after the set has been created."
   ]
  },
  {
   "cell_type": "markdown",
   "id": "edebdae6",
   "metadata": {},
   "source": [
    "**Duplicates Not Allowed**\n",
    "Sets cannot have two items with the same value."
   ]
  },
  {
   "cell_type": "code",
   "execution_count": null,
   "id": "24a7db85-499c-4357-9cbd-c23791bcdd7a",
   "metadata": {},
   "outputs": [],
   "source": []
  },
  {
   "cell_type": "code",
   "execution_count": null,
   "id": "f3214852-a6d9-4b28-817a-c73426c55c92",
   "metadata": {},
   "outputs": [],
   "source": []
  },
  {
   "cell_type": "code",
   "execution_count": null,
   "id": "afdffade-8640-4a44-9658-552f0b3346e0",
   "metadata": {},
   "outputs": [],
   "source": []
  },
  {
   "cell_type": "code",
   "execution_count": null,
   "id": "ef5209b1-1dda-4464-a3b5-4739e8c78456",
   "metadata": {},
   "outputs": [],
   "source": []
  },
  {
   "cell_type": "code",
   "execution_count": null,
   "id": "bf1e05cb-2952-4bc6-998f-4fcb3c94370c",
   "metadata": {},
   "outputs": [],
   "source": []
  },
  {
   "cell_type": "markdown",
   "id": "f13ba2e6",
   "metadata": {},
   "source": [
    "#### Operations on Set\n",
    "\n",
    "Sets can have operations like :  Union, Intersection"
   ]
  },
  {
   "cell_type": "code",
   "execution_count": 17,
   "id": "067d20ba-a461-4ab2-97de-8f8aa97ca9b1",
   "metadata": {},
   "outputs": [
    {
     "data": {
      "text/plain": [
       "{1, 2, 3, 4, 5}"
      ]
     },
     "execution_count": 17,
     "metadata": {},
     "output_type": "execute_result"
    }
   ],
   "source": [
    "a={1,2,3}\n",
    "b={3,4,5}\n",
    "a.union(b)\n"
   ]
  },
  {
   "cell_type": "code",
   "execution_count": 9,
   "id": "f4b81e43-a15a-400a-a30f-a4eb082e2e94",
   "metadata": {},
   "outputs": [
    {
     "data": {
      "text/plain": [
       "{1, 2, 3}"
      ]
     },
     "execution_count": 9,
     "metadata": {},
     "output_type": "execute_result"
    }
   ],
   "source": [
    "a"
   ]
  },
  {
   "cell_type": "code",
   "execution_count": 11,
   "id": "769f955c-cb75-4e41-905e-c4befda408b7",
   "metadata": {},
   "outputs": [
    {
     "data": {
      "text/plain": [
       "{3}"
      ]
     },
     "execution_count": 11,
     "metadata": {},
     "output_type": "execute_result"
    }
   ],
   "source": [
    "c=a.intersection(b)\n",
    "c"
   ]
  },
  {
   "cell_type": "markdown",
   "id": "8f423d21",
   "metadata": {},
   "source": [
    "#### Set Methods"
   ]
  },
  {
   "cell_type": "markdown",
   "id": "5bba0b68",
   "metadata": {},
   "source": [
    "**.add()**\n",
    "\n",
    "Adds an element to the set"
   ]
  },
  {
   "cell_type": "code",
   "execution_count": 18,
   "id": "171fe73a",
   "metadata": {},
   "outputs": [
    {
     "data": {
      "text/plain": [
       "{3, 4, 5, 6}"
      ]
     },
     "execution_count": 18,
     "metadata": {},
     "output_type": "execute_result"
    }
   ],
   "source": [
    "b.add(6)\n",
    "b"
   ]
  },
  {
   "cell_type": "markdown",
   "id": "6ab22a2e",
   "metadata": {},
   "source": [
    "**.remove()**\n",
    "\n",
    "Removes the specified element"
   ]
  },
  {
   "cell_type": "code",
   "execution_count": 19,
   "id": "b555b269",
   "metadata": {},
   "outputs": [
    {
     "data": {
      "text/plain": [
       "{3, 5, 6}"
      ]
     },
     "execution_count": 19,
     "metadata": {},
     "output_type": "execute_result"
    }
   ],
   "source": [
    "b.remove(4)\n",
    "b"
   ]
  },
  {
   "cell_type": "markdown",
   "id": "8228e3c0",
   "metadata": {},
   "source": [
    "**.pop()**\n",
    "\n",
    "Removes an element from the set"
   ]
  },
  {
   "cell_type": "code",
   "execution_count": 21,
   "id": "12e7ffdd",
   "metadata": {},
   "outputs": [
    {
     "data": {
      "text/plain": [
       "{5, 6}"
      ]
     },
     "execution_count": 21,
     "metadata": {},
     "output_type": "execute_result"
    }
   ],
   "source": [
    "b.pop()\n",
    "b"
   ]
  },
  {
   "cell_type": "markdown",
   "id": "bc082185",
   "metadata": {},
   "source": [
    "**.clear()**\n",
    "\n",
    "Removes all the elements from the set"
   ]
  },
  {
   "cell_type": "code",
   "execution_count": 22,
   "id": "222fe869",
   "metadata": {},
   "outputs": [
    {
     "data": {
      "text/plain": [
       "set()"
      ]
     },
     "execution_count": 22,
     "metadata": {},
     "output_type": "execute_result"
    }
   ],
   "source": [
    "b.clear()\n",
    "b"
   ]
  },
  {
   "cell_type": "markdown",
   "id": "54a0c558",
   "metadata": {},
   "source": [
    "**.difference()**\n",
    "\n",
    "Returns a set containing the difference between two or more sets"
   ]
  },
  {
   "cell_type": "code",
   "execution_count": 23,
   "id": "de055b61",
   "metadata": {},
   "outputs": [
    {
     "data": {
      "text/plain": [
       "{1, 2}"
      ]
     },
     "execution_count": 23,
     "metadata": {},
     "output_type": "execute_result"
    }
   ],
   "source": [
    "a={1,2,3}\n",
    "b={3,4,5,6}\n",
    "a.difference(b)   # will return elements of a not present on b\n"
   ]
  },
  {
   "cell_type": "markdown",
   "id": "aa202451",
   "metadata": {},
   "source": [
    "**.union()**\n",
    "\n",
    "Return a set containing the union of sets"
   ]
  },
  {
   "cell_type": "code",
   "execution_count": null,
   "id": "c2d9ec0d",
   "metadata": {},
   "outputs": [],
   "source": [
    "a.union(b)"
   ]
  },
  {
   "cell_type": "markdown",
   "id": "fc667f6b",
   "metadata": {},
   "source": [
    "**.intersection()**\n",
    "\n",
    "\n",
    "Returns a set, that is the intersection of two other sets (common elements)"
   ]
  },
  {
   "cell_type": "code",
   "execution_count": null,
   "id": "8a041fcc",
   "metadata": {},
   "outputs": [],
   "source": [
    "a.intersection(b)"
   ]
  },
  {
   "cell_type": "markdown",
   "id": "e6a51f71",
   "metadata": {},
   "source": [
    "**Len()**  \n",
    "Set Function : Returns length of set"
   ]
  },
  {
   "cell_type": "code",
   "execution_count": 24,
   "id": "97e8f1da",
   "metadata": {},
   "outputs": [
    {
     "data": {
      "text/plain": [
       "3"
      ]
     },
     "execution_count": 24,
     "metadata": {},
     "output_type": "execute_result"
    }
   ],
   "source": [
    "len(a)"
   ]
  },
  {
   "cell_type": "code",
   "execution_count": null,
   "id": "ddf24ff0",
   "metadata": {},
   "outputs": [],
   "source": []
  },
  {
   "cell_type": "code",
   "execution_count": null,
   "id": "98506c35",
   "metadata": {},
   "outputs": [],
   "source": []
  },
  {
   "cell_type": "code",
   "execution_count": null,
   "id": "35e96654",
   "metadata": {},
   "outputs": [],
   "source": []
  },
  {
   "cell_type": "markdown",
   "id": "743b5543",
   "metadata": {},
   "source": [
    "## Python Conditional Expressions"
   ]
  },
  {
   "cell_type": "markdown",
   "id": "59dbfac9",
   "metadata": {},
   "source": [
    "Conditional statements are an essential part of programming in Python. They allow you to make decisions based on the values of variables or the result of comparisons."
   ]
  },
  {
   "cell_type": "markdown",
   "id": "01942d45",
   "metadata": {},
   "source": [
    "Our decisions depends on the condition that needs to be met the same way a program can work differently based on different conditions"
   ]
  },
  {
   "cell_type": "markdown",
   "id": "5fa6f138",
   "metadata": {},
   "source": [
    "Python uses If-Else statements for creating the logic"
   ]
  },
  {
   "cell_type": "markdown",
   "id": "43b0d305-fdad-468d-a57f-efa241501b7e",
   "metadata": {},
   "source": [
    "### If-Else "
   ]
  },
  {
   "cell_type": "markdown",
   "id": "2a91374b-f9bb-45b4-b262-bda10f2416a9",
   "metadata": {},
   "source": [
    "Syntax:\n",
    "\n",
    "    if(condition1):\n",
    "        <code>\n",
    "    else:\n",
    "        <code>"
   ]
  },
  {
   "cell_type": "code",
   "execution_count": 25,
   "id": "1a6de7c6-1fa5-45a5-a26a-0989898bfc28",
   "metadata": {},
   "outputs": [],
   "source": [
    "age=17"
   ]
  },
  {
   "cell_type": "code",
   "execution_count": 26,
   "id": "476969ea-c4f0-4265-8eee-af02da5141a6",
   "metadata": {},
   "outputs": [],
   "source": [
    "\n",
    "if(age>=18):\n",
    "    print(\"You can go inside\")\n",
    "# else:\n",
    "#     print(\"you are not welocme\")\n",
    "    "
   ]
  },
  {
   "cell_type": "code",
   "execution_count": null,
   "id": "00d0bb08-685a-404e-b593-fa5ba1de24dd",
   "metadata": {},
   "outputs": [],
   "source": []
  },
  {
   "cell_type": "code",
   "execution_count": null,
   "id": "2c8eda5c-64e6-41c6-b2de-978b0d1eef70",
   "metadata": {},
   "outputs": [],
   "source": []
  },
  {
   "cell_type": "code",
   "execution_count": null,
   "id": "9af773cb-7b0c-4f1d-a6c6-51cce37a6129",
   "metadata": {},
   "outputs": [],
   "source": []
  },
  {
   "cell_type": "markdown",
   "id": "43f32fc2",
   "metadata": {},
   "source": [
    "### If-Else and Elif in Python"
   ]
  },
  {
   "cell_type": "markdown",
   "id": "608a0d1b",
   "metadata": {},
   "source": [
    "If-Else and elif statements are a multiway decisions taken by our program due to certain conditions in our code"
   ]
  },
  {
   "cell_type": "markdown",
   "id": "b734e91c",
   "metadata": {},
   "source": [
    "**Syntax:**\n",
    "\n",
    "    if(condition1):\n",
    "        <code>\n",
    "    elif(condition2):\n",
    "        <code>\n",
    "    else:\n",
    "        <code>"
   ]
  },
  {
   "cell_type": "code",
   "execution_count": null,
   "id": "5b276c48-55b3-42f5-8a89-67bc812c2c0f",
   "metadata": {},
   "outputs": [],
   "source": []
  },
  {
   "cell_type": "code",
   "execution_count": null,
   "id": "28fb4e1e-eedd-4e0a-b593-14a5a3fb4858",
   "metadata": {},
   "outputs": [],
   "source": []
  },
  {
   "cell_type": "code",
   "execution_count": null,
   "id": "1b0d213c-a9ed-4a85-a04d-4416042434fb",
   "metadata": {},
   "outputs": [],
   "source": []
  },
  {
   "cell_type": "code",
   "execution_count": null,
   "id": "c3e3b038-0ad7-4583-aa6f-deb60d23ed1f",
   "metadata": {},
   "outputs": [],
   "source": []
  },
  {
   "cell_type": "code",
   "execution_count": null,
   "id": "63789667-c0b6-4944-b670-d9543d0d57cf",
   "metadata": {},
   "outputs": [],
   "source": []
  },
  {
   "cell_type": "code",
   "execution_count": 31,
   "id": "f30fc290",
   "metadata": {},
   "outputs": [
    {
     "name": "stdout",
     "output_type": "stream",
     "text": [
      "senior-citizen\n"
     ]
    }
   ],
   "source": [
    "age=90\n",
    "if(age<=19):\n",
    "    print(\"Teenager\")\n",
    "elif(age==100):\n",
    "        print(\"congratulations on youe century\")\n",
    "elif(age>60):\n",
    "    print(\"senior-citizen\")\n",
    "else:\n",
    "    print(\"Middle aged\")"
   ]
  },
  {
   "cell_type": "code",
   "execution_count": null,
   "id": "069de54f-1bfb-472b-ad9b-678d3fe43893",
   "metadata": {},
   "outputs": [],
   "source": []
  },
  {
   "cell_type": "code",
   "execution_count": null,
   "id": "c5a9e440-cd78-4f16-9ffb-66d5a1496f65",
   "metadata": {},
   "outputs": [],
   "source": []
  },
  {
   "cell_type": "code",
   "execution_count": null,
   "id": "736c3702-820e-4c05-b39a-72b2d2644b70",
   "metadata": {},
   "outputs": [],
   "source": []
  },
  {
   "cell_type": "code",
   "execution_count": null,
   "id": "965c069d-5d0e-4a47-b748-a673219c40ff",
   "metadata": {},
   "outputs": [],
   "source": []
  },
  {
   "cell_type": "code",
   "execution_count": null,
   "id": "c9c671fc-4da2-421f-9ddb-63e8327b87c8",
   "metadata": {},
   "outputs": [],
   "source": []
  },
  {
   "cell_type": "markdown",
   "id": "09f9a394",
   "metadata": {},
   "source": [
    "#### Python operators"
   ]
  },
  {
   "cell_type": "markdown",
   "id": "20dece89-4677-4f54-8460-f22e3c939ac9",
   "metadata": {},
   "source": [
    "**Arithmetic operators**\n",
    "\n",
    "Arithmetic operators are used with numeric values to perform common mathematical operations:\n",
    "   * \\+ ----> Addition\n",
    "   * \\- ----> Subtraction\n",
    "   * \\* ----> Multiplication\n",
    "   * / ----> Devision"
   ]
  },
  {
   "cell_type": "code",
   "execution_count": 38,
   "id": "ecb25bf6-b3f0-49f6-a286-f6751e0d94bd",
   "metadata": {},
   "outputs": [
    {
     "data": {
      "text/plain": [
       "22"
      ]
     },
     "execution_count": 38,
     "metadata": {},
     "output_type": "execute_result"
    }
   ],
   "source": [
    "x=21\n",
    "y=1\n",
    "x+y"
   ]
  },
  {
   "cell_type": "markdown",
   "id": "67644c80-dd9d-49f8-a161-22f68151ca43",
   "metadata": {},
   "source": [
    "**Assignment operators**\n",
    "\n",
    "Assignment operators are used to assign values to variables:\n",
    "Elamples:\n",
    "   * = ----> Assign the value\n",
    "   * += ----> Increment\n",
    "   * -= ----> Decrement\n"
   ]
  },
  {
   "cell_type": "code",
   "execution_count": 41,
   "id": "d3095e39-d20d-4b1a-9f8b-7281ff63d9fb",
   "metadata": {},
   "outputs": [
    {
     "data": {
      "text/plain": [
       "4"
      ]
     },
     "execution_count": 41,
     "metadata": {},
     "output_type": "execute_result"
    }
   ],
   "source": [
    "x=5\n",
    "x -= 1\n",
    "x"
   ]
  },
  {
   "cell_type": "markdown",
   "id": "7f07f7c1",
   "metadata": {},
   "source": [
    "**Reletional operators**\n",
    "\n",
    "Relational operators are used to evaluate conditions inside if statements\n",
    "Elamples:\n",
    "   * == ----> Equals\n",
    "   * \\>= ----> Grater then/equal to\n",
    "   * <= ----> Less then/equal to \n",
    "   * != ----> Not Equals"
   ]
  },
  {
   "cell_type": "code",
   "execution_count": null,
   "id": "9dec6ffe-c5de-49ee-93ee-a805bba68d1c",
   "metadata": {},
   "outputs": [],
   "source": []
  },
  {
   "cell_type": "markdown",
   "id": "59678975",
   "metadata": {},
   "source": [
    "**Logical operators**\n",
    "\n",
    "Logical operators operate on conditional statements\n",
    "Elamples:\n",
    "   * and ----> true if both conditions are true\n",
    "   * or  ------> true if any one of the given condition is true\n",
    "   * not ----> Invert true to false & false to true"
   ]
  },
  {
   "cell_type": "code",
   "execution_count": 42,
   "id": "9e540373-e8a7-4d46-a558-2f388c553fe3",
   "metadata": {},
   "outputs": [],
   "source": [
    "x=1\n",
    "y=3\n",
    "z=2"
   ]
  },
  {
   "cell_type": "code",
   "execution_count": 44,
   "id": "28eff55d-e721-4c10-bb20-d11cfe077fdc",
   "metadata": {},
   "outputs": [
    {
     "data": {
      "text/plain": [
       "7"
      ]
     },
     "execution_count": 44,
     "metadata": {},
     "output_type": "execute_result"
    }
   ],
   "source": [
    "x+y*z/7\n"
   ]
  },
  {
   "cell_type": "code",
   "execution_count": null,
   "id": "3a0e92e8-a36c-46a9-b1f8-8e3efe38709d",
   "metadata": {},
   "outputs": [],
   "source": [
    "() > *,/ > +,- > not > and > or"
   ]
  },
  {
   "cell_type": "code",
   "execution_count": null,
   "id": "0954bf58-5610-4225-9b60-1f31352a01ff",
   "metadata": {},
   "outputs": [],
   "source": []
  },
  {
   "cell_type": "code",
   "execution_count": null,
   "id": "4d744b8d-e80d-46c1-9afb-659965fe79d9",
   "metadata": {},
   "outputs": [],
   "source": []
  },
  {
   "cell_type": "code",
   "execution_count": null,
   "id": "18a06dac-4aeb-43a1-ada2-698cc2fcdbc4",
   "metadata": {},
   "outputs": [],
   "source": []
  },
  {
   "cell_type": "code",
   "execution_count": null,
   "id": "7154f1d9-4800-4094-8f7a-04b76ccbaee1",
   "metadata": {},
   "outputs": [],
   "source": []
  },
  {
   "cell_type": "code",
   "execution_count": null,
   "id": "98bb0001-74a6-4701-a0f9-4408ff3ae8cb",
   "metadata": {},
   "outputs": [],
   "source": []
  },
  {
   "cell_type": "code",
   "execution_count": null,
   "id": "41feb34a-6917-4049-b768-0eb49b1e5fa7",
   "metadata": {},
   "outputs": [],
   "source": []
  },
  {
   "cell_type": "markdown",
   "id": "f870607c",
   "metadata": {},
   "source": [
    "### Writing If-Else Statements"
   ]
  },
  {
   "cell_type": "markdown",
   "id": "a22e429d",
   "metadata": {},
   "source": [
    "**Indentation**\n",
    "\n",
    "Python relies on indentation (whitespace at the beginning of a line) to define scope in the code. Other programming languages often use curly-brackets for this purpose."
   ]
  },
  {
   "cell_type": "markdown",
   "id": "67bc765e",
   "metadata": {},
   "source": [
    "**If statement**"
   ]
  },
  {
   "cell_type": "code",
   "execution_count": 46,
   "id": "ae752f1c",
   "metadata": {},
   "outputs": [
    {
     "name": "stdout",
     "output_type": "stream",
     "text": [
      "a is grater then b\n"
     ]
    }
   ],
   "source": [
    "a=55\n",
    "b=55\n",
    "if(a>b):\n",
    "    print(\"a is grater then b\")"
   ]
  },
  {
   "cell_type": "markdown",
   "id": "81c40a0d",
   "metadata": {},
   "source": [
    "**if-else Statement**"
   ]
  },
  {
   "cell_type": "code",
   "execution_count": 47,
   "id": "7786b549",
   "metadata": {},
   "outputs": [
    {
     "name": "stdout",
     "output_type": "stream",
     "text": [
      "b is grater then a\n"
     ]
    }
   ],
   "source": [
    "a=55\n",
    "b=55\n",
    "if(a>b):\n",
    "    print(\"a is grater then b\")\n",
    "else:\n",
    "    print(\"b is grater then a\")"
   ]
  },
  {
   "cell_type": "markdown",
   "id": "6889d7bb",
   "metadata": {},
   "source": [
    "**if-Elif Else statement**"
   ]
  },
  {
   "cell_type": "code",
   "execution_count": 48,
   "id": "e8d31105",
   "metadata": {},
   "outputs": [
    {
     "name": "stdout",
     "output_type": "stream",
     "text": [
      "a is equals to b\n"
     ]
    }
   ],
   "source": [
    "a=55\n",
    "b=55\n",
    "if(a>b):\n",
    "    print(\"a is grater then b\")\n",
    "elif(a==b):\n",
    "    print(\"a is equals to b\")\n",
    "else:\n",
    "    print(\"b is grater then a\")"
   ]
  },
  {
   "cell_type": "markdown",
   "id": "841201f8",
   "metadata": {},
   "source": [
    "We can have multiple elif between if and else"
   ]
  },
  {
   "cell_type": "markdown",
   "id": "a77d6779",
   "metadata": {},
   "source": [
    "**Using Logical Operators**"
   ]
  },
  {
   "cell_type": "code",
   "execution_count": 52,
   "id": "0ec9f88a",
   "metadata": {},
   "outputs": [
    {
     "name": "stdout",
     "output_type": "stream",
     "text": [
      "you can become the member of the gym\n"
     ]
    }
   ],
   "source": [
    "age=75\n",
    "if(age>18 or age<50):\n",
    "    print(\"you can become the member of the gym\")\n",
    "else:\n",
    "    print(\"you cannot become the member of the gym\")"
   ]
  },
  {
   "cell_type": "code",
   "execution_count": null,
   "id": "07255bbb-2669-48e7-b554-9c8c9493fa39",
   "metadata": {},
   "outputs": [],
   "source": []
  },
  {
   "cell_type": "code",
   "execution_count": null,
   "id": "f0fb8ec7-0bec-4b9d-bed1-e6c7524a625e",
   "metadata": {},
   "outputs": [],
   "source": []
  },
  {
   "cell_type": "code",
   "execution_count": null,
   "id": "51a0fd3a-d89b-4bf8-a32f-82c1861d5432",
   "metadata": {},
   "outputs": [],
   "source": []
  },
  {
   "cell_type": "code",
   "execution_count": null,
   "id": "a32de14c-c574-4749-84a5-e5057ebeeb99",
   "metadata": {},
   "outputs": [],
   "source": []
  },
  {
   "cell_type": "code",
   "execution_count": null,
   "id": "c57e1f0c-70cc-483c-832c-20616ad4d4a6",
   "metadata": {},
   "outputs": [],
   "source": []
  },
  {
   "cell_type": "code",
   "execution_count": null,
   "id": "f9ae59ce-1615-46a8-ad53-a7accc62f488",
   "metadata": {},
   "outputs": [],
   "source": []
  },
  {
   "cell_type": "markdown",
   "id": "1c617b53-c4c2-4594-85ee-21f49043453e",
   "metadata": {},
   "source": [
    "**Nested If**\n",
    "\n",
    "You can have if statements inside if statements, this is called nested if statements."
   ]
  },
  {
   "cell_type": "code",
   "execution_count": 58,
   "id": "41c885ae-18ee-4654-a412-d5eed651c310",
   "metadata": {},
   "outputs": [],
   "source": [
    "a=11\n",
    "b=6"
   ]
  },
  {
   "cell_type": "code",
   "execution_count": 59,
   "id": "1fee25ac-4afb-422e-a679-5e3637d24ef3",
   "metadata": {},
   "outputs": [
    {
     "name": "stdout",
     "output_type": "stream",
     "text": [
      "a is grater then 10\n",
      "b is less then a \n"
     ]
    }
   ],
   "source": [
    "if(a>10):\n",
    "    print(\"a is grater then 10\")\n",
    "    if(b>=a):\n",
    "        print(\"b is grater then 10\")\n",
    "    else: print(\"b is less then a \")\n",
    "else:\n",
    "    print(\"a and b both less then 10\")"
   ]
  },
  {
   "cell_type": "code",
   "execution_count": null,
   "id": "c48bbdab-02ec-4405-81e4-64d27927815a",
   "metadata": {},
   "outputs": [],
   "source": []
  },
  {
   "cell_type": "markdown",
   "id": "c431cefc-1cbc-4dfd-8f06-ddc401978fe4",
   "metadata": {},
   "source": [
    "**The pass Statement**\n",
    "\n",
    "if statements cannot be empty, but if you for some reason have an if statement with no content, put in the pass statement to avoid getting an error."
   ]
  },
  {
   "cell_type": "code",
   "execution_count": 65,
   "id": "6f8a03f5-3440-4ff6-93d2-e5fa0f071a27",
   "metadata": {},
   "outputs": [],
   "source": [
    "age=-27"
   ]
  },
  {
   "cell_type": "code",
   "execution_count": 66,
   "id": "eb53ddfe-4d1b-470f-a7ff-fe0879868f5e",
   "metadata": {},
   "outputs": [],
   "source": [
    "if (age>18):\n",
    "    print(\"You are allowed\")\n",
    "\n",
    "elif(age<18):\n",
    "    if(age<0):\n",
    "        pass\n",
    "    else:\n",
    "        print(\"You are not allowed\")\n",
    "\n",
    "    \n",
    "        "
   ]
  },
  {
   "cell_type": "code",
   "execution_count": null,
   "id": "8a80999f-a335-42b9-8a6e-176f1404e038",
   "metadata": {},
   "outputs": [],
   "source": []
  },
  {
   "cell_type": "code",
   "execution_count": null,
   "id": "bb745330-09fc-4880-98a1-d861c6f780b5",
   "metadata": {},
   "outputs": [],
   "source": []
  },
  {
   "cell_type": "code",
   "execution_count": null,
   "id": "c5ab515d-6068-4ba6-a4d6-f2b5e1f0fa50",
   "metadata": {},
   "outputs": [],
   "source": []
  },
  {
   "cell_type": "markdown",
   "id": "2a9c8123-6f2d-4ef9-bc36-67f3b852681c",
   "metadata": {},
   "source": [
    "## Loops in python"
   ]
  },
  {
   "cell_type": "markdown",
   "id": "bfdc65b8-a04d-4935-a4f1-d22680893452",
   "metadata": {},
   "source": [
    "Looping means repeating something over and over until a particular condition is satisfied"
   ]
  },
  {
   "cell_type": "markdown",
   "id": "48230067-4174-49c0-bd74-ce78f446dcde",
   "metadata": {},
   "source": [
    "Python has 3 Loops\n",
    "* For Loop\n",
    "* While Loop "
   ]
  },
  {
   "cell_type": "markdown",
   "id": "bdfc0566-5ed4-4771-94c8-6435059846ce",
   "metadata": {},
   "source": [
    "### For Loop"
   ]
  },
  {
   "cell_type": "markdown",
   "id": "5d3ed17c-1a7a-48e3-930f-181f62490158",
   "metadata": {},
   "source": [
    "The variable will take on each value in the sequence, one at a time. \n",
    "\n",
    "The loop body will be executed for each value of the variable.\n"
   ]
  },
  {
   "cell_type": "code",
   "execution_count": null,
   "id": "86ee8bd9-fb8f-4d36-a2a2-aac57f464a59",
   "metadata": {},
   "outputs": [],
   "source": [
    "For example, the following code will print each item in the list:"
   ]
  },
  {
   "cell_type": "code",
   "execution_count": 75,
   "id": "0e448172-b1e7-44aa-9210-9b363da426b9",
   "metadata": {},
   "outputs": [
    {
     "name": "stdout",
     "output_type": "stream",
     "text": [
      "Item1\n",
      "Item2\n",
      "Item3\n",
      "5\n",
      "1\n",
      "11\n",
      "1\n",
      "1\n",
      "1\n",
      "1\n",
      "11\n",
      "1\n",
      "1\n",
      "11\n"
     ]
    }
   ],
   "source": [
    "List= [\"Item1\",\"Item2\",\"Item3\",5,1,11,1,1,1,1,11,1,1,11]\n",
    "for i in List:\n",
    "    print(i)"
   ]
  },
  {
   "cell_type": "code",
   "execution_count": 68,
   "id": "6a8cb88c-7196-4180-83fc-e58c344c70de",
   "metadata": {},
   "outputs": [
    {
     "data": {
      "text/plain": [
       "'Item1'"
      ]
     },
     "execution_count": 68,
     "metadata": {},
     "output_type": "execute_result"
    }
   ],
   "source": [
    "List= [\"Item1\",\"Item2\",\"Item3\"]\n",
    "\n",
    "List[0]"
   ]
  },
  {
   "cell_type": "code",
   "execution_count": null,
   "id": "7a7f2f25-f237-4ebd-ac36-49872f2d37d8",
   "metadata": {},
   "outputs": [],
   "source": []
  },
  {
   "cell_type": "code",
   "execution_count": null,
   "id": "8d5f1a3f-5d86-415c-819e-61c760275cc9",
   "metadata": {},
   "outputs": [],
   "source": []
  },
  {
   "cell_type": "code",
   "execution_count": null,
   "id": "8b5420e3-e968-4bc8-9527-d0923c0dc623",
   "metadata": {},
   "outputs": [],
   "source": []
  },
  {
   "cell_type": "code",
   "execution_count": null,
   "id": "e3be7ea8-7a2a-4077-af66-ce64afa83bd4",
   "metadata": {},
   "outputs": [],
   "source": []
  },
  {
   "cell_type": "code",
   "execution_count": null,
   "id": "c29888b7-c543-4bae-9e0f-d8f697c5d7b1",
   "metadata": {},
   "outputs": [],
   "source": []
  },
  {
   "cell_type": "markdown",
   "id": "01209f03-f8cd-434e-9a93-ddd5580d997b",
   "metadata": {},
   "source": [
    "**Using range functioin**"
   ]
  },
  {
   "cell_type": "markdown",
   "id": "f55bd003-4821-421b-be50-4f302a5eef21",
   "metadata": {},
   "source": [
    "range function is used to generate a sequence of numbers between a given range"
   ]
  },
  {
   "cell_type": "markdown",
   "id": "f04a4458-eac5-4d91-947f-989530b79832",
   "metadata": {},
   "source": [
    "For example, the following code will print each number from 1 to 10:\n"
   ]
  },
  {
   "cell_type": "code",
   "execution_count": 76,
   "id": "cd04af60-753e-4f05-a1a7-daa84279a8b4",
   "metadata": {},
   "outputs": [
    {
     "name": "stdout",
     "output_type": "stream",
     "text": [
      "1\n",
      "2\n",
      "3\n",
      "4\n",
      "5\n",
      "6\n",
      "7\n",
      "8\n",
      "9\n",
      "10\n"
     ]
    }
   ],
   "source": [
    "for i in range(1, 11):\n",
    "  print(i)"
   ]
  },
  {
   "cell_type": "markdown",
   "id": "9ada7163-0ec5-4655-b54d-17c817d227ad",
   "metadata": {},
   "source": [
    "**You can also use strings in a loop and not only list**"
   ]
  },
  {
   "cell_type": "code",
   "execution_count": 77,
   "id": "42b467f4-634b-4e72-8b0d-93795b04db9a",
   "metadata": {},
   "outputs": [
    {
     "name": "stdout",
     "output_type": "stream",
     "text": [
      "S\n",
      "t\n",
      "a\n",
      "r\n",
      "t\n",
      "-\n",
      "T\n",
      "e\n",
      "c\n",
      "h\n",
      " \n",
      "A\n",
      "c\n",
      "a\n",
      "d\n",
      "e\n",
      "m\n",
      "y\n"
     ]
    }
   ],
   "source": [
    "for char in \"Start-Tech Academy\":\n",
    "    print(char)"
   ]
  },
  {
   "cell_type": "code",
   "execution_count": null,
   "id": "e3b9de2e-7f0b-4c1e-bef6-047077c38440",
   "metadata": {},
   "outputs": [],
   "source": []
  },
  {
   "cell_type": "code",
   "execution_count": null,
   "id": "e554c3cd-e4a4-4352-abcb-537050852841",
   "metadata": {},
   "outputs": [],
   "source": []
  },
  {
   "cell_type": "code",
   "execution_count": null,
   "id": "ea7b0074-e393-4d31-9ed0-0ce72591ba2b",
   "metadata": {},
   "outputs": [],
   "source": []
  },
  {
   "cell_type": "code",
   "execution_count": null,
   "id": "93b0fd1e-be90-430d-8885-22bd3f4ef422",
   "metadata": {},
   "outputs": [],
   "source": []
  },
  {
   "cell_type": "code",
   "execution_count": null,
   "id": "a0e6bd46-d365-4e0b-9bc6-c34c45feabfc",
   "metadata": {},
   "outputs": [],
   "source": []
  },
  {
   "cell_type": "code",
   "execution_count": null,
   "id": "80cf9fe3-c875-49fe-9ecf-06756411a9f0",
   "metadata": {},
   "outputs": [],
   "source": []
  },
  {
   "cell_type": "markdown",
   "id": "8e087e1c-a686-43cc-b8be-b06fc91f23bc",
   "metadata": {},
   "source": [
    "**break Statement**\n",
    "With the break statement we can stop the loop at a particular iteration:"
   ]
  },
  {
   "cell_type": "code",
   "execution_count": 80,
   "id": "9b259c3b-2e17-4078-8b76-50c52493fb04",
   "metadata": {},
   "outputs": [
    {
     "name": "stdout",
     "output_type": "stream",
     "text": [
      "S\n",
      "t\n",
      "a\n",
      "r\n",
      "t\n",
      "-\n",
      "T\n",
      "e\n",
      "c\n",
      "h\n",
      " \n"
     ]
    }
   ],
   "source": [
    "name=\"Start-Tech Academy\"\n",
    "count = 0\n",
    "for char in name:\n",
    "  print(char)\n",
    "  count += 1\n",
    "  if char == \" \":\n",
    "    break"
   ]
  },
  {
   "cell_type": "code",
   "execution_count": 81,
   "id": "b8b2d842-b2f7-463b-ac85-f8892ec85b4e",
   "metadata": {},
   "outputs": [
    {
     "data": {
      "text/plain": [
       "11"
      ]
     },
     "execution_count": 81,
     "metadata": {},
     "output_type": "execute_result"
    }
   ],
   "source": [
    "count"
   ]
  },
  {
   "cell_type": "markdown",
   "id": "905adb29-cc79-455a-bc15-d76864cd12ed",
   "metadata": {},
   "source": [
    "similarly we also have continue to skip a particular iteration"
   ]
  },
  {
   "cell_type": "code",
   "execution_count": 83,
   "id": "69548d91-1a02-45e7-a6b6-9424784e8eb1",
   "metadata": {},
   "outputs": [
    {
     "name": "stdout",
     "output_type": "stream",
     "text": [
      "S\n",
      "t\n",
      "a\n",
      "r\n",
      "t\n",
      "-\n",
      "T\n",
      "e\n",
      "c\n",
      "h\n",
      "A\n",
      "c\n",
      "a\n",
      "d\n",
      "e\n",
      "m\n",
      "y\n"
     ]
    }
   ],
   "source": [
    "name=\"Start-Tech Academy\"\n",
    "for char in name:\n",
    "  #print(char)\n",
    "  if char == \" \":\n",
    "    continue\n",
    "  print(char)"
   ]
  },
  {
   "cell_type": "code",
   "execution_count": null,
   "id": "72ee6ccc-36bd-4935-8d6d-9344c76ff54f",
   "metadata": {},
   "outputs": [],
   "source": []
  },
  {
   "cell_type": "code",
   "execution_count": 85,
   "id": "be0d2886-1351-425a-b9f1-4ffe646fc8c8",
   "metadata": {},
   "outputs": [
    {
     "name": "stdout",
     "output_type": "stream",
     "text": [
      "abc\n"
     ]
    }
   ],
   "source": [
    "for i in range(0,11):\n",
    "    pass\n",
    "\n",
    "\n",
    "\n",
    "print(\"abc\")"
   ]
  },
  {
   "cell_type": "code",
   "execution_count": null,
   "id": "33515584-3e4e-470b-8421-8e101be679f2",
   "metadata": {},
   "outputs": [],
   "source": []
  },
  {
   "cell_type": "code",
   "execution_count": 88,
   "id": "8fb10c61-63e0-462b-b901-57d71b15f17c",
   "metadata": {},
   "outputs": [
    {
     "name": "stdout",
     "output_type": "stream",
     "text": [
      "0 , 0\n",
      "0 , 1\n",
      "0 , 2\n",
      "0 , 3\n",
      "0 , 4\n",
      "0 , 5\n",
      "0 , 6\n",
      "0 , 7\n",
      "0 , 8\n",
      "0 , 9\n",
      "1 , 1\n",
      "1 , 2\n",
      "1 , 3\n",
      "1 , 4\n",
      "1 , 5\n",
      "1 , 6\n",
      "1 , 7\n",
      "1 , 8\n",
      "1 , 9\n",
      "2 , 2\n",
      "2 , 3\n",
      "2 , 4\n",
      "2 , 5\n",
      "2 , 6\n",
      "2 , 7\n",
      "2 , 8\n",
      "2 , 9\n",
      "3 , 3\n",
      "3 , 4\n",
      "3 , 5\n",
      "3 , 6\n",
      "3 , 7\n",
      "3 , 8\n",
      "3 , 9\n",
      "4 , 4\n",
      "4 , 5\n",
      "4 , 6\n",
      "4 , 7\n",
      "4 , 8\n",
      "4 , 9\n",
      "5 , 5\n",
      "5 , 6\n",
      "5 , 7\n",
      "5 , 8\n",
      "5 , 9\n",
      "6 , 6\n",
      "6 , 7\n",
      "6 , 8\n",
      "6 , 9\n",
      "7 , 7\n",
      "7 , 8\n",
      "7 , 9\n",
      "8 , 8\n",
      "8 , 9\n",
      "9 , 9\n"
     ]
    }
   ],
   "source": [
    "for i in range(0,10): \n",
    "    for j in range(i,10): \n",
    "        print(i,\",\",j)\n",
    "    \n",
    "\n"
   ]
  },
  {
   "cell_type": "code",
   "execution_count": null,
   "id": "d50b3693-bf17-4b5e-8de9-00eec946b586",
   "metadata": {},
   "outputs": [],
   "source": []
  },
  {
   "cell_type": "code",
   "execution_count": null,
   "id": "8c787b58-e8a7-40b0-aeca-035c63b5a21c",
   "metadata": {},
   "outputs": [],
   "source": []
  },
  {
   "cell_type": "code",
   "execution_count": null,
   "id": "ca6eec9d-788a-43d4-9db8-106e2846c672",
   "metadata": {},
   "outputs": [],
   "source": []
  },
  {
   "cell_type": "code",
   "execution_count": null,
   "id": "5b117fb6-3c67-4f31-a389-cdfd8b8529bb",
   "metadata": {},
   "outputs": [],
   "source": []
  },
  {
   "cell_type": "code",
   "execution_count": null,
   "id": "5bbcfc83-d3f2-4c66-af5e-63d98bd68e04",
   "metadata": {},
   "outputs": [],
   "source": []
  },
  {
   "cell_type": "markdown",
   "id": "51693be0-edb8-4d0c-91dc-1475cc7569a0",
   "metadata": {},
   "source": [
    "**pass Statement**\n",
    "\n",
    "for loops cannot be empty, but if you for some reason have a for loop with no content, put in the **pass** statement to avoid getting an error."
   ]
  },
  {
   "cell_type": "code",
   "execution_count": null,
   "id": "c14f40c2-42aa-4356-a110-a928388b29d1",
   "metadata": {},
   "outputs": [],
   "source": [
    "for i in range(0,10):\n",
    "    pass"
   ]
  },
  {
   "cell_type": "code",
   "execution_count": null,
   "id": "928b5e47-6734-4482-8dc6-13285df5c995",
   "metadata": {},
   "outputs": [],
   "source": []
  },
  {
   "cell_type": "markdown",
   "id": "83ccd8ad-bacc-4e50-81d3-7250e05a7bfa",
   "metadata": {},
   "source": [
    "**Note:** We can create nested loops just like we create nested if statements"
   ]
  },
  {
   "cell_type": "markdown",
   "id": "f97b094d-2a51-41d8-b811-53c88fd9e39c",
   "metadata": {},
   "source": [
    "Example: print all possible 2 digit combinations from 0 to 9 "
   ]
  },
  {
   "cell_type": "code",
   "execution_count": null,
   "id": "71a2cc43-13c4-4181-843f-49884a836557",
   "metadata": {},
   "outputs": [],
   "source": [
    "for i in range(0,10):\n",
    "    for j in range(i,10):\n",
    "        print(i,j)"
   ]
  },
  {
   "cell_type": "code",
   "execution_count": null,
   "id": "bb090f4f-b439-41ee-8f8f-de9a49f6850e",
   "metadata": {},
   "outputs": [],
   "source": [
    "\n",
    "\n"
   ]
  },
  {
   "cell_type": "markdown",
   "id": "3316056f-ca20-43e2-935e-3dc8b3b5c6b0",
   "metadata": {},
   "source": [
    "### While Loop"
   ]
  },
  {
   "cell_type": "markdown",
   "id": "2286ff92-7662-4882-b8f3-bf7bb038a09d",
   "metadata": {},
   "source": [
    "A While loop repeatedly executes a block of code **until the condition is satisfied**"
   ]
  },
  {
   "cell_type": "code",
   "execution_count": 90,
   "id": "0a31016a-cc20-48f6-8a1d-84b8ea254fed",
   "metadata": {},
   "outputs": [
    {
     "name": "stdout",
     "output_type": "stream",
     "text": [
      "2\n",
      "3\n",
      "4\n",
      "5\n",
      "6\n",
      "7\n",
      "8\n",
      "9\n",
      "10\n"
     ]
    }
   ],
   "source": [
    "a=1\n",
    "while(a<10):\n",
    "    a=a+1 #increment\n",
    "\n",
    "    print(a)\n",
    "    # a+=1"
   ]
  },
  {
   "cell_type": "code",
   "execution_count": null,
   "id": "a7eb28e9-69ac-46b5-900f-825f6b8decbb",
   "metadata": {},
   "outputs": [],
   "source": []
  },
  {
   "cell_type": "code",
   "execution_count": null,
   "id": "fa9ea1a7-5c27-486c-befc-9b5279a5bf11",
   "metadata": {},
   "outputs": [],
   "source": []
  },
  {
   "cell_type": "code",
   "execution_count": null,
   "id": "2720b7d4-ac58-4090-ba30-0c2b1b46bbb2",
   "metadata": {},
   "outputs": [],
   "source": []
  },
  {
   "cell_type": "markdown",
   "id": "360fd9bb-a865-4f7c-b40a-9d3ac7a3b369",
   "metadata": {},
   "source": [
    "Increment can also be written as a+=1"
   ]
  },
  {
   "cell_type": "code",
   "execution_count": 91,
   "id": "f8546ff4-a8d8-4312-be11-3eeb13aa60ce",
   "metadata": {},
   "outputs": [
    {
     "name": "stdout",
     "output_type": "stream",
     "text": [
      "10\n",
      "9\n",
      "8\n",
      "7\n",
      "6\n",
      "5\n",
      "4\n",
      "3\n",
      "2\n",
      "1\n"
     ]
    }
   ],
   "source": [
    "#We can decreement as well\n",
    "a=10\n",
    "while(a>0):\n",
    "    print(a)\n",
    "    a=a-1 #decrement"
   ]
  },
  {
   "cell_type": "code",
   "execution_count": 92,
   "id": "823cd386-3ab0-4ed4-baa2-c8f37468638d",
   "metadata": {},
   "outputs": [
    {
     "name": "stdout",
     "output_type": "stream",
     "text": [
      "10\n",
      "9\n",
      "8\n",
      "7\n",
      "6\n",
      "5\n",
      "4\n",
      "3\n",
      "2\n",
      "1\n"
     ]
    }
   ],
   "source": [
    "a=10\n",
    "while(a>0):\n",
    "    print(a)\n",
    "    a-=1 #decrement"
   ]
  },
  {
   "cell_type": "code",
   "execution_count": null,
   "id": "bef655ec-456c-43c7-82c7-a329bce4fdd2",
   "metadata": {},
   "outputs": [],
   "source": []
  },
  {
   "cell_type": "code",
   "execution_count": null,
   "id": "35ec57ae-1015-47f7-aaae-c5726dc886a6",
   "metadata": {},
   "outputs": [],
   "source": []
  },
  {
   "cell_type": "code",
   "execution_count": null,
   "id": "116728ba-21ca-41eb-aa10-6b7bc56961ba",
   "metadata": {},
   "outputs": [],
   "source": []
  },
  {
   "cell_type": "code",
   "execution_count": null,
   "id": "2a1c44fd-d277-435f-8385-d2e62b8972b8",
   "metadata": {},
   "outputs": [],
   "source": []
  },
  {
   "cell_type": "code",
   "execution_count": null,
   "id": "ff3360b1-d7db-42dc-a2dd-16785dd85bc9",
   "metadata": {},
   "outputs": [],
   "source": []
  },
  {
   "cell_type": "markdown",
   "id": "2669bf36-1d13-4dd8-90b0-4e18ea3850b2",
   "metadata": {},
   "source": [
    "**Break and Continue can be used same way in While loop as well**"
   ]
  },
  {
   "cell_type": "code",
   "execution_count": 93,
   "id": "12114653-eb59-484b-a50d-ad7cdb729b7b",
   "metadata": {},
   "outputs": [
    {
     "name": "stdout",
     "output_type": "stream",
     "text": [
      "9\n",
      "8\n",
      "7\n",
      "5\n",
      "4\n",
      "3\n",
      "2\n",
      "1\n",
      "0\n"
     ]
    }
   ],
   "source": [
    "a=10\n",
    "while(a>0):\n",
    "    a-=1 #decrement\n",
    "    if( a==6):\n",
    "        continue\n",
    "    print(a)\n"
   ]
  },
  {
   "cell_type": "code",
   "execution_count": 94,
   "id": "2f9cc731-1178-44d7-b116-ba6e7bdc9b35",
   "metadata": {},
   "outputs": [
    {
     "name": "stdout",
     "output_type": "stream",
     "text": [
      "10\n",
      "9\n",
      "8\n",
      "7\n"
     ]
    }
   ],
   "source": [
    "a=10\n",
    "while(a>0):\n",
    "    print(a)\n",
    "    a-=1 #decrement\n",
    "    if( a==6):\n",
    "        break\n"
   ]
  },
  {
   "cell_type": "markdown",
   "id": "f7952a03-a239-428c-ba92-12ff461e75b5",
   "metadata": {},
   "source": [
    "### Sum of Even Numbers"
   ]
  },
  {
   "cell_type": "code",
   "execution_count": 105,
   "id": "406c6799-9fae-4b0b-b0c8-719a5daa9966",
   "metadata": {},
   "outputs": [],
   "source": [
    "n=10\n",
    "sum = 0\n",
    "for i in range (0 ,n+1):\n",
    "    if i % 2 == 0:\n",
    "        sum = sum + i\n",
    "        "
   ]
  },
  {
   "cell_type": "code",
   "execution_count": 106,
   "id": "67f09f5b-ca6c-4a11-9f2d-9cf3e3051e82",
   "metadata": {},
   "outputs": [
    {
     "data": {
      "text/plain": [
       "30"
      ]
     },
     "execution_count": 106,
     "metadata": {},
     "output_type": "execute_result"
    }
   ],
   "source": [
    "sum"
   ]
  },
  {
   "cell_type": "code",
   "execution_count": 107,
   "id": "51a4e0e9-3586-4bd2-8bf2-cb80b4f1af63",
   "metadata": {},
   "outputs": [
    {
     "data": {
      "text/plain": [
       "30"
      ]
     },
     "execution_count": 107,
     "metadata": {},
     "output_type": "execute_result"
    }
   ],
   "source": [
    "2+4+6+8+10"
   ]
  },
  {
   "cell_type": "markdown",
   "id": "c5f3db66-4379-498a-9d36-12ad68586986",
   "metadata": {},
   "source": [
    "### Reverse string"
   ]
  },
  {
   "cell_type": "code",
   "execution_count": 114,
   "id": "71b20ccb-1f34-4a8a-8790-8c9ce6913609",
   "metadata": {},
   "outputs": [],
   "source": [
    "str = '123456789'\n",
    "rev_str = ''"
   ]
  },
  {
   "cell_type": "code",
   "execution_count": 122,
   "id": "a29be7c5-09d4-4774-ba08-c28c33100fb5",
   "metadata": {},
   "outputs": [],
   "source": [
    "i= len(str)-1\n",
    "while i>=0:\n",
    "    rev_str += str[i]\n",
    "    i -= 1\n",
    "    # i = i-1\n",
    "\n",
    "    "
   ]
  },
  {
   "cell_type": "code",
   "execution_count": 121,
   "id": "448c8d08-7d07-4708-ba43-2073cf31d365",
   "metadata": {},
   "outputs": [
    {
     "data": {
      "text/plain": [
       "'9'"
      ]
     },
     "execution_count": 121,
     "metadata": {},
     "output_type": "execute_result"
    }
   ],
   "source": [
    "str[i]"
   ]
  },
  {
   "cell_type": "code",
   "execution_count": 123,
   "id": "279f79ad-6be4-4610-a56e-269a988e9970",
   "metadata": {},
   "outputs": [
    {
     "data": {
      "text/plain": [
       "'987654321'"
      ]
     },
     "execution_count": 123,
     "metadata": {},
     "output_type": "execute_result"
    }
   ],
   "source": [
    "rev_str"
   ]
  },
  {
   "cell_type": "code",
   "execution_count": null,
   "id": "e9efcebe-f297-451e-98f4-be4af1cf58b9",
   "metadata": {},
   "outputs": [],
   "source": []
  },
  {
   "cell_type": "code",
   "execution_count": null,
   "id": "26493778-de87-4477-80e2-f8b35fcf4aa0",
   "metadata": {},
   "outputs": [],
   "source": []
  },
  {
   "cell_type": "code",
   "execution_count": null,
   "id": "80dd911f-4b6d-4100-988a-dbdcf70767b5",
   "metadata": {},
   "outputs": [],
   "source": []
  },
  {
   "cell_type": "markdown",
   "id": "09480886-4ca7-4894-9b67-04f0836d28ad",
   "metadata": {},
   "source": [
    "## Functions"
   ]
  },
  {
   "cell_type": "markdown",
   "id": "14d303db-25de-48a1-9a85-8c4c856aae1c",
   "metadata": {},
   "source": [
    "Python Functions is a block of statements that return the specific task. \n",
    "\n",
    "The idea is to put some commonly or repeatedly done tasks together and make a function so that instead of writing the same code again and again for different inputs, we can do the function calls to reuse code contained in it over and over again."
   ]
  },
  {
   "cell_type": "code",
   "execution_count": 127,
   "id": "a3032167-e66f-46d9-9b05-bfa173ba381a",
   "metadata": {},
   "outputs": [],
   "source": [
    "def pr():\n",
    "    print(\"good morning\")\n",
    "\n",
    "\n",
    "\n",
    "\n",
    "\n",
    "\n"
   ]
  },
  {
   "cell_type": "code",
   "execution_count": 128,
   "id": "1cda8643-08f5-4adb-aaf8-a077e8f4e014",
   "metadata": {},
   "outputs": [
    {
     "name": "stdout",
     "output_type": "stream",
     "text": [
      "good morning\n"
     ]
    }
   ],
   "source": [
    "pr()"
   ]
  },
  {
   "cell_type": "code",
   "execution_count": null,
   "id": "b3c564ba-ae9c-4fb3-9b3b-442f6df3ab97",
   "metadata": {},
   "outputs": [],
   "source": []
  },
  {
   "cell_type": "code",
   "execution_count": null,
   "id": "1f7052e1-6edf-44dc-a120-b9b5e37fe37a",
   "metadata": {},
   "outputs": [],
   "source": []
  },
  {
   "cell_type": "code",
   "execution_count": null,
   "id": "d2d1a4a7-80a4-43b9-ac1d-f8c85064bd33",
   "metadata": {},
   "outputs": [],
   "source": []
  },
  {
   "cell_type": "code",
   "execution_count": null,
   "id": "2e5a78e3-8b00-49cb-880a-ddad249cbdd9",
   "metadata": {},
   "outputs": [],
   "source": []
  },
  {
   "cell_type": "code",
   "execution_count": null,
   "id": "873604aa-9c3a-4d46-850c-d0433eb40982",
   "metadata": {},
   "outputs": [],
   "source": []
  },
  {
   "cell_type": "code",
   "execution_count": null,
   "id": "28eddd0a-ab12-45b8-9d9e-ca88867b111a",
   "metadata": {},
   "outputs": [],
   "source": []
  },
  {
   "cell_type": "code",
   "execution_count": null,
   "id": "29730b4a-e0a5-4ddb-9dc4-e4a4708a4569",
   "metadata": {},
   "outputs": [],
   "source": []
  },
  {
   "cell_type": "markdown",
   "id": "ba7d2d01-1320-4b7b-8798-aee3e9008553",
   "metadata": {},
   "source": [
    "### Two Types\n",
    " * Built-IN\n",
    " * User Defined"
   ]
  },
  {
   "cell_type": "markdown",
   "id": "5f47fe8b-f292-4e21-bcf3-6a62a3a6ced1",
   "metadata": {},
   "source": [
    "**Built-in functions:**\n",
    "\n",
    "These functions are provided by Python and cannot be modified. \n",
    "\n",
    "Some examples of built-in functions are **print(), len(), and type().**"
   ]
  },
  {
   "cell_type": "code",
   "execution_count": null,
   "id": "42f330d4-22b9-4c5f-8cf5-8e78035b796b",
   "metadata": {},
   "outputs": [],
   "source": []
  },
  {
   "cell_type": "markdown",
   "id": "97800404-4002-4b63-8409-82595f88bc79",
   "metadata": {},
   "source": [
    "## USer-defined\n",
    "**Creating a Function**\n",
    "\n",
    "In Python a function is defined using the def keyword:"
   ]
  },
  {
   "cell_type": "markdown",
   "id": "61069904-9394-47d1-b72e-48461eca56e6",
   "metadata": {},
   "source": [
    "**syntax**\n",
    "\n",
    "def fun_name():\n",
    "\n",
    "    <code>"
   ]
  },
  {
   "cell_type": "markdown",
   "id": "fbff5907-79a9-4a04-87c1-0537e29271b7",
   "metadata": {},
   "source": [
    "**Function with Arguments** "
   ]
  },
  {
   "cell_type": "code",
   "execution_count": 129,
   "id": "a063c03b-bbef-458d-9510-27fd8fa101ea",
   "metadata": {},
   "outputs": [],
   "source": [
    "def add_2_num(a,b):\n",
    "    print(a+b)"
   ]
  },
  {
   "cell_type": "code",
   "execution_count": 130,
   "id": "48b71b97-1c94-421a-9507-4ccc984d639d",
   "metadata": {},
   "outputs": [
    {
     "name": "stdout",
     "output_type": "stream",
     "text": [
      "7\n"
     ]
    }
   ],
   "source": [
    "add_2_num(2,5)"
   ]
  },
  {
   "cell_type": "code",
   "execution_count": 141,
   "id": "255cd10b-dc2f-4f8b-bf4c-7f44d2d62c8e",
   "metadata": {},
   "outputs": [],
   "source": [
    "def greet(name):\n",
    "    # print(\"good morning \"+name)\n",
    "    print(f\"good morning {name}\");\n",
    "    # a= f\"good morning {name}\"\n",
    "    # return a"
   ]
  },
  {
   "cell_type": "code",
   "execution_count": 140,
   "id": "2814dc7a-7177-4fa9-95c9-541361641359",
   "metadata": {},
   "outputs": [
    {
     "data": {
      "text/plain": [
       "'good morning john'"
      ]
     },
     "execution_count": 140,
     "metadata": {},
     "output_type": "execute_result"
    }
   ],
   "source": [
    "greet(\"john\")"
   ]
  },
  {
   "cell_type": "code",
   "execution_count": null,
   "id": "ca8d4ac4-34be-41bb-9789-0711823d224c",
   "metadata": {},
   "outputs": [],
   "source": []
  },
  {
   "cell_type": "code",
   "execution_count": null,
   "id": "11acde5b-6d7f-4f6b-8e6f-531fb680b4e7",
   "metadata": {},
   "outputs": [],
   "source": []
  },
  {
   "cell_type": "markdown",
   "id": "f4ee509a-0356-4fbb-9c7c-b167f86e0f5a",
   "metadata": {},
   "source": [
    "With return statement"
   ]
  },
  {
   "cell_type": "code",
   "execution_count": 137,
   "id": "2b3a7a30-a14b-41bb-8646-dbf1f29a9668",
   "metadata": {},
   "outputs": [],
   "source": [
    "def add_2_num(a,b):\n",
    "    return a+b\n",
    "    "
   ]
  },
  {
   "cell_type": "code",
   "execution_count": 138,
   "id": "3c0d21fe-88ab-431e-a45a-f013a36fff3f",
   "metadata": {},
   "outputs": [
    {
     "data": {
      "text/plain": [
       "15"
      ]
     },
     "execution_count": 138,
     "metadata": {},
     "output_type": "execute_result"
    }
   ],
   "source": [
    "add_2_num(5,10)"
   ]
  },
  {
   "cell_type": "code",
   "execution_count": null,
   "id": "e04cd381-4d93-42d3-b52f-9905b89483cc",
   "metadata": {},
   "outputs": [],
   "source": []
  },
  {
   "cell_type": "markdown",
   "id": "2df464d3-1946-4c25-bef4-ec3db22d57c2",
   "metadata": {},
   "source": [
    "With default Parameter Value"
   ]
  },
  {
   "cell_type": "code",
   "execution_count": 144,
   "id": "d973cf2e-38e6-47ec-ba49-d2cda0168f15",
   "metadata": {},
   "outputs": [],
   "source": [
    "def add_2_num(a=5,b=5):\n",
    "    return a+b"
   ]
  },
  {
   "cell_type": "code",
   "execution_count": 146,
   "id": "e2dd7001-46d5-4084-9efb-2fe0104756a8",
   "metadata": {},
   "outputs": [
    {
     "data": {
      "text/plain": [
       "15"
      ]
     },
     "execution_count": 146,
     "metadata": {},
     "output_type": "execute_result"
    }
   ],
   "source": [
    "add_2_num(5,10)"
   ]
  },
  {
   "cell_type": "code",
   "execution_count": 147,
   "id": "17dfe518-10df-4766-8be8-4dbab9ef7134",
   "metadata": {},
   "outputs": [],
   "source": [
    "def greet(name=\"john\"):\n",
    "    print(f\"good morning {name}\");\n"
   ]
  },
  {
   "cell_type": "code",
   "execution_count": 148,
   "id": "0bb592b6-d7ae-47f7-9d72-983d229683c2",
   "metadata": {},
   "outputs": [
    {
     "name": "stdout",
     "output_type": "stream",
     "text": [
      "good morning sam\n"
     ]
    }
   ],
   "source": [
    "greet(\"sam\")"
   ]
  },
  {
   "cell_type": "code",
   "execution_count": 149,
   "id": "29208bf0-8c0e-4f57-a0e8-be8c5d672b83",
   "metadata": {},
   "outputs": [
    {
     "name": "stdout",
     "output_type": "stream",
     "text": [
      "good morning john\n"
     ]
    }
   ],
   "source": [
    "greet()"
   ]
  },
  {
   "cell_type": "code",
   "execution_count": 156,
   "id": "a6e587f4-2817-469e-88ee-80b5d8b32163",
   "metadata": {},
   "outputs": [],
   "source": [
    "def fun(var1,var2,var3):\n",
    "    a=var1*var2*var3\n",
    "    return a"
   ]
  },
  {
   "cell_type": "code",
   "execution_count": 158,
   "id": "80ef1644-768d-4897-b06b-348d7091d928",
   "metadata": {},
   "outputs": [
    {
     "ename": "TypeError",
     "evalue": "fun() takes 3 positional arguments but 4 were given",
     "output_type": "error",
     "traceback": [
      "\u001b[1;31m---------------------------------------------------------------------------\u001b[0m",
      "\u001b[1;31mTypeError\u001b[0m                                 Traceback (most recent call last)",
      "Cell \u001b[1;32mIn[158], line 1\u001b[0m\n\u001b[1;32m----> 1\u001b[0m \u001b[43mfun\u001b[49m\u001b[43m(\u001b[49m\u001b[38;5;241;43m4\u001b[39;49m\u001b[43m,\u001b[49m\u001b[38;5;241;43m5\u001b[39;49m\u001b[43m,\u001b[49m\u001b[38;5;241;43m6\u001b[39;49m\u001b[43m,\u001b[49m\u001b[38;5;241;43m5\u001b[39;49m\u001b[43m)\u001b[49m\n",
      "\u001b[1;31mTypeError\u001b[0m: fun() takes 3 positional arguments but 4 were given"
     ]
    }
   ],
   "source": [
    "fun(4,5,6,5)"
   ]
  },
  {
   "cell_type": "code",
   "execution_count": null,
   "id": "b96adffa-6ea2-49f5-afb8-b3e59b7f5512",
   "metadata": {},
   "outputs": [],
   "source": [
    "*Args"
   ]
  },
  {
   "cell_type": "code",
   "execution_count": 159,
   "id": "27d8592d-04b2-4520-aae7-00cc6ccd7f45",
   "metadata": {},
   "outputs": [],
   "source": [
    "def fun(*Args):\n",
    "    a=Args[0]*Args[1]*Args[2]\n",
    "    return a"
   ]
  },
  {
   "cell_type": "code",
   "execution_count": 160,
   "id": "e966e6e6-2b59-4817-985c-4e65c6fb12ee",
   "metadata": {},
   "outputs": [
    {
     "data": {
      "text/plain": [
       "120"
      ]
     },
     "execution_count": 160,
     "metadata": {},
     "output_type": "execute_result"
    }
   ],
   "source": [
    "fun(4,5,6,5)"
   ]
  },
  {
   "cell_type": "code",
   "execution_count": 165,
   "id": "82bb3f3d-a9aa-497c-9a4f-a72aa3a5e11c",
   "metadata": {},
   "outputs": [],
   "source": [
    "def fun12(*Args):\n",
    "    out = 1\n",
    "    for i in Args:\n",
    "        out = out * i \n",
    "    return out"
   ]
  },
  {
   "cell_type": "code",
   "execution_count": 170,
   "id": "8f39a124-f897-41f0-a34a-61314c193ca3",
   "metadata": {},
   "outputs": [
    {
     "data": {
      "text/plain": [
       "192000"
      ]
     },
     "execution_count": 170,
     "metadata": {},
     "output_type": "execute_result"
    }
   ],
   "source": [
    "fun12(10,2,3,5,4,5,8,4)"
   ]
  },
  {
   "cell_type": "markdown",
   "id": "ecfef983-e20c-4b94-b129-3a9d74273fd4",
   "metadata": {},
   "source": [
    "You can send any data types as argument to a function (string, list, dictionary etc.).\n"
   ]
  },
  {
   "cell_type": "markdown",
   "id": "73a59840-842b-4e74-ab0f-8311764da104",
   "metadata": {},
   "source": [
    "**Passing a List as an Argument**\n",
    "\n",
    "if you send a List as an argument, it will still be a List when it reaches the function:\n",
    "\n",
    "Example"
   ]
  },
  {
   "cell_type": "code",
   "execution_count": 174,
   "id": "cb1ab17c-4478-44d5-a7ba-043fa696b0a7",
   "metadata": {},
   "outputs": [],
   "source": [
    "list=['apples','potatoes','mangoes']\n",
    "def gro(l):\n",
    "    for i in l:\n",
    "        print(i)"
   ]
  },
  {
   "cell_type": "code",
   "execution_count": 175,
   "id": "cf3cbff6-9054-4832-bd29-822b596756c5",
   "metadata": {},
   "outputs": [
    {
     "name": "stdout",
     "output_type": "stream",
     "text": [
      "apples\n",
      "potatoes\n",
      "mangoes\n"
     ]
    }
   ],
   "source": [
    "gro(list)"
   ]
  },
  {
   "cell_type": "code",
   "execution_count": 176,
   "id": "3383d7fe-ee1d-4146-a501-239232af8b5b",
   "metadata": {},
   "outputs": [
    {
     "name": "stdout",
     "output_type": "stream",
     "text": [
      "S\n",
      "t\n",
      "a\n",
      "r\n",
      "t\n",
      "-\n",
      "T\n",
      "e\n",
      "x\n",
      "g\n",
      " \n",
      "A\n",
      "c\n",
      "a\n",
      "d\n",
      "e\n",
      "m\n",
      "y\n"
     ]
    }
   ],
   "source": [
    "gro(\"Start-Texg Academy\")"
   ]
  },
  {
   "cell_type": "code",
   "execution_count": null,
   "id": "ccf92944-4909-41f6-9091-9764a7290608",
   "metadata": {},
   "outputs": [],
   "source": []
  },
  {
   "cell_type": "code",
   "execution_count": null,
   "id": "90575b72-61b9-4f73-ad03-b326be8607ad",
   "metadata": {},
   "outputs": [],
   "source": []
  },
  {
   "cell_type": "markdown",
   "id": "8a508a9f-2cba-4f1c-923a-864a1385adaf",
   "metadata": {},
   "source": [
    "**Recursion**\n",
    "Python also accepts function recursion, which means a defined function can call itself.\n",
    "\n",
    "Recursion is a common mathematical and programming concept. It means that a function calls itself. This has the benefit of meaning that you can loop through data to reach a result."
   ]
  },
  {
   "cell_type": "code",
   "execution_count": null,
   "id": "4e5314f9-8612-4001-bd9b-f4f1107475be",
   "metadata": {},
   "outputs": [],
   "source": [
    "n! = n * (n-1)!\n",
    "n!= n* (n-1) *(n-2)*(n-3)"
   ]
  },
  {
   "cell_type": "code",
   "execution_count": null,
   "id": "31b70c50-8900-4093-8135-a48ed813f724",
   "metadata": {},
   "outputs": [],
   "source": [
    "factorial(n) = factorial(n-1) *n "
   ]
  },
  {
   "cell_type": "code",
   "execution_count": 190,
   "id": "5070f38f-e7a1-4e1d-b77f-57c383e2bf4d",
   "metadata": {},
   "outputs": [],
   "source": [
    "def fectorial(num):\n",
    "    if num == 0 or num == 1:\n",
    "        return 1\n",
    "    else:\n",
    "        return num* fectorial(num-1)\n",
    "        "
   ]
  },
  {
   "cell_type": "code",
   "execution_count": 191,
   "id": "6cae87ef-a3ff-41d4-af21-ef818f935f6b",
   "metadata": {},
   "outputs": [
    {
     "data": {
      "text/plain": [
       "24"
      ]
     },
     "execution_count": 191,
     "metadata": {},
     "output_type": "execute_result"
    }
   ],
   "source": [
    "fectorial(4)"
   ]
  },
  {
   "cell_type": "code",
   "execution_count": 192,
   "id": "7d90f879-2e03-4e2e-9c61-4bfff68e1fe0",
   "metadata": {},
   "outputs": [
    {
     "data": {
      "text/plain": [
       "24"
      ]
     },
     "execution_count": 192,
     "metadata": {},
     "output_type": "execute_result"
    }
   ],
   "source": [
    "4*3*2*1"
   ]
  },
  {
   "cell_type": "code",
   "execution_count": 193,
   "id": "8515bb8b-2775-4bd7-856b-10b14dd9fa77",
   "metadata": {},
   "outputs": [
    {
     "data": {
      "text/plain": [
       "24"
      ]
     },
     "execution_count": 193,
     "metadata": {},
     "output_type": "execute_result"
    }
   ],
   "source": [
    "# fectorial(4)\n",
    "# 4*factorial(3)\n",
    "# 4*3*factorial(2)\n",
    "# 4*3*2*factorial(1)\n",
    "4*3*2*1"
   ]
  },
  {
   "cell_type": "code",
   "execution_count": null,
   "id": "297dbd07-10c5-42f0-a5bd-f4f14166cfb6",
   "metadata": {},
   "outputs": [],
   "source": [
    "0 1 1 2 3 5 8"
   ]
  },
  {
   "cell_type": "code",
   "execution_count": 194,
   "id": "6a104e7b-a1cb-4b97-a233-e3aa01c7d676",
   "metadata": {},
   "outputs": [],
   "source": [
    "def fib(n):\n",
    "    if n==0 or n==1:\n",
    "        return n\n",
    "    else:\n",
    "        return fib(n-1) + fib(n-2)\n"
   ]
  },
  {
   "cell_type": "code",
   "execution_count": 198,
   "id": "223cd6a7-eb3d-4a96-8f8e-976561822c03",
   "metadata": {},
   "outputs": [
    {
     "data": {
      "text/plain": [
       "13"
      ]
     },
     "execution_count": 198,
     "metadata": {},
     "output_type": "execute_result"
    }
   ],
   "source": [
    "fib(7)"
   ]
  },
  {
   "cell_type": "code",
   "execution_count": null,
   "id": "cf658703-59b3-4cf6-a9ed-78a09bcc00ba",
   "metadata": {},
   "outputs": [],
   "source": []
  },
  {
   "cell_type": "code",
   "execution_count": null,
   "id": "257b2083-3b81-4693-b9cc-cebbebabf280",
   "metadata": {},
   "outputs": [],
   "source": []
  },
  {
   "cell_type": "code",
   "execution_count": null,
   "id": "7fccf01f-0e63-425d-bdcb-bfc3ce76c56d",
   "metadata": {},
   "outputs": [],
   "source": []
  },
  {
   "cell_type": "markdown",
   "id": "a4923a09-e943-4776-9385-762c74062e08",
   "metadata": {},
   "source": [
    "# Lambda functions in python"
   ]
  },
  {
   "cell_type": "markdown",
   "id": "6516a5ee-da80-4180-8b92-515914ea01a1",
   "metadata": {},
   "source": [
    "A lambda function is a small anonymous function."
   ]
  },
  {
   "cell_type": "markdown",
   "id": "4e988d8b-21b7-410d-867d-ad06960b2281",
   "metadata": {},
   "source": [
    "Lambda functions are similar to user-defined functions but without a name."
   ]
  },
  {
   "cell_type": "markdown",
   "id": "b1e60a48-7512-4c74-a432-83e69155bd8b",
   "metadata": {},
   "source": [
    "This can be useful for short, one-off functions that you don't need to reuse. Lambda functions are also more concise than regular functions, as they can be written on a single line of code."
   ]
  },
  {
   "cell_type": "code",
   "execution_count": null,
   "id": "f7583cfb-940e-466e-9c7b-ce0f595dd6b9",
   "metadata": {},
   "outputs": [],
   "source": [
    "# lambda argument/s : expression"
   ]
  },
  {
   "cell_type": "code",
   "execution_count": 4,
   "id": "1f205e5e-a668-42d4-acdb-2035f52d029d",
   "metadata": {},
   "outputs": [],
   "source": [
    "var= lambda a,b,c : a+b*c"
   ]
  },
  {
   "cell_type": "code",
   "execution_count": 5,
   "id": "0bf6d386-277f-4d77-afbc-c15638a5d29a",
   "metadata": {},
   "outputs": [
    {
     "name": "stdout",
     "output_type": "stream",
     "text": [
      "8\n"
     ]
    }
   ],
   "source": [
    "print(var(2,3,2))"
   ]
  },
  {
   "cell_type": "code",
   "execution_count": 16,
   "id": "4f634831-d198-4bad-9270-bf750a4c14f1",
   "metadata": {},
   "outputs": [],
   "source": [
    "def func(n):\n",
    "    return lambda a :a*n\n",
    "    "
   ]
  },
  {
   "cell_type": "code",
   "execution_count": 17,
   "id": "748efb1b-a070-44f2-b8b2-3e7ad894e98f",
   "metadata": {},
   "outputs": [
    {
     "name": "stdout",
     "output_type": "stream",
     "text": [
      "40\n"
     ]
    }
   ],
   "source": [
    "var2 = func(10)\n",
    "print(var2(4))"
   ]
  },
  {
   "cell_type": "code",
   "execution_count": null,
   "id": "e2b4d536-f006-43cd-a367-7b922c988650",
   "metadata": {},
   "outputs": [],
   "source": []
  },
  {
   "cell_type": "code",
   "execution_count": null,
   "id": "030d0f7f-7db0-4760-9d12-6e195cfbbc89",
   "metadata": {},
   "outputs": [],
   "source": []
  },
  {
   "cell_type": "code",
   "execution_count": null,
   "id": "d521b3c3-a469-4795-9cf8-dca20b41db14",
   "metadata": {},
   "outputs": [],
   "source": []
  },
  {
   "cell_type": "code",
   "execution_count": null,
   "id": "0ddb6b01-6ea7-4a64-ac23-cca260d343a9",
   "metadata": {},
   "outputs": [],
   "source": []
  },
  {
   "cell_type": "markdown",
   "id": "3b78e181-a47d-470f-a212-80dda51900c7",
   "metadata": {},
   "source": [
    "### MAP()"
   ]
  },
  {
   "cell_type": "markdown",
   "id": "b689a9d3-363c-4751-aed8-449b5e67ce92",
   "metadata": {},
   "source": [
    "map() function returns a map object(which is an iterator) of the results after applying the given function to each item of a given iterable (list, tuple etc.)"
   ]
  },
  {
   "cell_type": "code",
   "execution_count": 26,
   "id": "00187340-03b4-49c0-8488-cd1804eb717b",
   "metadata": {},
   "outputs": [],
   "source": [
    "num = [1,2,3,4]"
   ]
  },
  {
   "cell_type": "code",
   "execution_count": 27,
   "id": "a3b95ede-f436-46a5-90f3-f215b8b359a0",
   "metadata": {},
   "outputs": [],
   "source": [
    "res = map(lambda x: x*x , num)"
   ]
  },
  {
   "cell_type": "code",
   "execution_count": 28,
   "id": "f922d696-402d-49b0-af40-4044dcc63423",
   "metadata": {},
   "outputs": [
    {
     "data": {
      "text/plain": [
       "[1, 4, 9, 16]"
      ]
     },
     "execution_count": 28,
     "metadata": {},
     "output_type": "execute_result"
    }
   ],
   "source": [
    "list(res)"
   ]
  },
  {
   "cell_type": "code",
   "execution_count": 29,
   "id": "8609b2e5-c0a1-4b4d-8557-eee43ebc0fb5",
   "metadata": {},
   "outputs": [],
   "source": [
    "# map(function : iterable) --- syntax"
   ]
  },
  {
   "cell_type": "code",
   "execution_count": null,
   "id": "28de887d-4b2e-4bb7-a187-9a854094d175",
   "metadata": {},
   "outputs": [],
   "source": []
  },
  {
   "cell_type": "code",
   "execution_count": 30,
   "id": "0ed6a788-d5e5-454d-8ded-90ffecd34aa9",
   "metadata": {},
   "outputs": [],
   "source": [
    "celsius = [ 35,25,40,38]"
   ]
  },
  {
   "cell_type": "code",
   "execution_count": null,
   "id": "da21bda0-9e44-4dff-9b19-b5e06faca870",
   "metadata": {},
   "outputs": [],
   "source": [
    "# fer = (9/5 * cel) +32"
   ]
  },
  {
   "cell_type": "code",
   "execution_count": null,
   "id": "da0b9006-7971-42b5-90ed-614df2f33fcc",
   "metadata": {},
   "outputs": [],
   "source": []
  },
  {
   "cell_type": "code",
   "execution_count": 31,
   "id": "5875407d-516b-4b00-bb9f-d71e063b58f9",
   "metadata": {},
   "outputs": [],
   "source": [
    "fahrenheite = list(map(lambda c : (9/5*c)+32 , celsius))"
   ]
  },
  {
   "cell_type": "code",
   "execution_count": 32,
   "id": "b16b8e2d-7842-4678-9cca-012a41058934",
   "metadata": {},
   "outputs": [
    {
     "data": {
      "text/plain": [
       "[95.0, 77.0, 104.0, 100.4]"
      ]
     },
     "execution_count": 32,
     "metadata": {},
     "output_type": "execute_result"
    }
   ],
   "source": [
    "fahrenheite"
   ]
  },
  {
   "cell_type": "code",
   "execution_count": null,
   "id": "39ccc39c-773b-427a-8c1c-53881e991b79",
   "metadata": {},
   "outputs": [],
   "source": []
  },
  {
   "cell_type": "markdown",
   "id": "cc5e2d60-c342-4e4f-a558-46c13f569a99",
   "metadata": {},
   "source": [
    "# File I/O"
   ]
  },
  {
   "cell_type": "code",
   "execution_count": null,
   "id": "be5ba37a-5372-4cc0-a16d-eb62ba72fb6c",
   "metadata": {},
   "outputs": [],
   "source": []
  },
  {
   "cell_type": "code",
   "execution_count": null,
   "id": "c554e703-0d3a-46c5-9fee-0638d06f6ad9",
   "metadata": {},
   "outputs": [],
   "source": [
    "#program ----> file\n",
    "#         <----"
   ]
  },
  {
   "cell_type": "code",
   "execution_count": null,
   "id": "9dd8e715-5beb-40d6-b0f7-4b8649f86ce1",
   "metadata": {},
   "outputs": [],
   "source": []
  },
  {
   "cell_type": "markdown",
   "id": "54dcc7e7-4e75-43b4-a722-81f2139155ea",
   "metadata": {},
   "source": [
    "## OPEN()"
   ]
  },
  {
   "cell_type": "markdown",
   "id": "69fc067b-d883-4a09-95a3-85e2751257af",
   "metadata": {},
   "source": [
    "for opening  a fiel we use open"
   ]
  },
  {
   "cell_type": "code",
   "execution_count": 53,
   "id": "9406da2b-31c4-4335-8256-228cc5c01cc5",
   "metadata": {},
   "outputs": [],
   "source": [
    "file=open(\"example.txt\",\"r\")"
   ]
  },
  {
   "cell_type": "code",
   "execution_count": null,
   "id": "282b6724-e5c2-4417-bfae-c010ad2d5428",
   "metadata": {},
   "outputs": [],
   "source": []
  },
  {
   "cell_type": "markdown",
   "id": "19d45fd3-0ea3-497d-b4e2-8e9baadd4366",
   "metadata": {},
   "source": [
    "## read()"
   ]
  },
  {
   "cell_type": "markdown",
   "id": "bff47228-cf5c-4317-9167-ba15ea494a5d",
   "metadata": {},
   "source": [
    "The read() method reads a string from an open file. "
   ]
  },
  {
   "cell_type": "code",
   "execution_count": 73,
   "id": "57750b95-6633-4e76-b279-b759dc3a9a3a",
   "metadata": {},
   "outputs": [],
   "source": [
    "file=open(\"example.txt\",\"r\")\n",
    "text=file.read()"
   ]
  },
  {
   "cell_type": "code",
   "execution_count": 74,
   "id": "b905d43f-f01c-4c96-954e-ead49dd06bf5",
   "metadata": {},
   "outputs": [
    {
     "name": "stdout",
     "output_type": "stream",
     "text": [
      "hello everyone\n",
      "how are you doing\n"
     ]
    }
   ],
   "source": [
    "print(text)"
   ]
  },
  {
   "cell_type": "code",
   "execution_count": 67,
   "id": "2d792ab0-3ea3-4a18-bf46-f4b81f7121d5",
   "metadata": {},
   "outputs": [],
   "source": [
    "# read with char length"
   ]
  },
  {
   "cell_type": "code",
   "execution_count": 68,
   "id": "c36907ad-d580-4aef-9a8f-afed3af931d1",
   "metadata": {},
   "outputs": [
    {
     "name": "stdout",
     "output_type": "stream",
     "text": [
      "hell\n"
     ]
    }
   ],
   "source": [
    "file=open(\"example.txt\",\"r\")\n",
    "text=file.read(4)\n",
    "print(text)"
   ]
  },
  {
   "cell_type": "code",
   "execution_count": null,
   "id": "ff6408e0-242e-424a-86b5-5616e33c059f",
   "metadata": {},
   "outputs": [],
   "source": []
  },
  {
   "cell_type": "code",
   "execution_count": null,
   "id": "9e4e03f1-e06a-4f72-97b5-f8bc3c52b95b",
   "metadata": {},
   "outputs": [],
   "source": []
  },
  {
   "cell_type": "code",
   "execution_count": null,
   "id": "23c8492b-d649-4426-93eb-e20be09f59af",
   "metadata": {},
   "outputs": [],
   "source": []
  },
  {
   "cell_type": "code",
   "execution_count": 88,
   "id": "ae0b1899-d3c8-400c-aa41-8c5be3cd322c",
   "metadata": {},
   "outputs": [
    {
     "name": "stdout",
     "output_type": "stream",
     "text": [
      "The weather today is good \n",
      "\n"
     ]
    }
   ],
   "source": [
    "file=open(\"example.txt\",\"r\")\n",
    "text=file.readline()\n",
    "print(text)"
   ]
  },
  {
   "cell_type": "code",
   "execution_count": null,
   "id": "4937bc1a-7d5d-4142-a7fd-855e5eac1e51",
   "metadata": {},
   "outputs": [],
   "source": []
  },
  {
   "cell_type": "markdown",
   "id": "1cd8c768-b1e2-4999-9a30-3530b687e3e7",
   "metadata": {},
   "source": [
    "modes of opening files\n",
    " * r  -- open for reading\n",
    " * w  -- open for writing\n",
    " * a  -- open for appending\n",
    " * \\+  -- open for updating"
   ]
  },
  {
   "cell_type": "code",
   "execution_count": null,
   "id": "1b20ccd3-ac24-4131-96b6-914f2df2ddcf",
   "metadata": {},
   "outputs": [],
   "source": []
  },
  {
   "cell_type": "markdown",
   "id": "4047ea1e-2be0-4700-bacd-263e9eab3efe",
   "metadata": {},
   "source": [
    "## Write()"
   ]
  },
  {
   "cell_type": "markdown",
   "id": "ba031060-75d6-4da8-8dea-e6a4e8aaa7f7",
   "metadata": {},
   "source": [
    "The write() method writes any string to an open file.\n",
    "\n",
    "The write() method does not add a newline character ('\\n') to the end of the string "
   ]
  },
  {
   "cell_type": "code",
   "execution_count": null,
   "id": "667159cc-5a88-4f80-8ca6-2ddbb8eb1b50",
   "metadata": {},
   "outputs": [],
   "source": []
  },
  {
   "cell_type": "code",
   "execution_count": 87,
   "id": "37b2147b-af3c-422d-a9a7-119c23fd3d59",
   "metadata": {},
   "outputs": [
    {
     "data": {
      "text/plain": [
       "45"
      ]
     },
     "execution_count": 87,
     "metadata": {},
     "output_type": "execute_result"
    }
   ],
   "source": [
    "file=open(\"example.txt\",\"w\")\n",
    "file.write(\"The weather today is good \\n  yes it is good \\n\")\n"
   ]
  },
  {
   "cell_type": "code",
   "execution_count": null,
   "id": "aede4375-6baa-4d46-a334-e33809b625a9",
   "metadata": {},
   "outputs": [],
   "source": []
  },
  {
   "cell_type": "code",
   "execution_count": null,
   "id": "cd9a5024-e55d-49ab-97d4-5eff94e62e8f",
   "metadata": {},
   "outputs": [],
   "source": []
  },
  {
   "cell_type": "code",
   "execution_count": 89,
   "id": "f5378275-8f19-4788-aa2e-0198c5f6b9f1",
   "metadata": {},
   "outputs": [
    {
     "data": {
      "text/plain": [
       "18"
      ]
     },
     "execution_count": 89,
     "metadata": {},
     "output_type": "execute_result"
    }
   ],
   "source": [
    "file=open(\"example.txt\",\"a\")\n",
    "file.write(\"Start-tech Academy\")"
   ]
  },
  {
   "cell_type": "code",
   "execution_count": 90,
   "id": "a7095491-4012-45ea-be46-95e96ebed0b1",
   "metadata": {},
   "outputs": [
    {
     "name": "stdout",
     "output_type": "stream",
     "text": [
      "The weather today is good \n",
      "  yes it is good \n",
      "Start-tech Academy\n"
     ]
    }
   ],
   "source": [
    "file=open(\"example.txt\",\"r\")\n",
    "text=file.read()\n",
    "print(text)"
   ]
  },
  {
   "cell_type": "code",
   "execution_count": 91,
   "id": "d88279ae-0b66-492e-abcb-6925ced7e109",
   "metadata": {},
   "outputs": [
    {
     "data": {
      "text/plain": [
       "18"
      ]
     },
     "execution_count": 91,
     "metadata": {},
     "output_type": "execute_result"
    }
   ],
   "source": [
    "file=open(\"example.txt\",\"w+\")\n",
    "file.write(\"Start-tech Academy\")"
   ]
  },
  {
   "cell_type": "code",
   "execution_count": 92,
   "id": "0609120e-130d-4274-be29-cde3aec9114c",
   "metadata": {},
   "outputs": [
    {
     "name": "stdout",
     "output_type": "stream",
     "text": [
      "Start-tech Academy\n"
     ]
    }
   ],
   "source": [
    "file=open(\"example.txt\",\"r\")\n",
    "text=file.read()\n",
    "print(text)"
   ]
  },
  {
   "cell_type": "code",
   "execution_count": null,
   "id": "b8f4bb36-0283-4bbe-9f9b-18dac99262ca",
   "metadata": {},
   "outputs": [],
   "source": []
  },
  {
   "cell_type": "code",
   "execution_count": 97,
   "id": "56ebc105-266e-4b62-afc3-8d937bdfd1b2",
   "metadata": {},
   "outputs": [],
   "source": [
    "file.close()"
   ]
  },
  {
   "cell_type": "code",
   "execution_count": 98,
   "id": "065bea6f-c9c0-4416-9b83-b8ac4aaabd98",
   "metadata": {},
   "outputs": [
    {
     "ename": "ValueError",
     "evalue": "I/O operation on closed file.",
     "output_type": "error",
     "traceback": [
      "\u001b[1;31m---------------------------------------------------------------------------\u001b[0m",
      "\u001b[1;31mValueError\u001b[0m                                Traceback (most recent call last)",
      "Cell \u001b[1;32mIn[98], line 1\u001b[0m\n\u001b[1;32m----> 1\u001b[0m \u001b[43mfile\u001b[49m\u001b[38;5;241;43m.\u001b[39;49m\u001b[43mread\u001b[49m\u001b[43m(\u001b[49m\u001b[43m)\u001b[49m\n",
      "\u001b[1;31mValueError\u001b[0m: I/O operation on closed file."
     ]
    }
   ],
   "source": [
    "file.read()"
   ]
  },
  {
   "cell_type": "code",
   "execution_count": 95,
   "id": "fc4d863d-92c9-48e6-9f25-1f5d64d01099",
   "metadata": {},
   "outputs": [],
   "source": [
    "file=open(\"example.txt\",\"r\")\n"
   ]
  },
  {
   "cell_type": "code",
   "execution_count": null,
   "id": "4bd89ff6-52e4-4942-a8c1-9063a00315e3",
   "metadata": {},
   "outputs": [],
   "source": []
  },
  {
   "cell_type": "code",
   "execution_count": null,
   "id": "b919cfdf-7e5a-4ec7-890e-b7d4175c51bc",
   "metadata": {},
   "outputs": [],
   "source": [
    "file=open(\"example.txt\",\"r\")\n",
    "file.read()\n",
    "file.colse()"
   ]
  },
  {
   "cell_type": "code",
   "execution_count": null,
   "id": "54598bfc-78a0-46e3-8242-de9f41e21088",
   "metadata": {},
   "outputs": [],
   "source": []
  },
  {
   "cell_type": "code",
   "execution_count": 103,
   "id": "01d62bcc-af5b-46e0-92ed-964c6a9908e1",
   "metadata": {},
   "outputs": [
    {
     "name": "stdout",
     "output_type": "stream",
     "text": [
      "Start-tech Academy\n"
     ]
    }
   ],
   "source": [
    "with open(\"example.txt\",\"r\") as f:\n",
    "    a=f.read()\n",
    "    print(a)"
   ]
  },
  {
   "cell_type": "code",
   "execution_count": null,
   "id": "4f80bfa2-8a28-456b-8bf5-83ea51e5051b",
   "metadata": {},
   "outputs": [],
   "source": []
  },
  {
   "cell_type": "code",
   "execution_count": null,
   "id": "b887ba46-1fec-4eb5-be17-5d0df023c4cb",
   "metadata": {},
   "outputs": [],
   "source": []
  }
 ],
 "metadata": {
  "kernelspec": {
   "display_name": "Python 3 (ipykernel)",
   "language": "python",
   "name": "python3"
  },
  "language_info": {
   "codemirror_mode": {
    "name": "ipython",
    "version": 3
   },
   "file_extension": ".py",
   "mimetype": "text/x-python",
   "name": "python",
   "nbconvert_exporter": "python",
   "pygments_lexer": "ipython3",
   "version": "3.12.1"
  }
 },
 "nbformat": 4,
 "nbformat_minor": 5
}
