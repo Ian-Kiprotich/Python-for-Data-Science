{
 "cells": [
  {
   "cell_type": "markdown",
   "id": "ee5c14ae-20c4-41be-a2a2-7d32cb2fc84f",
   "metadata": {},
   "source": [
    "# Numpy"
   ]
  },
  {
   "cell_type": "markdown",
   "id": "992d5557-f65e-4556-aadf-5eeae3f2d406",
   "metadata": {},
   "source": [
    "**Numerical Python**"
   ]
  },
  {
   "cell_type": "markdown",
   "id": "61160871-111d-45bc-a0a0-48da47db4db1",
   "metadata": {},
   "source": [
    "Numpy supports n-dimentional Arrays"
   ]
  },
  {
   "cell_type": "markdown",
   "id": "e9a1f633-5ad6-45fb-b534-52bdd203d545",
   "metadata": {},
   "source": [
    "NumPy is the fundamental package for scientific computing in Python. It is a Python library that provides a multidimensional array object, various derived objects (such as masked arrays and matrices), and an assortment of routines for fast operations on arrays, including mathematical, logical, shape manipulation, sorting, selecting, I/O, discrete Fourier transforms, basic linear algebra, basic statistical operations, random simulation and much more."
   ]
  },
  {
   "cell_type": "markdown",
   "id": "6e1a3929-1511-4ce7-97fb-a24a10238c6a",
   "metadata": {},
   "source": [
    "### What is Array?"
   ]
  },
  {
   "cell_type": "markdown",
   "id": "c79da63c-04af-4223-8ce2-32f139963663",
   "metadata": {},
   "source": [
    "An array is a collection of items of same data type stored at contiguous memory locations. \n",
    "\n"
   ]
  },
  {
   "cell_type": "markdown",
   "id": "d8ce5b2a-df5e-4782-8f82-175ba09cdc3d",
   "metadata": {},
   "source": [
    "### Why Use NumPy?"
   ]
  },
  {
   "cell_type": "markdown",
   "id": "97f4d5f3-c57e-4161-895f-c7a84fb771a0",
   "metadata": {},
   "source": [
    "Python have lists that serve the purpose of arrays, but they are slow to process hence numpy arrays are used\n",
    "\n"
   ]
  },
  {
   "cell_type": "markdown",
   "id": "15a9542b-5a6d-4bce-8046-05b00825c954",
   "metadata": {},
   "source": [
    "The array object in NumPy is called ndarray, it provides a lot of supporting functions that make working with ndarray very easy."
   ]
  },
  {
   "cell_type": "markdown",
   "id": "465965ec-3634-4dc9-8fcc-3466e3034ac1",
   "metadata": {},
   "source": [
    "### How are Numpy Arrays faster then Lists?"
   ]
  },
  {
   "cell_type": "markdown",
   "id": "f08dfa67-111e-462d-a237-f1dd23d0a157",
   "metadata": {},
   "source": [
    "**Memory Usage**: Numpy arrays are more compact than lists. A list in Python stores an overhead of information (like data type) for every element. But numpy arrays are densely packed arrays of a homogeneous type, so you save space."
   ]
  },
  {
   "cell_type": "markdown",
   "id": "2e37cbb2-5851-4ec5-b172-96fcd67c1149",
   "metadata": {},
   "source": [
    "**Contiguous Memory Allocation**: Elements in numpy arrays are stored in contiguous memory blocks. This leads to better cache coherence and hence speed-up in retrieval or update of elements."
   ]
  },
  {
   "cell_type": "code",
   "execution_count": null,
   "id": "b7006a48-8a82-43ac-9567-f8984fed6b98",
   "metadata": {},
   "outputs": [],
   "source": [
    "!pip install numpy \n",
    "#if not installed"
   ]
  },
  {
   "cell_type": "code",
   "execution_count": null,
   "id": "82a7285d-99b2-4f16-aa82-97695f535e1e",
   "metadata": {},
   "outputs": [],
   "source": [
    "import numpy as np"
   ]
  },
  {
   "cell_type": "code",
   "execution_count": null,
   "id": "ca28e20e-aa72-425f-ae1e-5427348ff91f",
   "metadata": {},
   "outputs": [],
   "source": []
  },
  {
   "cell_type": "code",
   "execution_count": null,
   "id": "c5bc7803-ee51-46bb-9cd8-5b3419117b2a",
   "metadata": {},
   "outputs": [],
   "source": []
  },
  {
   "cell_type": "markdown",
   "id": "69e1af54-d424-4524-bdf7-7dca5ee949af",
   "metadata": {},
   "source": [
    "### Create a numpy array"
   ]
  },
  {
   "cell_type": "code",
   "execution_count": null,
   "id": "ebb3a630-2f43-4fd6-8cbe-077c2410badc",
   "metadata": {},
   "outputs": [],
   "source": [
    "arr = np.array([1, 2, 3, 4, 5])\n",
    "\n",
    "print(arr)"
   ]
  },
  {
   "cell_type": "markdown",
   "id": "636ebf38-0169-4f1b-a5eb-9600589fcb08",
   "metadata": {},
   "source": [
    "**Create array using Python List**"
   ]
  },
  {
   "cell_type": "code",
   "execution_count": null,
   "id": "6158a2f9-bf5b-45f9-8f32-54994af1a0f2",
   "metadata": {},
   "outputs": [],
   "source": [
    "list=[1,2,3,4,5]\n",
    "arr2=np.array(list)\n",
    "print(arr2)"
   ]
  },
  {
   "cell_type": "markdown",
   "id": "c396dd6b-2306-4d83-a660-853e019428e0",
   "metadata": {},
   "source": [
    "**Check data type of list and Array**"
   ]
  },
  {
   "cell_type": "code",
   "execution_count": null,
   "id": "8384b7b7-41f5-4aa4-a1ed-2f1aaeea8c11",
   "metadata": {},
   "outputs": [],
   "source": [
    "print(type(list))\n",
    "print(type(arr2))"
   ]
  },
  {
   "cell_type": "code",
   "execution_count": null,
   "id": "6806fb75-fc16-4f78-8339-3ab973599cc7",
   "metadata": {},
   "outputs": [],
   "source": []
  },
  {
   "cell_type": "markdown",
   "id": "15b7a409-0d59-4fcc-b4ff-98375af3ebd6",
   "metadata": {},
   "source": [
    "### Create a 2D nupmy array"
   ]
  },
  {
   "cell_type": "code",
   "execution_count": null,
   "id": "438c4cbf-6f39-413a-8ac8-cfb30eafc0fa",
   "metadata": {},
   "outputs": [],
   "source": [
    "arr3 = np.array([[1, 2, 3, 4, 5],[6,7,8,9,10]])\n",
    "\n",
    "print(arr3)"
   ]
  },
  {
   "cell_type": "markdown",
   "id": "36e70a28-b87d-4c5b-af84-4103b6ab9d55",
   "metadata": {},
   "source": [
    "**Using python lists**"
   ]
  },
  {
   "cell_type": "code",
   "execution_count": null,
   "id": "9aea5a88-f75e-4439-b661-752948e9ae20",
   "metadata": {},
   "outputs": [],
   "source": [
    "list2=[6,7,8,9,10]\n",
    "arr4=np.array([list,list2])\n",
    "print(arr4)"
   ]
  },
  {
   "cell_type": "markdown",
   "id": "5cf11588-dfbe-4e9d-93c6-6783001c9593",
   "metadata": {},
   "source": [
    "### 3D Array"
   ]
  },
  {
   "cell_type": "code",
   "execution_count": null,
   "id": "5d5a6f04-b2e3-4a77-aff1-745a7e66ddf3",
   "metadata": {},
   "outputs": [],
   "source": [
    "arr5 = np.array([[[1, 2, 3], [4, 5, 6]], [[1, 2, 3], [4, 5, 6]]])\n",
    "\n",
    "print(arr5)"
   ]
  },
  {
   "cell_type": "markdown",
   "id": "ff93aa44-60ce-42c5-9531-23385fe17c2c",
   "metadata": {},
   "source": [
    "#### Check Dimention using **ndim**"
   ]
  },
  {
   "cell_type": "code",
   "execution_count": null,
   "id": "9ab39681-84f6-4e45-bee0-caa152879da9",
   "metadata": {},
   "outputs": [],
   "source": [
    "arr5.ndim"
   ]
  },
  {
   "cell_type": "code",
   "execution_count": null,
   "id": "b26149a2-49b5-4783-ade9-9b3f14ce720c",
   "metadata": {},
   "outputs": [],
   "source": [
    "arr4.ndim"
   ]
  },
  {
   "cell_type": "code",
   "execution_count": null,
   "id": "bee3efb3-16e8-431f-b1fc-76980f7bb163",
   "metadata": {},
   "outputs": [],
   "source": []
  },
  {
   "cell_type": "code",
   "execution_count": null,
   "id": "6927a7e5-85b1-48ba-9440-d24caff8a28e",
   "metadata": {},
   "outputs": [],
   "source": []
  },
  {
   "cell_type": "code",
   "execution_count": null,
   "id": "05b85c9b-b910-480b-baec-aa671d17403e",
   "metadata": {},
   "outputs": [],
   "source": []
  },
  {
   "cell_type": "code",
   "execution_count": null,
   "id": "e0160607-d1b5-44be-9f6a-954350e12010",
   "metadata": {},
   "outputs": [],
   "source": []
  },
  {
   "cell_type": "code",
   "execution_count": null,
   "id": "ea84173e-077e-40d5-8dda-d13fe7d4bcca",
   "metadata": {},
   "outputs": [],
   "source": []
  },
  {
   "cell_type": "code",
   "execution_count": null,
   "id": "0c70c3c6-00c0-4552-994f-f45b86c8f9f3",
   "metadata": {},
   "outputs": [],
   "source": []
  },
  {
   "cell_type": "code",
   "execution_count": null,
   "id": "5e576509-5d76-4fac-bb11-b9e5c29bdccd",
   "metadata": {},
   "outputs": [],
   "source": []
  },
  {
   "cell_type": "code",
   "execution_count": null,
   "id": "bb8f7d72-1a99-47b8-a272-986dff8fc006",
   "metadata": {},
   "outputs": [],
   "source": []
  },
  {
   "cell_type": "markdown",
   "id": "cc8f6e28-9c65-45ec-b9f5-4b331e64e46c",
   "metadata": {},
   "source": [
    "### Accessing the Elements of Array"
   ]
  },
  {
   "cell_type": "markdown",
   "id": "3121b938-6045-46d1-b7c1-5f0e2f87126f",
   "metadata": {},
   "source": [
    "To access elements of Arrays we use indexisg the similar way we use for lists"
   ]
  },
  {
   "cell_type": "markdown",
   "id": "f250ceb8-b36c-486b-ab7f-9fb1c9f49dda",
   "metadata": {},
   "source": [
    "**syntax= array[row_index, Column_index]**"
   ]
  },
  {
   "cell_type": "code",
   "execution_count": null,
   "id": "724f24d7-50f3-4566-9ec5-cbd1dd7d53f8",
   "metadata": {},
   "outputs": [],
   "source": [
    "arr"
   ]
  },
  {
   "cell_type": "code",
   "execution_count": null,
   "id": "eca37d8f-1152-46c4-88e3-06bc5bd6830c",
   "metadata": {},
   "outputs": [],
   "source": [
    "arr[0::2]"
   ]
  },
  {
   "cell_type": "code",
   "execution_count": null,
   "id": "4481ba1a-36eb-4c49-bc4f-ae8d29cfb1c3",
   "metadata": {},
   "outputs": [],
   "source": []
  },
  {
   "cell_type": "code",
   "execution_count": null,
   "id": "3d9cc493-e8b5-475c-b556-740048219f91",
   "metadata": {},
   "outputs": [],
   "source": [
    "arr2d"
   ]
  },
  {
   "cell_type": "code",
   "execution_count": null,
   "id": "e1b2a3f7-6003-411d-b23d-f73fcbe239e7",
   "metadata": {},
   "outputs": [],
   "source": [
    "arr2d[1,2]"
   ]
  },
  {
   "cell_type": "code",
   "execution_count": null,
   "id": "aecb233f-27a2-4168-add2-b0ebf1749524",
   "metadata": {},
   "outputs": [],
   "source": [
    "arr2d[:,0]"
   ]
  },
  {
   "cell_type": "code",
   "execution_count": null,
   "id": "750bec80-7cef-475b-9678-33c6f540e71f",
   "metadata": {},
   "outputs": [],
   "source": [
    "arr3d"
   ]
  },
  {
   "cell_type": "code",
   "execution_count": null,
   "id": "c9fa7777-26fe-4f71-ac22-2ba9ec05a039",
   "metadata": {},
   "outputs": [],
   "source": [
    "arr3d[0,1,1:3]"
   ]
  },
  {
   "cell_type": "code",
   "execution_count": null,
   "id": "4aff3258-54bb-403f-95fb-4dcac8320f67",
   "metadata": {},
   "outputs": [],
   "source": []
  },
  {
   "cell_type": "code",
   "execution_count": null,
   "id": "39b671d2-975f-492b-9bb8-8c7fad62a764",
   "metadata": {},
   "outputs": [],
   "source": []
  },
  {
   "cell_type": "code",
   "execution_count": null,
   "id": "2737a35d-383b-4ea7-b72e-23b06cbaa36f",
   "metadata": {},
   "outputs": [],
   "source": []
  },
  {
   "cell_type": "code",
   "execution_count": null,
   "id": "9ad78a2b-a2e7-4c0c-a627-1202bb3c9273",
   "metadata": {},
   "outputs": [],
   "source": []
  },
  {
   "cell_type": "code",
   "execution_count": null,
   "id": "a3ad59b6-e033-4161-ba18-06baf8c83170",
   "metadata": {},
   "outputs": [],
   "source": []
  },
  {
   "cell_type": "code",
   "execution_count": null,
   "id": "fb69a83e-152d-4731-9b2c-a7e2ff1a8974",
   "metadata": {},
   "outputs": [],
   "source": []
  },
  {
   "cell_type": "code",
   "execution_count": null,
   "id": "363bb3da-d093-4fc5-a2a4-1448d01e63c9",
   "metadata": {},
   "outputs": [],
   "source": []
  },
  {
   "cell_type": "code",
   "execution_count": null,
   "id": "09f57606-26fb-4d99-9299-d1435e5d8ec9",
   "metadata": {},
   "outputs": [],
   "source": []
  },
  {
   "cell_type": "code",
   "execution_count": null,
   "id": "44962f98-1931-4be0-aa60-e1f3d3a40b0c",
   "metadata": {},
   "outputs": [],
   "source": []
  },
  {
   "cell_type": "code",
   "execution_count": null,
   "id": "547c1d87-6506-4024-a73e-ad6f6e351b22",
   "metadata": {},
   "outputs": [],
   "source": [
    "#1-D Array\n",
    "arr[1]"
   ]
  },
  {
   "cell_type": "code",
   "execution_count": null,
   "id": "062d087f-60d9-4d36-9870-1fcd3ce61381",
   "metadata": {},
   "outputs": [],
   "source": [
    "#2-D Array\n",
    "arr4[0,2]"
   ]
  },
  {
   "cell_type": "code",
   "execution_count": null,
   "id": "acf2515d-c975-4f97-9f7f-7ff83f983ace",
   "metadata": {},
   "outputs": [],
   "source": [
    "#3-D Array\n",
    "arr5[1,0,2]"
   ]
  },
  {
   "cell_type": "code",
   "execution_count": null,
   "id": "bb74b621-9020-4569-a878-d06939588372",
   "metadata": {},
   "outputs": [],
   "source": []
  },
  {
   "cell_type": "code",
   "execution_count": null,
   "id": "7984dcb6-8e2b-4410-80f1-815bee1022ac",
   "metadata": {},
   "outputs": [],
   "source": []
  },
  {
   "cell_type": "code",
   "execution_count": null,
   "id": "94043723-102c-43da-8eed-c4960f66c450",
   "metadata": {},
   "outputs": [],
   "source": []
  },
  {
   "cell_type": "code",
   "execution_count": null,
   "id": "413b7ed7-a2fd-40a1-8d25-f873da8d1dbe",
   "metadata": {},
   "outputs": [],
   "source": []
  },
  {
   "cell_type": "code",
   "execution_count": null,
   "id": "116c07c3-50cf-4a37-ba66-b04d17baa116",
   "metadata": {},
   "outputs": [],
   "source": []
  },
  {
   "cell_type": "code",
   "execution_count": null,
   "id": "52a505a4-be86-44f3-b164-cf559f5df4f7",
   "metadata": {},
   "outputs": [],
   "source": []
  },
  {
   "cell_type": "code",
   "execution_count": null,
   "id": "742df423-5da9-435e-b7de-2694ce533122",
   "metadata": {},
   "outputs": [],
   "source": []
  },
  {
   "cell_type": "code",
   "execution_count": null,
   "id": "bba13748-7c05-429a-8329-017aa14860d7",
   "metadata": {},
   "outputs": [],
   "source": []
  },
  {
   "cell_type": "code",
   "execution_count": null,
   "id": "967f4084-f358-4a49-985c-e69aee881a04",
   "metadata": {},
   "outputs": [],
   "source": []
  },
  {
   "cell_type": "markdown",
   "id": "eb9523d8-d2ea-4fa2-ba8c-9557f8da9e2c",
   "metadata": {},
   "source": [
    "## Slicing Operations on Arrays"
   ]
  },
  {
   "cell_type": "markdown",
   "id": "a54a84c1-f9cc-4080-a555-f85899eccd5c",
   "metadata": {},
   "source": [
    "**Syntax= array[start:end]**"
   ]
  },
  {
   "cell_type": "markdown",
   "id": "48a13dfe-e4be-4a13-a054-02631116ffe9",
   "metadata": {},
   "source": [
    "We can also define the step, like this: [start:end:step].\n",
    "\n"
   ]
  },
  {
   "cell_type": "markdown",
   "id": "ab113297-1d81-4dc5-b54b-c44ec967d5c6",
   "metadata": {},
   "source": [
    "### 1-D Array"
   ]
  },
  {
   "cell_type": "code",
   "execution_count": null,
   "id": "e93ff10c-43b9-4cbb-9c0e-dead718a1c3f",
   "metadata": {},
   "outputs": [],
   "source": [
    "arr = np.array([1, 2, 3, 4, 5,6,7,8,9,10])\n",
    "\n",
    "print(arr)"
   ]
  },
  {
   "cell_type": "code",
   "execution_count": null,
   "id": "2d444e05-19d8-4e03-bdcc-722f86073c11",
   "metadata": {},
   "outputs": [],
   "source": [
    "arr[1:5]"
   ]
  },
  {
   "cell_type": "markdown",
   "id": "7e085cb7-5f7c-431e-9807-8adf9987332b",
   "metadata": {},
   "source": [
    "**steps**"
   ]
  },
  {
   "cell_type": "code",
   "execution_count": null,
   "id": "bab3b4b2-c5ef-4286-8ad3-cfd13a163de7",
   "metadata": {},
   "outputs": [],
   "source": [
    "arr[1:5:1]"
   ]
  },
  {
   "cell_type": "code",
   "execution_count": null,
   "id": "15160457-ec95-4db8-aea8-39a28e503d80",
   "metadata": {},
   "outputs": [],
   "source": []
  },
  {
   "cell_type": "code",
   "execution_count": null,
   "id": "1edb901b-3b5f-4774-a528-4d6b46ff3e8c",
   "metadata": {},
   "outputs": [],
   "source": []
  },
  {
   "cell_type": "code",
   "execution_count": null,
   "id": "9d91cb79-1055-4ee7-be34-ee10a725d963",
   "metadata": {},
   "outputs": [],
   "source": []
  },
  {
   "cell_type": "code",
   "execution_count": null,
   "id": "65b1452d-2d92-4a90-b1d3-55b4c74ef613",
   "metadata": {},
   "outputs": [],
   "source": []
  },
  {
   "cell_type": "code",
   "execution_count": null,
   "id": "e686fb57-0d42-45df-bf6b-c2c93d1773dd",
   "metadata": {},
   "outputs": [],
   "source": []
  },
  {
   "cell_type": "code",
   "execution_count": null,
   "id": "758bc012-d4a7-4230-9421-64b0548b99d1",
   "metadata": {},
   "outputs": [],
   "source": []
  },
  {
   "cell_type": "markdown",
   "id": "eb2c93fb-1102-4fff-b4be-79387381a5ce",
   "metadata": {},
   "source": [
    "### 2-D Array"
   ]
  },
  {
   "cell_type": "code",
   "execution_count": null,
   "id": "c7d62a4c-f5a1-44fc-b71e-d81f6d3378ac",
   "metadata": {},
   "outputs": [],
   "source": [
    "arr = np.array([[1, 2, 3, 4, 5],[6,7,8,9,10]])\n",
    "\n",
    "print(arr)"
   ]
  },
  {
   "cell_type": "code",
   "execution_count": null,
   "id": "d6fbe834-cce4-4e8c-8110-c70ef843de5d",
   "metadata": {},
   "outputs": [],
   "source": [
    "arr[1,2:5]"
   ]
  },
  {
   "cell_type": "markdown",
   "id": "360cb7a9-c7f7-4069-a94f-a78bb76b1f9b",
   "metadata": {},
   "source": [
    "**If we don't pass start its considered 0**\n",
    "\n"
   ]
  },
  {
   "cell_type": "code",
   "execution_count": null,
   "id": "b0c069ae-5869-4e23-a7f0-05a9c067cc61",
   "metadata": {},
   "outputs": [],
   "source": [
    "arr[0,:4]"
   ]
  },
  {
   "cell_type": "markdown",
   "id": "748208d3-939c-47fb-8f42-02af00817c27",
   "metadata": {},
   "source": [
    "**If we don't pass end its considered length of array in that dimension**"
   ]
  },
  {
   "cell_type": "code",
   "execution_count": null,
   "id": "b4dbca7b-4ecf-403e-ad9b-ea9fb8981adb",
   "metadata": {},
   "outputs": [],
   "source": [
    "arr[0,1:]"
   ]
  },
  {
   "cell_type": "markdown",
   "id": "6baec86a-4c8b-4154-bfb7-be7915b2cf54",
   "metadata": {},
   "source": [
    "**to get all the rows from specific columns**"
   ]
  },
  {
   "cell_type": "code",
   "execution_count": null,
   "id": "81afc22c-b16a-491c-87d5-b73af8b71067",
   "metadata": {},
   "outputs": [],
   "source": [
    "arr = np.array([[1, 2, 3, 4, 5], [6, 7, 8, 9, 10]])\n",
    "\n",
    "print(arr[:, 2:4])"
   ]
  },
  {
   "cell_type": "code",
   "execution_count": null,
   "id": "5dd31edf-5363-4cd8-b2b1-4640a8a5b373",
   "metadata": {},
   "outputs": [],
   "source": []
  },
  {
   "cell_type": "code",
   "execution_count": null,
   "id": "9b9accf0-ec78-477d-a701-c3da1e5e7d67",
   "metadata": {},
   "outputs": [],
   "source": []
  },
  {
   "cell_type": "code",
   "execution_count": null,
   "id": "f40de1c7-aad5-4fc9-871c-fb64e26e767d",
   "metadata": {},
   "outputs": [],
   "source": []
  },
  {
   "cell_type": "code",
   "execution_count": null,
   "id": "92b2684a-6d53-48f1-8eef-88736d933d60",
   "metadata": {},
   "outputs": [],
   "source": []
  },
  {
   "cell_type": "code",
   "execution_count": null,
   "id": "9353681f-bf77-4411-8276-6b90b62cf771",
   "metadata": {},
   "outputs": [],
   "source": []
  },
  {
   "cell_type": "code",
   "execution_count": null,
   "id": "bdfc5d47-a45f-42e2-b360-a5f81f1521fb",
   "metadata": {},
   "outputs": [],
   "source": []
  },
  {
   "cell_type": "code",
   "execution_count": null,
   "id": "65534157-746b-4372-a38c-3b1bcd55a227",
   "metadata": {},
   "outputs": [],
   "source": [
    "import numpy as np"
   ]
  },
  {
   "cell_type": "markdown",
   "id": "04674925-cd96-4ebe-9220-eb264f4f021a",
   "metadata": {},
   "source": [
    "### Check data type of array elements"
   ]
  },
  {
   "cell_type": "code",
   "execution_count": null,
   "id": "03f9b7e1-b025-4905-bdc8-290761cffd86",
   "metadata": {},
   "outputs": [],
   "source": [
    "arr = np.array([1, 2, 3, 4])\n",
    "\n",
    "print(arr.dtype)"
   ]
  },
  {
   "cell_type": "markdown",
   "id": "ff84b4e6-c5ab-42bc-bd04-03717d6a225c",
   "metadata": {},
   "source": [
    "**data types in NumPy**"
   ]
  },
  {
   "cell_type": "markdown",
   "id": "2fc03fc8-8a92-4a5a-a251-8d0a9da2c371",
   "metadata": {},
   "source": [
    "* i - integer\n",
    "* b - boolean\n",
    "* u - unsigned integer\n",
    "* f - float\n",
    "* c - complex float\n",
    "* m - timedelta\n",
    "* M - datetime\n",
    "* O - object\n",
    "* S - string\n",
    "* U - unicode string"
   ]
  },
  {
   "cell_type": "code",
   "execution_count": null,
   "id": "cca15767-d5bc-4d70-9a94-63bd1b89a04e",
   "metadata": {},
   "outputs": [],
   "source": [
    "arr = np.array([True, False,False])\n",
    "\n",
    "print(arr.dtype)"
   ]
  },
  {
   "cell_type": "code",
   "execution_count": null,
   "id": "616cd81b-0ca6-4dc8-ba92-8279efe751d4",
   "metadata": {},
   "outputs": [],
   "source": [
    "arr = np.array([5.6, 5.5])\n",
    "\n",
    "print(arr.dtype)"
   ]
  },
  {
   "cell_type": "code",
   "execution_count": null,
   "id": "925b45f9-64f6-4e05-9802-3567bb1fe4f7",
   "metadata": {},
   "outputs": [],
   "source": []
  },
  {
   "cell_type": "code",
   "execution_count": null,
   "id": "adf93356-295f-41f7-826f-7aa3163af175",
   "metadata": {},
   "outputs": [],
   "source": []
  },
  {
   "cell_type": "code",
   "execution_count": null,
   "id": "669eb84c-7d06-422d-abe5-1b19a9290a9f",
   "metadata": {},
   "outputs": [],
   "source": []
  },
  {
   "cell_type": "code",
   "execution_count": null,
   "id": "2f5df5d2-5112-445c-81b6-07c487e7423f",
   "metadata": {},
   "outputs": [],
   "source": []
  },
  {
   "cell_type": "code",
   "execution_count": null,
   "id": "b6f82543-929f-4eab-9dea-463db014dc63",
   "metadata": {},
   "outputs": [],
   "source": []
  },
  {
   "cell_type": "code",
   "execution_count": null,
   "id": "90388572-df67-4397-ba56-c3c1fe6d1cd8",
   "metadata": {},
   "outputs": [],
   "source": []
  },
  {
   "cell_type": "code",
   "execution_count": null,
   "id": "0cb94947-f3d4-4656-936c-66328d2dfc7d",
   "metadata": {},
   "outputs": [],
   "source": []
  },
  {
   "cell_type": "code",
   "execution_count": null,
   "id": "c619398c-bc22-4743-b3a4-b6289bda5936",
   "metadata": {},
   "outputs": [],
   "source": []
  },
  {
   "cell_type": "code",
   "execution_count": null,
   "id": "6245db4c-0411-43dd-a49d-0a835d03e4d3",
   "metadata": {},
   "outputs": [],
   "source": []
  },
  {
   "cell_type": "markdown",
   "id": "23729de1-653d-491f-9ef3-75ea6213efdc",
   "metadata": {},
   "source": [
    "We can also define type while creating arrays"
   ]
  },
  {
   "cell_type": "code",
   "execution_count": null,
   "id": "1332183f-9a86-451f-802c-a9b5e0c083a7",
   "metadata": {},
   "outputs": [],
   "source": [
    "arr = np.array([1, 2, 3, 4], dtype='S')\n",
    "\n",
    "print(arr)\n",
    "print(arr.dtype)"
   ]
  },
  {
   "cell_type": "code",
   "execution_count": null,
   "id": "fa23cf42-ac1d-4813-b0a9-51e18b07d8c7",
   "metadata": {},
   "outputs": [],
   "source": []
  },
  {
   "cell_type": "markdown",
   "id": "6b1afc6f-c8b0-4496-9a49-eb50ded5b3be",
   "metadata": {},
   "source": [
    "## To check the shape of an Array .shape"
   ]
  },
  {
   "cell_type": "code",
   "execution_count": null,
   "id": "bd15c1d5-eddf-47bd-a3d2-ad33fcca5aa2",
   "metadata": {},
   "outputs": [],
   "source": [
    "arr=np.array([[1,10],[2,20],[3,30]])\n",
    "print(arr)"
   ]
  },
  {
   "cell_type": "code",
   "execution_count": null,
   "id": "a3138c21-6a11-4d0c-9a41-2b6b8c26f61d",
   "metadata": {},
   "outputs": [],
   "source": [
    "arr.shape "
   ]
  },
  {
   "cell_type": "code",
   "execution_count": null,
   "id": "69bffc61-075c-4b94-b039-85cb2a6c6393",
   "metadata": {},
   "outputs": [],
   "source": []
  },
  {
   "cell_type": "code",
   "execution_count": null,
   "id": "b70e9a5c-92aa-4374-81ad-4b472cfe2d63",
   "metadata": {},
   "outputs": [],
   "source": [
    "arr=np.array([1,2,3,4,5])\n",
    "arr.shape"
   ]
  },
  {
   "cell_type": "code",
   "execution_count": null,
   "id": "b2446825-b43c-4181-8924-ae6f17f367d6",
   "metadata": {},
   "outputs": [],
   "source": [
    "arr=np.array([[1,2,3,4,5],[6,7,8,9,10]])\n",
    "arr.shape"
   ]
  },
  {
   "cell_type": "markdown",
   "id": "7519a7fd-2140-4827-96be-ff8bbd48fdbc",
   "metadata": {},
   "source": [
    "### We can also reshape an array into desired shape"
   ]
  },
  {
   "cell_type": "code",
   "execution_count": null,
   "id": "0b77a2af-9e6f-48e8-a02e-484aca0c36ec",
   "metadata": {},
   "outputs": [],
   "source": [
    "arr = np.array([1, 2, 3, 4, 5, 6, 7, 8, 9, 10,11,12])\n",
    "\n",
    "# arr_new = arr.reshape(5, 2)\n",
    "arr_new"
   ]
  },
  {
   "cell_type": "code",
   "execution_count": null,
   "id": "97154ac8-3aca-4447-b944-6127fa2f2a71",
   "metadata": {},
   "outputs": [],
   "source": [
    "arr_new.shape"
   ]
  },
  {
   "cell_type": "code",
   "execution_count": null,
   "id": "aea5a442-fdad-4971-8718-d31d5012d652",
   "metadata": {},
   "outputs": [],
   "source": [
    "arr_new = arr.reshape(2, 2,3)\n"
   ]
  },
  {
   "cell_type": "code",
   "execution_count": null,
   "id": "a49fbfe5-4a5c-416c-a4ce-adad1c575b06",
   "metadata": {},
   "outputs": [],
   "source": [
    "arr_new"
   ]
  },
  {
   "cell_type": "code",
   "execution_count": null,
   "id": "dab3f5fb-e2d2-4ebe-abe9-6235d0d7eb03",
   "metadata": {},
   "outputs": [],
   "source": [
    "arr_new.shape"
   ]
  },
  {
   "cell_type": "code",
   "execution_count": null,
   "id": "4b3d31e2-d077-4a0f-8d17-b238675e47af",
   "metadata": {},
   "outputs": [],
   "source": []
  },
  {
   "cell_type": "code",
   "execution_count": null,
   "id": "7e7904a2-5211-47d0-b18d-e8f371a00d97",
   "metadata": {},
   "outputs": [],
   "source": []
  },
  {
   "cell_type": "code",
   "execution_count": null,
   "id": "0e37a4d5-632e-4436-bb07-854e2ff0f38f",
   "metadata": {},
   "outputs": [],
   "source": []
  },
  {
   "cell_type": "code",
   "execution_count": null,
   "id": "069d4408-d614-4034-ad13-2230c6934504",
   "metadata": {},
   "outputs": [],
   "source": []
  },
  {
   "cell_type": "code",
   "execution_count": null,
   "id": "7f787978-239b-48ca-b5d6-c162d469f111",
   "metadata": {},
   "outputs": [],
   "source": []
  },
  {
   "cell_type": "code",
   "execution_count": null,
   "id": "d4e3aa49-b5bf-4cdd-aabb-9ecfdc0f4923",
   "metadata": {},
   "outputs": [],
   "source": []
  },
  {
   "cell_type": "code",
   "execution_count": null,
   "id": "af974790-1ed9-46b5-b20c-87f2e7191e03",
   "metadata": {},
   "outputs": [],
   "source": []
  },
  {
   "cell_type": "code",
   "execution_count": null,
   "id": "7d556743-f2ac-47b4-bacd-133569531c70",
   "metadata": {},
   "outputs": [],
   "source": []
  },
  {
   "cell_type": "code",
   "execution_count": null,
   "id": "dc52e7ae-da90-431b-b0ce-6d6a9a9a9809",
   "metadata": {},
   "outputs": [],
   "source": []
  },
  {
   "cell_type": "markdown",
   "id": "58225320-e94f-4771-9c21-cdfed3b1353e",
   "metadata": {},
   "source": [
    "**1-D to 3-D**"
   ]
  },
  {
   "cell_type": "code",
   "execution_count": null,
   "id": "69f9b8b2-ea19-44ed-8bc4-d2fdaacb538c",
   "metadata": {},
   "outputs": [],
   "source": [
    "arr = np.array([1, 2, 3, 4, 5, 6, 7, 8, 9, 10,11,12])\n",
    "\n",
    "arr_new = arr.reshape(2, 2,3)\n",
    "arr_new"
   ]
  },
  {
   "cell_type": "code",
   "execution_count": null,
   "id": "e597cb67-d450-481c-be69-67f5f4ec1aa5",
   "metadata": {},
   "outputs": [],
   "source": []
  },
  {
   "cell_type": "code",
   "execution_count": null,
   "id": "c5075877-43ea-414d-82a9-0633cfc78da3",
   "metadata": {},
   "outputs": [],
   "source": []
  },
  {
   "cell_type": "markdown",
   "id": "b648294c-531b-4fc4-ae64-cef2bca932ee",
   "metadata": {},
   "source": [
    "### Joining 2 or more Arrays"
   ]
  },
  {
   "cell_type": "markdown",
   "id": "5216f919-2e25-4e59-a4eb-fee03f600d99",
   "metadata": {},
   "source": [
    "**.concatenate()**"
   ]
  },
  {
   "cell_type": "code",
   "execution_count": null,
   "id": "b5337f35-9345-4e24-85ba-79d591b7c8c7",
   "metadata": {},
   "outputs": [],
   "source": [
    "arr1 = np.array([1, 2,3,4,5])\n",
    "\n",
    "arr2 = np.array([6,7,8,9,10])"
   ]
  },
  {
   "cell_type": "code",
   "execution_count": null,
   "id": "dbb5d769-b896-4cc0-a46f-d06e86bc77cc",
   "metadata": {},
   "outputs": [],
   "source": [
    "arr2"
   ]
  },
  {
   "cell_type": "code",
   "execution_count": null,
   "id": "4f4f741f-17e2-4b62-9129-e24b9f6f9c01",
   "metadata": {},
   "outputs": [],
   "source": [
    "arr3=np.concatenate((arr1,arr2))\n",
    "arr3"
   ]
  },
  {
   "cell_type": "code",
   "execution_count": null,
   "id": "db4b0cfd-c489-4537-aebc-6914a96888cf",
   "metadata": {},
   "outputs": [],
   "source": []
  },
  {
   "cell_type": "markdown",
   "id": "86c9c835-3dde-45de-a681-b4f933a5aa05",
   "metadata": {},
   "source": [
    "**2-D array**"
   ]
  },
  {
   "cell_type": "code",
   "execution_count": null,
   "id": "b2529e54-374f-41cd-aa43-9eeac1f462ce",
   "metadata": {},
   "outputs": [],
   "source": [
    "arr1 = np.array([[1, 2],[3,4]])\n",
    "\n",
    "arr2 = np.array([[6,7],[8,9]])\n"
   ]
  },
  {
   "cell_type": "code",
   "execution_count": null,
   "id": "e8b9ab3c-690b-41c4-a12f-840f9f6d440b",
   "metadata": {},
   "outputs": [],
   "source": [
    "arr1"
   ]
  },
  {
   "cell_type": "code",
   "execution_count": null,
   "id": "d34f2231-284b-4ee7-8eea-8d4478a3847d",
   "metadata": {},
   "outputs": [],
   "source": [
    "arr3=np.concatenate((arr1,arr2),axis=1)"
   ]
  },
  {
   "cell_type": "code",
   "execution_count": null,
   "id": "8f85e093-90bb-4f42-9e00-082cdd208649",
   "metadata": {},
   "outputs": [],
   "source": [
    "arr3"
   ]
  },
  {
   "cell_type": "code",
   "execution_count": null,
   "id": "990dea16-d9cc-44b7-b031-93a7e5c0eacd",
   "metadata": {},
   "outputs": [],
   "source": []
  },
  {
   "cell_type": "code",
   "execution_count": null,
   "id": "4b2f3faa-222a-42b0-912d-ad2d6e7f4714",
   "metadata": {},
   "outputs": [],
   "source": [
    "arr1 = np.array([1, 2,3,4,5])\n",
    "\n",
    "arr2 = np.array([6,7,8,9,10])\n",
    "arr3=np.concatenate((arr1,arr2))\n",
    "arr3"
   ]
  },
  {
   "cell_type": "markdown",
   "id": "0c077baf-1473-46eb-8119-8cbf6c0448b6",
   "metadata": {},
   "source": [
    "## We can also use **stack**"
   ]
  },
  {
   "cell_type": "markdown",
   "id": "62e7806a-de35-4677-8246-96ebf3c6b2fd",
   "metadata": {},
   "source": [
    "use **vstack()** for vertical and **hstack()** for horizontal"
   ]
  },
  {
   "cell_type": "code",
   "execution_count": null,
   "id": "c117e01f-7889-490b-b77b-6a2b0014563d",
   "metadata": {},
   "outputs": [],
   "source": [
    "arr1 = np.array([[1, 2],[3,4]])\n",
    "\n",
    "arr2 = np.array([[6,7],[8,9]])\n"
   ]
  },
  {
   "cell_type": "code",
   "execution_count": null,
   "id": "c85ec2a9-5428-440e-a84b-a03b53453e78",
   "metadata": {},
   "outputs": [],
   "source": [
    "arr3=np.vstack((arr1,arr2))"
   ]
  },
  {
   "cell_type": "code",
   "execution_count": null,
   "id": "0d88c494-0fb2-41d5-9005-a77a3b9f11a8",
   "metadata": {},
   "outputs": [],
   "source": [
    "arr3\n"
   ]
  },
  {
   "cell_type": "code",
   "execution_count": null,
   "id": "59a8be66-3283-4c21-aff5-bdaf12cda53a",
   "metadata": {},
   "outputs": [],
   "source": [
    "arr3=np.hstack((arr1,arr2))\n",
    "arr3"
   ]
  },
  {
   "cell_type": "code",
   "execution_count": null,
   "id": "5792c7e7-f4f6-4b64-adb9-02d90d81ecfc",
   "metadata": {},
   "outputs": [],
   "source": []
  },
  {
   "cell_type": "code",
   "execution_count": null,
   "id": "88619192-95df-4434-893e-baf3327fd9a9",
   "metadata": {},
   "outputs": [],
   "source": []
  },
  {
   "cell_type": "code",
   "execution_count": null,
   "id": "288138d2-8efa-4970-9d82-d308a38f5f19",
   "metadata": {},
   "outputs": [],
   "source": []
  },
  {
   "cell_type": "code",
   "execution_count": null,
   "id": "721d14dc-23f0-4ca7-a272-217035258432",
   "metadata": {},
   "outputs": [],
   "source": []
  },
  {
   "cell_type": "code",
   "execution_count": null,
   "id": "13985572-7e0f-41d4-9561-483a3d5d0f46",
   "metadata": {},
   "outputs": [],
   "source": []
  },
  {
   "cell_type": "code",
   "execution_count": null,
   "id": "418ccfe8-6fba-45f8-8c7e-a5890caccf8c",
   "metadata": {},
   "outputs": [],
   "source": []
  },
  {
   "cell_type": "code",
   "execution_count": null,
   "id": "22507199-2d0c-49d5-ac8b-f858d9ebf4e2",
   "metadata": {},
   "outputs": [],
   "source": []
  },
  {
   "cell_type": "code",
   "execution_count": null,
   "id": "8a53a1a6-01fa-419b-a739-8e0db38ed618",
   "metadata": {},
   "outputs": [],
   "source": []
  },
  {
   "cell_type": "code",
   "execution_count": null,
   "id": "9ef37da1-e9a5-4567-b151-eba5eac0806f",
   "metadata": {},
   "outputs": [],
   "source": []
  },
  {
   "cell_type": "code",
   "execution_count": null,
   "id": "0ade1e9a-771b-4ceb-aeeb-a2481db1f12c",
   "metadata": {},
   "outputs": [],
   "source": []
  },
  {
   "cell_type": "code",
   "execution_count": null,
   "id": "59528e73-7111-4d71-9870-0983dda0ded0",
   "metadata": {},
   "outputs": [],
   "source": [
    "arr1 = np.array([[1, 2],[3,4]])\n",
    "\n",
    "arr2 = np.array([[6,7],[8,9]])\n",
    "arr3=np.vstack((arr1,arr2))\n",
    "arr3"
   ]
  },
  {
   "cell_type": "code",
   "execution_count": null,
   "id": "793e77f7-848b-4082-9f73-ee30fb2d71f1",
   "metadata": {},
   "outputs": [],
   "source": [
    "arr1 = np.array([[1, 2],[3,4]])\n",
    "\n",
    "arr2 = np.array([[6,7],[8,9]])\n",
    "arr3=np.hstack((arr1,arr2))\n",
    "arr3"
   ]
  },
  {
   "cell_type": "code",
   "execution_count": null,
   "id": "2abdcb4d-5ed5-4e2f-81dc-129afa3c3347",
   "metadata": {},
   "outputs": [],
   "source": []
  },
  {
   "cell_type": "markdown",
   "id": "0b1d58e5-01d9-4e21-9338-316436314ad7",
   "metadata": {},
   "source": [
    "## There are various ways to create a numpy array"
   ]
  },
  {
   "cell_type": "markdown",
   "id": "c4e56c0f-491e-42a4-be75-4a90c1d396a3",
   "metadata": {},
   "source": [
    "**An Array of all zeros**"
   ]
  },
  {
   "cell_type": "markdown",
   "id": "23d1f0ba-55d4-4c55-83c6-d5173a145612",
   "metadata": {},
   "source": [
    "syntax=np.zeros(shape)"
   ]
  },
  {
   "cell_type": "code",
   "execution_count": null,
   "id": "3b0a1a43-88a0-4c11-b8cd-74de989cfbe7",
   "metadata": {},
   "outputs": [],
   "source": [
    "arr=np.zeros((4,5))\n",
    "arr"
   ]
  },
  {
   "cell_type": "markdown",
   "id": "5b2f7996-c37e-4049-b317-f4f27ef4ea6d",
   "metadata": {},
   "source": [
    "**An Array of all ones**"
   ]
  },
  {
   "cell_type": "markdown",
   "id": "f1ac9178-f3e8-44aa-aa2d-cf4aa8ef53f5",
   "metadata": {},
   "source": [
    "syntax=np.ones(shape)"
   ]
  },
  {
   "cell_type": "code",
   "execution_count": null,
   "id": "96a758d1-824f-46b0-a5c8-1126a51dc602",
   "metadata": {},
   "outputs": [],
   "source": [
    "arr=np.ones((4,5))\n",
    "arr"
   ]
  },
  {
   "cell_type": "markdown",
   "id": "f690df0d-a7f0-40c4-9901-1087804b2d02",
   "metadata": {},
   "source": [
    "**An array of a specfic integer**"
   ]
  },
  {
   "cell_type": "markdown",
   "id": "0b205795-851b-4866-ade8-155a8700e649",
   "metadata": {},
   "source": [
    "syntax=np.full(shape,integer)"
   ]
  },
  {
   "cell_type": "code",
   "execution_count": null,
   "id": "660de80c-11a0-4ead-8419-e6913108e00f",
   "metadata": {},
   "outputs": [],
   "source": [
    "arr=np.full((2,2),'stattech academy')\n",
    "arr"
   ]
  },
  {
   "cell_type": "markdown",
   "id": "d557f0b2-464c-4b00-a020-b15493396b48",
   "metadata": {},
   "source": [
    "**An array of identity matrixr**"
   ]
  },
  {
   "cell_type": "markdown",
   "id": "149217b2-29f6-40e2-bb80-609533a6811b",
   "metadata": {},
   "source": [
    "syntax=np.eye(size)"
   ]
  },
  {
   "cell_type": "code",
   "execution_count": null,
   "id": "6c1d570f-0dc1-452c-a66f-58fc18bac493",
   "metadata": {},
   "outputs": [],
   "source": [
    "arr=np.eye(5)\n",
    "arr"
   ]
  },
  {
   "cell_type": "code",
   "execution_count": null,
   "id": "e6771eaa-fd6d-4df8-9f14-d3311599d3c7",
   "metadata": {},
   "outputs": [],
   "source": []
  },
  {
   "cell_type": "markdown",
   "id": "8bc68f40-46b6-48c1-9ba6-817834055481",
   "metadata": {},
   "source": [
    "**An array of random integers**\n",
    "\n",
    "syntax=np.ranom.randint(low,high,size)"
   ]
  },
  {
   "cell_type": "code",
   "execution_count": null,
   "id": "8307b630-7ab8-40bd-8e0b-50953d684ac9",
   "metadata": {},
   "outputs": [],
   "source": [
    "np.random.randint(10,100,(3,3))"
   ]
  },
  {
   "cell_type": "code",
   "execution_count": null,
   "id": "62d547eb-35a1-4235-86f8-7f12a8cdb345",
   "metadata": {},
   "outputs": [],
   "source": []
  },
  {
   "cell_type": "code",
   "execution_count": null,
   "id": "f7a544e0-775a-418a-9a47-5930b2194224",
   "metadata": {},
   "outputs": [],
   "source": []
  },
  {
   "cell_type": "code",
   "execution_count": null,
   "id": "e75e2789-d1c9-4a5a-b3cb-0c24e5f79213",
   "metadata": {},
   "outputs": [],
   "source": []
  },
  {
   "cell_type": "code",
   "execution_count": null,
   "id": "15c7d3c8-9888-40cc-8e0a-cb2b511b5c4a",
   "metadata": {},
   "outputs": [],
   "source": []
  },
  {
   "cell_type": "code",
   "execution_count": null,
   "id": "55e61324-39d9-49bc-a33e-493653743310",
   "metadata": {},
   "outputs": [],
   "source": []
  },
  {
   "cell_type": "code",
   "execution_count": null,
   "id": "8f666ed0-b9d6-42af-856d-6ef29c869658",
   "metadata": {},
   "outputs": [],
   "source": []
  },
  {
   "cell_type": "code",
   "execution_count": null,
   "id": "e8849309-b8cb-4b46-aab5-1f1ddb18d9b2",
   "metadata": {},
   "outputs": [],
   "source": []
  },
  {
   "cell_type": "code",
   "execution_count": null,
   "id": "421b7446-17dd-4505-aba0-762db2fb2f91",
   "metadata": {},
   "outputs": [],
   "source": []
  },
  {
   "cell_type": "code",
   "execution_count": null,
   "id": "b611868d-58d2-4151-89f7-fc1b92fac63c",
   "metadata": {},
   "outputs": [],
   "source": []
  },
  {
   "cell_type": "code",
   "execution_count": null,
   "id": "45f38831-0587-4717-9ea5-5f2965df116a",
   "metadata": {},
   "outputs": [],
   "source": []
  },
  {
   "cell_type": "code",
   "execution_count": null,
   "id": "cad8cc59-f313-4248-95d4-6bb465e7ea1f",
   "metadata": {},
   "outputs": [],
   "source": []
  },
  {
   "cell_type": "markdown",
   "id": "8e1bf584-0f6f-4092-a67b-5dc88793de1d",
   "metadata": {},
   "source": [
    "**An array of evenly spread values between specific integers**\n",
    "\n",
    "syntax=np.linspace(start,end,size)"
   ]
  },
  {
   "cell_type": "code",
   "execution_count": null,
   "id": "46849ef5-1cf3-4583-9b70-5034dd839374",
   "metadata": {},
   "outputs": [],
   "source": [
    "np.linspace(10,20,6)"
   ]
  },
  {
   "cell_type": "markdown",
   "id": "34358f9d-83f3-4c56-bd80-401d6a7c933b",
   "metadata": {},
   "source": [
    "**A diagonal matrix**"
   ]
  },
  {
   "cell_type": "code",
   "execution_count": null,
   "id": "959ff463-f1f8-4332-bc3f-e8e549bb479c",
   "metadata": {},
   "outputs": [],
   "source": [
    "np.diag([1,2,3,4,5,6,7])"
   ]
  },
  {
   "cell_type": "code",
   "execution_count": null,
   "id": "d06c98c2-fa10-4be1-b93d-b72e4f7e7803",
   "metadata": {},
   "outputs": [],
   "source": []
  },
  {
   "cell_type": "code",
   "execution_count": null,
   "id": "b80dbf73-c663-41a5-ba8c-8f0873e6bdf7",
   "metadata": {},
   "outputs": [],
   "source": [
    "list=[1,2,3,4,5]\n",
    "arr=np.array(list)\n",
    "arr"
   ]
  },
  {
   "cell_type": "code",
   "execution_count": null,
   "id": "8ab5e5bc-098e-4fbe-a0d2-a475d6d3a002",
   "metadata": {},
   "outputs": [],
   "source": []
  },
  {
   "cell_type": "code",
   "execution_count": null,
   "id": "001bcd5c-a9ce-4dea-a427-6e8f3cac97a8",
   "metadata": {},
   "outputs": [],
   "source": []
  },
  {
   "cell_type": "code",
   "execution_count": null,
   "id": "00caa15c-e522-41ef-9617-1b7adda91b60",
   "metadata": {},
   "outputs": [],
   "source": []
  },
  {
   "cell_type": "code",
   "execution_count": null,
   "id": "85b5805d-74bf-4768-be29-ddfce6777f9f",
   "metadata": {},
   "outputs": [],
   "source": []
  },
  {
   "cell_type": "code",
   "execution_count": null,
   "id": "b3319912-c3fe-4222-9ef0-3097234fff61",
   "metadata": {},
   "outputs": [],
   "source": []
  },
  {
   "cell_type": "code",
   "execution_count": null,
   "id": "28309b19-1e91-4142-887c-714f359f760a",
   "metadata": {},
   "outputs": [],
   "source": []
  },
  {
   "cell_type": "code",
   "execution_count": null,
   "id": "7b013b42-a0f6-482b-bb2e-1b767d6f88a2",
   "metadata": {},
   "outputs": [],
   "source": []
  },
  {
   "cell_type": "code",
   "execution_count": 1,
   "id": "146d630b-1d6e-4c89-b1c6-b5a8e22df684",
   "metadata": {},
   "outputs": [],
   "source": [
    "import numpy as np"
   ]
  },
  {
   "cell_type": "markdown",
   "id": "a831c68d-b283-4af2-8819-4c3a1869bd7a",
   "metadata": {},
   "source": [
    "## Mathematical operations on arrays"
   ]
  },
  {
   "cell_type": "code",
   "execution_count": 2,
   "id": "8d912f38-9e19-4bee-8526-2813c28f2fdc",
   "metadata": {},
   "outputs": [],
   "source": [
    "arr1=np.array([1,2,3])\n",
    "arr2=np.array([4,5,6])\n"
   ]
  },
  {
   "cell_type": "markdown",
   "id": "7fbc213f-177a-4239-9832-e11e48af46f6",
   "metadata": {},
   "source": [
    "**add elements of arrays**"
   ]
  },
  {
   "cell_type": "code",
   "execution_count": 3,
   "id": "d3347359-13b1-4399-b8cb-4bfa585fc1b0",
   "metadata": {},
   "outputs": [
    {
     "data": {
      "text/plain": [
       "array([5, 7, 9])"
      ]
     },
     "execution_count": 3,
     "metadata": {},
     "output_type": "execute_result"
    }
   ],
   "source": [
    "arr1+arr2"
   ]
  },
  {
   "cell_type": "code",
   "execution_count": 4,
   "id": "8b1b54af-6ce0-44fc-9e67-acc596158ac1",
   "metadata": {},
   "outputs": [
    {
     "data": {
      "text/plain": [
       "array([-3, -3, -3])"
      ]
     },
     "execution_count": 4,
     "metadata": {},
     "output_type": "execute_result"
    }
   ],
   "source": [
    "arr1-arr2"
   ]
  },
  {
   "cell_type": "code",
   "execution_count": 5,
   "id": "a5be85ec-6ff4-4155-ab67-3906194adedd",
   "metadata": {},
   "outputs": [
    {
     "data": {
      "text/plain": [
       "array([5, 7, 9])"
      ]
     },
     "execution_count": 5,
     "metadata": {},
     "output_type": "execute_result"
    }
   ],
   "source": [
    "np.add(arr1,arr2)"
   ]
  },
  {
   "cell_type": "markdown",
   "id": "1901e7ff-2ef6-4af0-a914-68995985b2fc",
   "metadata": {},
   "source": [
    "**multiply elements of array**"
   ]
  },
  {
   "cell_type": "code",
   "execution_count": 6,
   "id": "48b22c0a-cbef-4d2c-afd7-1dbc398ef729",
   "metadata": {},
   "outputs": [
    {
     "data": {
      "text/plain": [
       "array([ 4, 10, 18])"
      ]
     },
     "execution_count": 6,
     "metadata": {},
     "output_type": "execute_result"
    }
   ],
   "source": [
    "arr1*arr2"
   ]
  },
  {
   "cell_type": "code",
   "execution_count": 7,
   "id": "969a25bf-c73b-4da3-a050-066275a6c8d1",
   "metadata": {},
   "outputs": [
    {
     "data": {
      "text/plain": [
       "array([ 4, 10, 18])"
      ]
     },
     "execution_count": 7,
     "metadata": {},
     "output_type": "execute_result"
    }
   ],
   "source": [
    "np.multiply(arr1,arr2)"
   ]
  },
  {
   "cell_type": "markdown",
   "id": "9b9a4dc9-eb39-481c-ac61-773ce70f1db7",
   "metadata": {},
   "source": [
    "**divide elements of array**"
   ]
  },
  {
   "cell_type": "code",
   "execution_count": 8,
   "id": "75323357-5bad-4899-9ccc-11144aecbaa5",
   "metadata": {},
   "outputs": [
    {
     "data": {
      "text/plain": [
       "array([0.25, 0.4 , 0.5 ])"
      ]
     },
     "execution_count": 8,
     "metadata": {},
     "output_type": "execute_result"
    }
   ],
   "source": [
    "arr1/arr2"
   ]
  },
  {
   "cell_type": "code",
   "execution_count": 9,
   "id": "39bc46bd-f381-4620-9af3-3547718d6b1d",
   "metadata": {},
   "outputs": [
    {
     "data": {
      "text/plain": [
       "array([0.25, 0.4 , 0.5 ])"
      ]
     },
     "execution_count": 9,
     "metadata": {},
     "output_type": "execute_result"
    }
   ],
   "source": [
    "np.divide(arr1,arr2)"
   ]
  },
  {
   "cell_type": "code",
   "execution_count": null,
   "id": "30182e6a-88f0-4bdf-a9e6-ecc1b4249281",
   "metadata": {},
   "outputs": [],
   "source": []
  },
  {
   "cell_type": "markdown",
   "id": "f674c7f7-49fa-4749-b548-8ece2350dafb",
   "metadata": {},
   "source": [
    "**square root**"
   ]
  },
  {
   "cell_type": "code",
   "execution_count": 10,
   "id": "ed778216-f908-457f-8b89-cf295bc3f58a",
   "metadata": {},
   "outputs": [
    {
     "data": {
      "text/plain": [
       "2.23606797749979"
      ]
     },
     "execution_count": 10,
     "metadata": {},
     "output_type": "execute_result"
    }
   ],
   "source": [
    "np.sqrt(5)"
   ]
  },
  {
   "cell_type": "markdown",
   "id": "8b6f091a-9ef4-4b45-9adf-bb8006cf7d13",
   "metadata": {},
   "source": [
    "**cube root**"
   ]
  },
  {
   "cell_type": "code",
   "execution_count": 11,
   "id": "5c279313-f5d8-4f2a-ba67-6dee7a01e67e",
   "metadata": {},
   "outputs": [
    {
     "data": {
      "text/plain": [
       "2.0"
      ]
     },
     "execution_count": 11,
     "metadata": {},
     "output_type": "execute_result"
    }
   ],
   "source": [
    "np.cbrt(8) "
   ]
  },
  {
   "cell_type": "markdown",
   "id": "f454a430-d16f-4859-bd8a-85fd54830cdd",
   "metadata": {},
   "source": [
    "**power**"
   ]
  },
  {
   "cell_type": "code",
   "execution_count": 12,
   "id": "ff7163b8-c7fa-4c49-a958-e033e8a0dc3a",
   "metadata": {},
   "outputs": [
    {
     "data": {
      "text/plain": [
       "8"
      ]
     },
     "execution_count": 12,
     "metadata": {},
     "output_type": "execute_result"
    }
   ],
   "source": [
    "np.power(2,3)"
   ]
  },
  {
   "cell_type": "markdown",
   "id": "ec514044-ac81-4ed6-acb9-edf8147d76d3",
   "metadata": {},
   "source": [
    "All maths functions https://numpy.org/doc/stable/reference/routines.math.html"
   ]
  },
  {
   "cell_type": "markdown",
   "id": "63170507-6497-4341-945e-69c46977cc7c",
   "metadata": {},
   "source": [
    "### other operations"
   ]
  },
  {
   "cell_type": "markdown",
   "id": "16a8fe4e-ccf5-4693-a54b-b8d4df4f9152",
   "metadata": {},
   "source": [
    "**log base 10**"
   ]
  },
  {
   "cell_type": "code",
   "execution_count": 13,
   "id": "088a8f2a-7c4b-4cb7-b376-a765c6d2c350",
   "metadata": {},
   "outputs": [
    {
     "data": {
      "text/plain": [
       "array([0.        , 0.30103   , 0.47712125])"
      ]
     },
     "execution_count": 13,
     "metadata": {},
     "output_type": "execute_result"
    }
   ],
   "source": [
    "np.log10(arr1)"
   ]
  },
  {
   "cell_type": "code",
   "execution_count": 14,
   "id": "b10692e5-af7d-4a6d-a43f-973786e2aee8",
   "metadata": {},
   "outputs": [
    {
     "data": {
      "text/plain": [
       "0.6989700043360189"
      ]
     },
     "execution_count": 14,
     "metadata": {},
     "output_type": "execute_result"
    }
   ],
   "source": [
    "np.log10(5)"
   ]
  },
  {
   "cell_type": "markdown",
   "id": "5e53b0ad-b8da-4143-ad65-f6428e23918f",
   "metadata": {},
   "source": [
    "**log base 2**"
   ]
  },
  {
   "cell_type": "code",
   "execution_count": 15,
   "id": "655a7340-9f55-4f74-93bd-7768d76fda5a",
   "metadata": {},
   "outputs": [
    {
     "data": {
      "text/plain": [
       "array([0.        , 0.69314718, 1.09861229])"
      ]
     },
     "execution_count": 15,
     "metadata": {},
     "output_type": "execute_result"
    }
   ],
   "source": [
    "np.log(arr1)"
   ]
  },
  {
   "cell_type": "code",
   "execution_count": 16,
   "id": "16e603db-db8b-42a9-b64e-074b1a5af173",
   "metadata": {},
   "outputs": [
    {
     "data": {
      "text/plain": [
       "1.6094379124341003"
      ]
     },
     "execution_count": 16,
     "metadata": {},
     "output_type": "execute_result"
    }
   ],
   "source": [
    "np.log(5)"
   ]
  },
  {
   "cell_type": "markdown",
   "id": "a185ddf3-bec7-4d89-8b97-b30408c76ca1",
   "metadata": {},
   "source": [
    "**sin values of array**"
   ]
  },
  {
   "cell_type": "code",
   "execution_count": 17,
   "id": "c4bb5415-9431-436d-8681-86c715f5c2ae",
   "metadata": {},
   "outputs": [
    {
     "data": {
      "text/plain": [
       "array([0.84147098, 0.90929743, 0.14112001])"
      ]
     },
     "execution_count": 17,
     "metadata": {},
     "output_type": "execute_result"
    }
   ],
   "source": [
    "np.sin(arr1)"
   ]
  },
  {
   "cell_type": "markdown",
   "id": "36873de2-520f-4ab1-b8b4-470698e422c9",
   "metadata": {},
   "source": [
    "**cosine values of array**"
   ]
  },
  {
   "cell_type": "code",
   "execution_count": 18,
   "id": "dca94abf-111a-427f-bede-6e0550851797",
   "metadata": {},
   "outputs": [
    {
     "data": {
      "text/plain": [
       "array([ 0.54030231, -0.41614684, -0.9899925 ])"
      ]
     },
     "execution_count": 18,
     "metadata": {},
     "output_type": "execute_result"
    }
   ],
   "source": [
    "np.cos(arr1)"
   ]
  },
  {
   "cell_type": "markdown",
   "id": "d53aebe4-5dfb-45d8-a53f-453457b22905",
   "metadata": {},
   "source": [
    "**add all elements of array**"
   ]
  },
  {
   "cell_type": "code",
   "execution_count": 19,
   "id": "c82fbca8-5a80-4781-bd2c-a3ce30855b6e",
   "metadata": {},
   "outputs": [
    {
     "data": {
      "text/plain": [
       "6"
      ]
     },
     "execution_count": 19,
     "metadata": {},
     "output_type": "execute_result"
    }
   ],
   "source": [
    "np.sum(arr1)"
   ]
  },
  {
   "cell_type": "markdown",
   "id": "a007dca6-7b71-4b44-aef3-c6d324249aaa",
   "metadata": {},
   "source": [
    "**minimum value in an array**"
   ]
  },
  {
   "cell_type": "code",
   "execution_count": 20,
   "id": "37ae2106-efaa-4e92-819f-bb942fc0279a",
   "metadata": {},
   "outputs": [
    {
     "data": {
      "text/plain": [
       "1"
      ]
     },
     "execution_count": 20,
     "metadata": {},
     "output_type": "execute_result"
    }
   ],
   "source": [
    "np.min(arr1)"
   ]
  },
  {
   "cell_type": "markdown",
   "id": "acabcf04-c69d-4caf-a5a3-2837c89dd830",
   "metadata": {},
   "source": [
    "**max value in an array**"
   ]
  },
  {
   "cell_type": "code",
   "execution_count": 21,
   "id": "9618677d-30fb-4e81-ac40-4380d3c502bd",
   "metadata": {},
   "outputs": [
    {
     "data": {
      "text/plain": [
       "3"
      ]
     },
     "execution_count": 21,
     "metadata": {},
     "output_type": "execute_result"
    }
   ],
   "source": [
    "np.max(arr1)"
   ]
  },
  {
   "cell_type": "markdown",
   "id": "e3abfcdc-dc5a-423b-8ba4-c5b4965427fd",
   "metadata": {},
   "source": [
    "**mean of an array**"
   ]
  },
  {
   "cell_type": "code",
   "execution_count": 22,
   "id": "4b71f8a0-cfdc-44a7-ba50-45ec5a6b3295",
   "metadata": {},
   "outputs": [
    {
     "data": {
      "text/plain": [
       "2.0"
      ]
     },
     "execution_count": 22,
     "metadata": {},
     "output_type": "execute_result"
    }
   ],
   "source": [
    "np.mean(arr1)"
   ]
  },
  {
   "cell_type": "markdown",
   "id": "796c3e4d-db45-4319-aac4-f7da61ae98d5",
   "metadata": {},
   "source": [
    "**median of an array**"
   ]
  },
  {
   "cell_type": "code",
   "execution_count": 23,
   "id": "dacac990-66e0-44ee-b391-6ef3a13c66c4",
   "metadata": {},
   "outputs": [
    {
     "data": {
      "text/plain": [
       "2.0"
      ]
     },
     "execution_count": 23,
     "metadata": {},
     "output_type": "execute_result"
    }
   ],
   "source": [
    "np.median(arr1)"
   ]
  },
  {
   "cell_type": "markdown",
   "id": "3c063eae-d1d2-4051-ac5b-3f698929bfad",
   "metadata": {},
   "source": [
    "**Create a copy of an array**"
   ]
  },
  {
   "cell_type": "code",
   "execution_count": 24,
   "id": "fec1e4ac-3f59-4b2f-81af-c5ddc93cae12",
   "metadata": {},
   "outputs": [],
   "source": [
    "l=np.copy(arr1)"
   ]
  },
  {
   "cell_type": "code",
   "execution_count": 25,
   "id": "de367554-7952-48b5-883c-c18c0644016d",
   "metadata": {},
   "outputs": [
    {
     "data": {
      "text/plain": [
       "array([1, 2, 3])"
      ]
     },
     "execution_count": 25,
     "metadata": {},
     "output_type": "execute_result"
    }
   ],
   "source": [
    "l"
   ]
  },
  {
   "cell_type": "markdown",
   "id": "f0021a4c-692d-46a5-938a-6a6ddc54fff4",
   "metadata": {},
   "source": [
    "### Set operations on array"
   ]
  },
  {
   "cell_type": "code",
   "execution_count": 27,
   "id": "7a3f03e2-0c24-45f2-9012-a5c98c4f0ee6",
   "metadata": {},
   "outputs": [],
   "source": [
    "arr1=np.array([1,2,3,4,5,6])\n",
    "arr2=np.array([5,6,7,8,9,10])\n"
   ]
  },
  {
   "cell_type": "code",
   "execution_count": 28,
   "id": "29b0ae43-5441-4a9d-a0ba-70891dfd1c6d",
   "metadata": {},
   "outputs": [
    {
     "data": {
      "text/plain": [
       "array([1, 2, 3, 4])"
      ]
     },
     "execution_count": 28,
     "metadata": {},
     "output_type": "execute_result"
    }
   ],
   "source": [
    "np.setdiff1d(arr1,arr2)"
   ]
  },
  {
   "cell_type": "code",
   "execution_count": 29,
   "id": "8a1970cc-7e81-4517-b6a7-ac799d66669e",
   "metadata": {},
   "outputs": [
    {
     "data": {
      "text/plain": [
       "array([5, 6])"
      ]
     },
     "execution_count": 29,
     "metadata": {},
     "output_type": "execute_result"
    }
   ],
   "source": [
    "np.intersect1d(arr1,arr2)"
   ]
  },
  {
   "cell_type": "code",
   "execution_count": 30,
   "id": "69ddc60e-2dfc-4d3f-aaf7-44536db3c1be",
   "metadata": {},
   "outputs": [
    {
     "data": {
      "text/plain": [
       "array([ 1,  2,  3,  4,  5,  6,  7,  8,  9, 10])"
      ]
     },
     "execution_count": 30,
     "metadata": {},
     "output_type": "execute_result"
    }
   ],
   "source": [
    "np.union1d(arr1,arr2)"
   ]
  },
  {
   "cell_type": "markdown",
   "id": "85fb08e9-801d-40c7-9eaf-80816a53001c",
   "metadata": {},
   "source": []
  },
  {
   "cell_type": "code",
   "execution_count": null,
   "id": "cdde2546-d4ff-4b55-8806-fc1981d6de90",
   "metadata": {},
   "outputs": [],
   "source": []
  }
 ],
 "metadata": {
  "kernelspec": {
   "display_name": "Python 3 (ipykernel)",
   "language": "python",
   "name": "python3"
  },
  "language_info": {
   "codemirror_mode": {
    "name": "ipython",
    "version": 3
   },
   "file_extension": ".py",
   "mimetype": "text/x-python",
   "name": "python",
   "nbconvert_exporter": "python",
   "pygments_lexer": "ipython3",
   "version": "3.12.1"
  }
 },
 "nbformat": 4,
 "nbformat_minor": 5
}
